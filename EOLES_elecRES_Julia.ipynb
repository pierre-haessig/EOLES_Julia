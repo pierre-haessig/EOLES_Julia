{
 "cells": [
  {
   "cell_type": "markdown",
   "metadata": {},
   "source": [
    "# EOLES_elecRES in Julia\n",
    "\n",
    "This notebook is a translation to Julia (with [JuMP](https://jump.dev/))\n",
    "of the 100% renewable electricity optimization model [EOLES_elecRES](https://github.com/BehrangShirizadeh/EOLES_elecRES) which is written in [GAMS](https://www.gams.com/latest/docs/UG_MAIN.html).\n",
    "\n",
    "More precisely this is the port of the [EOLES_elecRES.gms](https://github.com/BehrangShirizadeh/EOLES_elecRES/blob/master/model/EOLES_elecRES.gms) model. The translation is a close as possible to the original GAMS code, with many reproduction of GAMS code extracts.\n",
    "\n",
    "**License:**\n",
    "\n",
    "The original model is licensed under a Creative Commons Attribution-NonCommercial-ShareAlike 4.0 International License ([CC BY-NC-SA 4.0](http://creativecommons.org/licenses/by-nc-sa/4.0/)).\n",
    "Written by Behrang Shirizadeh, Quentin Perrier and Philippe Quirion, October 2020.\n",
    "\n",
    "This Julia notebook, which is a derivative work, is made available under the same license by Pierre Haessig, February 2021."
   ]
  },
  {
   "cell_type": "code",
   "execution_count": 1,
   "metadata": {},
   "outputs": [
    {
     "name": "stderr",
     "output_type": "stream",
     "text": [
      "┌ Info: Precompiling Clp [e2554f3b-3117-50c0-817c-e040a3ddf72d]\n",
      "└ @ Base loading.jl:1278\n"
     ]
    }
   ],
   "source": [
    "using CSV, DataFrames, PyPlot\n",
    "using JuMP, Clp"
   ]
  },
  {
   "cell_type": "code",
   "execution_count": 2,
   "metadata": {},
   "outputs": [],
   "source": [
    "const DAArray = JuMP.Containers.DenseAxisArray;"
   ]
  },
  {
   "cell_type": "markdown",
   "metadata": {},
   "source": [
    "## Model data"
   ]
  },
  {
   "cell_type": "markdown",
   "metadata": {},
   "source": [
    "### Sets"
   ]
  },
  {
   "cell_type": "markdown",
   "metadata": {},
   "source": [
    "#### hours and months\n",
    "\n",
    "See GAMS User guide, [§Set Definition/Sequences as Set Elements](https://www.gams.com/latest/docs/UG_SetDefinition.html#UG_SetDefinition_SequencesAsSetElements) for the definition of `*`"
   ]
  },
  {
   "cell_type": "markdown",
   "metadata": {},
   "source": [
    "sets `h /0*8759/`\n",
    "\n",
    "         first(h)        'first hour'\n",
    "         last(h)         'last hour'\n",
    "         \n",
    "         first(h) = ord(h)=1;\n",
    "last(h) = ord(h)=card(h);\n",
    "\n",
    "alias(h,hh);"
   ]
  },
  {
   "cell_type": "code",
   "execution_count": 3,
   "metadata": {},
   "outputs": [
    {
     "data": {
      "text/plain": [
       "0:8759"
      ]
     },
     "execution_count": 3,
     "metadata": {},
     "output_type": "execute_result"
    }
   ],
   "source": [
    "h = 0:8759"
   ]
  },
  {
   "cell_type": "code",
   "execution_count": 4,
   "metadata": {},
   "outputs": [],
   "source": [
    "first_h = h .== h[1] # BitArray, with first element true\n",
    "last_h = h .== h[end]; # BitArray, with last element true"
   ]
  },
  {
   "cell_type": "code",
   "execution_count": 5,
   "metadata": {},
   "outputs": [
    {
     "data": {
      "text/plain": [
       "12-element Array{Symbol,1}:\n",
       " :jan\n",
       " :feb\n",
       " :mar\n",
       " :apr\n",
       " :may\n",
       " :jun\n",
       " :jul\n",
       " :aug\n",
       " :sep\n",
       " :oct\n",
       " :nov\n",
       " :dec"
      ]
     },
     "execution_count": 5,
     "metadata": {},
     "output_type": "execute_result"
    }
   ],
   "source": [
    "m = [:jan, :feb, :mar, :apr, :may, :jun, :jul, :aug, :sep, :oct, :nov, :dec]"
   ]
  },
  {
   "cell_type": "markdown",
   "metadata": {},
   "source": [
    "#### technology sets"
   ]
  },
  {
   "cell_type": "markdown",
   "metadata": {},
   "source": [
    "All technologies"
   ]
  },
  {
   "cell_type": "code",
   "execution_count": 6,
   "metadata": {},
   "outputs": [
    {
     "data": {
      "text/plain": [
       "10-element Array{Symbol,1}:\n",
       " :offshore\n",
       " :onshore\n",
       " :pv\n",
       " :river\n",
       " :lake\n",
       " :biogas\n",
       " :gas\n",
       " :phs\n",
       " :battery\n",
       " :methanation"
      ]
     },
     "execution_count": 6,
     "metadata": {},
     "output_type": "execute_result"
    }
   ],
   "source": [
    "tec = [:offshore, :onshore, :pv, :river, :lake, :biogas, :gas, :phs, :battery, :methanation] "
   ]
  },
  {
   "cell_type": "markdown",
   "metadata": {},
   "source": [
    "Subsets of `tec`"
   ]
  },
  {
   "cell_type": "code",
   "execution_count": 7,
   "metadata": {},
   "outputs": [],
   "source": [
    "# power plants\n",
    "gen = [:offshore, :onshore, :pv, :river, :lake, :biogas, :gas]\n",
    "# variable tecs\n",
    "vre = [:offshore, :onshore, :pv]\n",
    "# non-combustible generation\n",
    "ncomb = [:offshore, :onshore, :pv, :river, :lake, :phs, :battery]\n",
    "# combustible generation techs\n",
    "# Remark: in equations, its defined that 'gas' generation \n",
    "# is the sum of the generations from 'comb' elements\n",
    "comb = [:biogas, :methanation]\n",
    "# storage technologies\n",
    "str = [:phs, :battery, :methanation]\n",
    "# technologies for upward FRR\n",
    "frr = [:lake, :phs, :battery, :gas];"
   ]
  },
  {
   "cell_type": "markdown",
   "metadata": {},
   "source": [
    "Check that subsets are indeed subsets (i.e. performing the automatic [domain checking](https://www.gams.com/latest/docs/UG_SetDefinition.html#UG_SetDefinition_DomainChecking) of GAMS)"
   ]
  },
  {
   "cell_type": "code",
   "execution_count": 8,
   "metadata": {},
   "outputs": [],
   "source": [
    "for tec_subset in [gen, vre, ncomb, comb, str, frr]\n",
    "    @assert issubset(tec_subset, tec) \"should be a subset of tec!\"\n",
    "end"
   ]
  },
  {
   "cell_type": "markdown",
   "metadata": {},
   "source": [
    "### Parameters"
   ]
  },
  {
   "cell_type": "markdown",
   "metadata": {},
   "source": [
    "Original GAMS definition for months:\n",
    "```\n",
    "parameter month(h)  /0*743 1, 744*1439 2, 1440*2183 3, 2184*2903 4\n",
    "                    2904*3647 5, 3648*4367 6, 4368*5111 7, 5112*5855 8\n",
    "                    5856*6575 9, 6576*7319 10, 7320*8039 11, 8040*8759 12/\n",
    "```"
   ]
  },
  {
   "cell_type": "markdown",
   "metadata": {},
   "source": [
    "observe that February has 29 days, which is compensated by December having only 30:"
   ]
  },
  {
   "cell_type": "code",
   "execution_count": 9,
   "metadata": {},
   "outputs": [
    {
     "data": {
      "text/plain": [
       "(29.0, 30.0)"
      ]
     },
     "execution_count": 9,
     "metadata": {},
     "output_type": "execute_result"
    }
   ],
   "source": [
    "(1439 - 744 +1)/24, (8759 - 8040 +1)/24"
   ]
  },
  {
   "cell_type": "code",
   "execution_count": 10,
   "metadata": {},
   "outputs": [
    {
     "data": {
      "image/png": "[encoded data removed]",
      "text/plain": [
       "Figure(PyObject <Figure size 600x250 with 1 Axes>)"
      ]
     },
     "metadata": {},
     "output_type": "display_data"
    }
   ],
   "source": [
    "month = [\n",
    "     repeat([1], 31*24);  repeat([2], 29*24);  repeat([3], 31*24);  repeat([4], 30*24);\n",
    "     repeat([5], 31*24);  repeat([6], 30*24);  repeat([7], 31*24);  repeat([8], 31*24);\n",
    "     repeat([9], 30*24); repeat([10], 31*24); repeat([11], 30*24); repeat([12], 30*24)\n",
    "]\n",
    "\n",
    "figure(figsize=(6,2.5))\n",
    "plot(h, month);"
   ]
  },
  {
   "cell_type": "markdown",
   "metadata": {},
   "source": [
    "Convert `month` values from Integers to corresponding Symbols"
   ]
  },
  {
   "cell_type": "code",
   "execution_count": 11,
   "metadata": {},
   "outputs": [],
   "source": [
    "month_sym = [m[mk] for mk in month];"
   ]
  },
  {
   "cell_type": "markdown",
   "metadata": {},
   "source": [
    "Helper to read CSV files"
   ]
  },
  {
   "cell_type": "code",
   "execution_count": 12,
   "metadata": {},
   "outputs": [
    {
     "data": {
      "text/plain": [
       "readdelim"
      ]
     },
     "execution_count": 12,
     "metadata": {},
     "output_type": "execute_result"
    }
   ],
   "source": [
    "\"\"\"\n",
    "    readdelim(source, dims...; default_value=0.)\n",
    "\n",
    "Read the CSV file `source` formatted as for the GAMS' `\\$onDelim`/`\\$offDelim` instructions\n",
    "(i.e. a long, database-like format).\n",
    "The vectors of each dimension of the output are specified with `dims`.\n",
    "\n",
    "Remark: Strings are lowercased and converted to Symbols\n",
    "\"\"\"\n",
    "function readdelim(source, dims...; default_value=0.)\n",
    "    print(\"reading $source...\")\n",
    "    # create reverse maps from value  to index for each dim vector\n",
    "    ndim = length(dims)\n",
    "    dim_maps = []\n",
    "    for dim in dims\n",
    "        dim_map = Dict((v,i) for (i,v) in enumerate(dim))\n",
    "        push!(dim_maps, dim_map)\n",
    "    end\n",
    "    \n",
    "    # load datafile\n",
    "    df = DataFrame(CSV.File(source, header=false))\n",
    "    ncol = size(df,2)\n",
    "    @assert ncol == (ndim+1) \"$(ndim+1) columns exected in $source, got $(ncol)\"\n",
    "    \n",
    "    # Create array and fill with data\n",
    "    a = zeros((length(dim) for dim in dims)...)\n",
    "    fill!(a, default_value)\n",
    "    \n",
    "    to_symb(a) = if (typeof(a) == String) Symbol(lowercase(a)) else a end\n",
    "    \n",
    "    for row in eachrow(df)\n",
    "        if ndim == 1\n",
    "            i = dim_maps[1][to_symb(row[1])]\n",
    "            a[i] = row[2]\n",
    "        elseif ndim == 2\n",
    "            i = dim_maps[1][to_symb(row[1])]\n",
    "            j = dim_maps[2][to_symb(row[2])]\n",
    "            a[i,j] = row[3]\n",
    "        else\n",
    "            throw(ArgumentError(\"only 2 dims supported, got $(ndim)!\"))\n",
    "        end\n",
    "    end\n",
    "    # Convert to JuMP.Containers.DenseAxisArray for easier indexing\n",
    "    return JuMP.Containers.DenseAxisArray(a, dims...)\n",
    "end"
   ]
  },
  {
   "cell_type": "markdown",
   "metadata": {},
   "source": [
    "parameter `load_factor(vre,h)` 'Production profiles of VRE'\n",
    "\n",
    "from file `inputs/vre_profiles2006.csv`"
   ]
  },
  {
   "cell_type": "code",
   "execution_count": 13,
   "metadata": {},
   "outputs": [
    {
     "name": "stdout",
     "output_type": "stream",
     "text": [
      "reading inputs/vre_profiles2006.csv..."
     ]
    },
    {
     "data": {
      "text/plain": [
       "2-dimensional DenseAxisArray{Float64,2,...} with index sets:\n",
       "    Dimension 1, [:offshore, :onshore, :pv]\n",
       "    Dimension 2, 0:8759\n",
       "And data, a 3×8760 Array{Float64,2}:\n",
       " 0.865143  0.88     0.88      0.873429  …  0.990286  0.991     0.988143\n",
       " 0.511702  0.52791  0.537973  0.541571     0.826158  0.825222  0.818481\n",
       " 0.0       0.0      0.0       0.0          0.0       0.0       0.0"
      ]
     },
     "execution_count": 13,
     "metadata": {},
     "output_type": "execute_result"
    }
   ],
   "source": [
    "load_factor = readdelim(\"inputs/vre_profiles2006.csv\", vre, h; default_value=0.)"
   ]
  },
  {
   "cell_type": "code",
   "execution_count": 14,
   "metadata": {},
   "outputs": [
    {
     "data": {
      "image/png": "[encoded data removed]",
      "text/plain": [
       "Figure(PyObject <Figure size 900x300 with 4 Axes>)"
      ]
     },
     "metadata": {},
     "output_type": "display_data"
    }
   ],
   "source": [
    "z = 1:24*14 # zoom\n",
    "fig, ax = subplots(2,2, figsize=(9, 3), sharey=true)\n",
    "\n",
    "# Wind\n",
    "ax[1,1].plot(h, load_factor[:offshore,:].data, label=vre[1])\n",
    "ax[1,1].plot(h, load_factor[:onshore,:].data, \"C2\", label=vre[2])\n",
    "ax[1,2].plot(h[z], load_factor[:offshore,:].data[z], label=vre[1])\n",
    "ax[1,2].plot(h[z], load_factor[:onshore,:].data[z], \"C2\", label=vre[2])\n",
    "ax[1,2].legend(ncol=2)\n",
    "\n",
    "# PV\n",
    "ax[2,1].plot(h, load_factor[:pv,:].data, \"C1\", label=vre[3])\n",
    "ax[2,2].plot(h[z], load_factor[:pv,:].data[z], \"C1\", label=vre[3])\n",
    "ax[2,2].legend()\n",
    "\n",
    "fig.suptitle(\"VRE capacity factors\")\n",
    "fig.tight_layout();"
   ]
  },
  {
   "cell_type": "markdown",
   "metadata": {},
   "source": [
    "Parameter `demand(h)` 'demand profile in each hour in GW'\n",
    "\n",
    "from file `inputs/demand2050_ademe.csv`"
   ]
  },
  {
   "cell_type": "code",
   "execution_count": 15,
   "metadata": {},
   "outputs": [
    {
     "name": "stdout",
     "output_type": "stream",
     "text": [
      "reading inputs/demand2050_ademe.csv..."
     ]
    }
   ],
   "source": [
    "demand = readdelim(\"inputs/demand2050_ademe.csv\", h);"
   ]
  },
  {
   "cell_type": "code",
   "execution_count": 16,
   "metadata": {},
   "outputs": [
    {
     "data": {
      "image/png": "[encoded data removed]",
      "text/plain": [
       "Figure(PyObject <Figure size 1000x300 with 1 Axes>)"
      ]
     },
     "metadata": {},
     "output_type": "display_data"
    }
   ],
   "source": [
    "figure(figsize=(10, 3))\n",
    "plot(h, demand.data)\n",
    "title(\"Demand (GW)\")\n",
    "tight_layout()"
   ]
  },
  {
   "cell_type": "markdown",
   "metadata": {},
   "source": [
    "Parameter `lake_inflows(m)` 'monthly lake inflows in GWh'\n",
    "\n",
    "from `inputs/lake_inflows.csv`"
   ]
  },
  {
   "cell_type": "code",
   "execution_count": 17,
   "metadata": {},
   "outputs": [
    {
     "data": {
      "image/png": "[encoded data removed]",
      "text/plain": [
       "Figure(PyObject <Figure size 600x250 with 1 Axes>)"
      ]
     },
     "metadata": {},
     "output_type": "display_data"
    },
    {
     "name": "stdout",
     "output_type": "stream",
     "text": [
      "reading inputs/lake_inflows.csv..."
     ]
    }
   ],
   "source": [
    "lake_inflows = readdelim(\"inputs/lake_inflows.csv\", m)\n",
    "\n",
    "figure(figsize=(6,2.5))\n",
    "step(m, lake_inflows.data, where=\"mid\")\n",
    "title(\"Lake inflows (unit ?)\")\n",
    "tight_layout()"
   ]
  },
  {
   "cell_type": "markdown",
   "metadata": {},
   "source": [
    "parameter `gene_river(h)` 'hourly run of river power generation in GWh'\n",
    "\n",
    "from `inputs/run_of_river.csv`"
   ]
  },
  {
   "cell_type": "code",
   "execution_count": 18,
   "metadata": {},
   "outputs": [
    {
     "data": {
      "image/png": "[encoded data removed]",
      "text/plain": [
       "Figure(PyObject <Figure size 1000x300 with 1 Axes>)"
      ]
     },
     "metadata": {},
     "output_type": "display_data"
    },
    {
     "name": "stdout",
     "output_type": "stream",
     "text": [
      "reading inputs/run_of_river.csv..."
     ]
    }
   ],
   "source": [
    "gene_river = readdelim(\"inputs/run_of_river.csv\", h)\n",
    "\n",
    "figure(figsize=(10, 3))\n",
    "plot(h, gene_river.data)\n",
    "title(\"Run of river generation (GW)\")\n",
    "tight_layout()"
   ]
  },
  {
   "cell_type": "markdown",
   "metadata": {},
   "source": [
    "parameter `epsilon(vre)` 'additional FRR requirement for variable renewable energies because of forecast errors'\n",
    "\n",
    "from `inputs/reserve_requirements.csv`"
   ]
  },
  {
   "cell_type": "code",
   "execution_count": 19,
   "metadata": {},
   "outputs": [
    {
     "name": "stdout",
     "output_type": "stream",
     "text": [
      "reading inputs/reserve_requirements.csv..."
     ]
    },
    {
     "data": {
      "text/plain": [
       "3×2 Array{Any,2}:\n",
       " :offshore  0.027\n",
       " :onshore   0.027\n",
       " :pv        0.038"
      ]
     },
     "execution_count": 19,
     "metadata": {},
     "output_type": "execute_result"
    }
   ],
   "source": [
    "epsilon = readdelim(\"inputs/reserve_requirements.csv\", vre)\n",
    "[vre epsilon]"
   ]
  },
  {
   "cell_type": "markdown",
   "metadata": {},
   "source": [
    "parameter `capa_ex(tec)` 'existing capacities of the technologies by December 2017 in GW'\n",
    "\n",
    "from `inputs/existing_capas.csv`\n",
    "\n",
    "Remark: gas is missing from file, but default value is 0. in `readdelim`"
   ]
  },
  {
   "cell_type": "code",
   "execution_count": 20,
   "metadata": {},
   "outputs": [
    {
     "name": "stdout",
     "output_type": "stream",
     "text": [
      "reading inputs/existing_capas.csv..."
     ]
    },
    {
     "data": {
      "text/plain": [
       "10×2 Array{Any,2}:\n",
       " :offshore      0.0\n",
       " :onshore       0.0\n",
       " :pv            0.0\n",
       " :river         7.5\n",
       " :lake         12.855\n",
       " :biogas        0.0\n",
       " :gas           0.0\n",
       " :phs           4.94\n",
       " :battery       0.0\n",
       " :methanation   0.0"
      ]
     },
     "execution_count": 20,
     "metadata": {},
     "output_type": "execute_result"
    }
   ],
   "source": [
    "capa_ex = readdelim(\"inputs/existing_capas.csv\", tec)\n",
    "[tec capa_ex]"
   ]
  },
  {
   "cell_type": "markdown",
   "metadata": {},
   "source": [
    "parameter `capa_max(tec)` 'maximum capacities of the technologies in GW'\n",
    "\n",
    "from `inputs/max_capas.csv`\n",
    "\n",
    "Remarks:\n",
    "- again \"gas\" is missing from the file\n",
    "- but eventually, only the values for offshore, onshore and pv is used to contraint the `CAPA` variable.\n",
    "- \"phs\" max capa is set in `pump_capa=9.3` (coherent with file)\n",
    "- \"lake\" max capacity is set to 13 (coherent with file)\n",
    "- \"river\" capacity is *fixed* to `capa_ex('river')` (7.5, which is coherent with file)"
   ]
  },
  {
   "cell_type": "code",
   "execution_count": 21,
   "metadata": {},
   "outputs": [
    {
     "name": "stdout",
     "output_type": "stream",
     "text": [
      "reading inputs/max_capas.csv..."
     ]
    },
    {
     "data": {
      "text/plain": [
       "10×2 Array{Any,2}:\n",
       " :offshore      20.0\n",
       " :onshore      120.0\n",
       " :pv           218.0\n",
       " :river          7.5\n",
       " :lake          13.0\n",
       " :biogas       100.0\n",
       " :gas            0.0\n",
       " :phs            9.3\n",
       " :battery      100.0\n",
       " :methanation  100.0"
      ]
     },
     "execution_count": 21,
     "metadata": {},
     "output_type": "execute_result"
    }
   ],
   "source": [
    "capa_max = readdelim(\"inputs/max_capas.csv\", tec)\n",
    "[tec capa_max]"
   ]
  },
  {
   "cell_type": "markdown",
   "metadata": {},
   "source": [
    "parameter `capex(tec)` 'annualized power capex cost in M€/GW/year'\n",
    "\n",
    "from `inputs/annuities.csv`"
   ]
  },
  {
   "cell_type": "code",
   "execution_count": 22,
   "metadata": {},
   "outputs": [
    {
     "name": "stdout",
     "output_type": "stream",
     "text": [
      "reading inputs/annuities.csv..."
     ]
    }
   ],
   "source": [
    "capex = readdelim(\"inputs/annuities.csv\", tec);"
   ]
  },
  {
   "cell_type": "markdown",
   "metadata": {},
   "source": [
    "parameter `capex_en(str)` 'annualized energy capex cost of storage technologies in M€/GWh/year'\n",
    "\n",
    "from `inputs/str_annuities.csv`"
   ]
  },
  {
   "cell_type": "code",
   "execution_count": 23,
   "metadata": {},
   "outputs": [
    {
     "name": "stdout",
     "output_type": "stream",
     "text": [
      "reading inputs/str_annuities.csv..."
     ]
    },
    {
     "data": {
      "text/plain": [
       "3×2 Array{Any,2}:\n",
       " :phs           0.246938\n",
       " :battery      10.634\n",
       " :methanation   0.0"
      ]
     },
     "execution_count": 23,
     "metadata": {},
     "output_type": "execute_result"
    }
   ],
   "source": [
    "capex_en = readdelim(\"inputs/str_annuities.csv\", str)\n",
    "[str capex_en]"
   ]
  },
  {
   "cell_type": "markdown",
   "metadata": {},
   "source": [
    "parameter `fOM(tec)` 'annualized fixed operation and maintenance costs M€/GW/year'\n",
    "\n",
    "from `inputs/fO&M.csv`"
   ]
  },
  {
   "cell_type": "code",
   "execution_count": 24,
   "metadata": {},
   "outputs": [
    {
     "name": "stdout",
     "output_type": "stream",
     "text": [
      "reading inputs/fO&M.csv..."
     ]
    }
   ],
   "source": [
    "fOM = readdelim(\"inputs/fO&M.csv\", tec);"
   ]
  },
  {
   "cell_type": "markdown",
   "metadata": {},
   "source": [
    "Total fixed costs:"
   ]
  },
  {
   "cell_type": "code",
   "execution_count": 25,
   "metadata": {},
   "outputs": [
    {
     "data": {
      "text/plain": [
       "10×4 Array{Any,2}:\n",
       " :offshore     144.368   47.0318   191.4\n",
       " :onshore       77.6621  34.5477   112.21\n",
       " :pv            30.0052   9.22619   39.2314\n",
       " :river        143.909   14.85     158.759\n",
       " :lake         110.233   11.375    121.608\n",
       " :biogas         0.0      0.0        0.0\n",
       " :gas           33.7653  16.5       50.2653\n",
       " :phs           24.6938   7.5       32.1938\n",
       " :battery       14.8876   1.96      16.8476\n",
       " :methanation    0.0      0.0        0.0"
      ]
     },
     "execution_count": 25,
     "metadata": {},
     "output_type": "execute_result"
    }
   ],
   "source": [
    "fixed_costs = DAArray(capex.data + fOM.data, tec) # 'yearly fixed cost of each tec in M€/GW/year'\n",
    "[tec capex fOM fixed_costs]"
   ]
  },
  {
   "cell_type": "markdown",
   "metadata": {},
   "source": [
    "parameter `vOM(tec)` 'Variable operation and maintenance costs in M€/GWh'\n",
    "\n",
    "from `inputs/vO&M.csv`"
   ]
  },
  {
   "cell_type": "code",
   "execution_count": 26,
   "metadata": {},
   "outputs": [
    {
     "name": "stdout",
     "output_type": "stream",
     "text": [
      "reading inputs/vO&M.csv..."
     ]
    },
    {
     "data": {
      "text/plain": [
       "10×2 Array{Any,2}:\n",
       " :offshore     0.0\n",
       " :onshore      0.0\n",
       " :pv           0.0\n",
       " :river        0.0\n",
       " :lake         0.0\n",
       " :biogas       0.082\n",
       " :gas          0.0\n",
       " :phs          0.0\n",
       " :battery      0.0021\n",
       " :methanation  0.005444"
      ]
     },
     "execution_count": 26,
     "metadata": {},
     "output_type": "execute_result"
    }
   ],
   "source": [
    "vOM = readdelim(\"inputs/vO&M.csv\", tec)\n",
    "[tec vOM]"
   ]
  },
  {
   "cell_type": "markdown",
   "metadata": {},
   "source": [
    "parameter `s_capex(str)` 'charging related annuity of storage in M€/GW/year' /PHS 0, battery 0, methanation 84.16086/;\n",
    "\n",
    "*Remark: this corresponds with the fact that capex[:methanation] is 0*"
   ]
  },
  {
   "cell_type": "code",
   "execution_count": 27,
   "metadata": {},
   "outputs": [
    {
     "data": {
      "text/plain": [
       "3×2 Array{Any,2}:\n",
       " :phs           0.0\n",
       " :battery       0.0\n",
       " :methanation  84.1609"
      ]
     },
     "execution_count": 27,
     "metadata": {},
     "output_type": "execute_result"
    }
   ],
   "source": [
    "s_capex = DAArray([0., 0., 84.16086], str)\n",
    "[str s_capex]"
   ]
  },
  {
   "cell_type": "markdown",
   "metadata": {},
   "source": [
    "parameter `s_opex(str)`    'charging related fOM of storage in M€/GW/year'   /PHS 0, battery 0, methanation 59.25/;"
   ]
  },
  {
   "cell_type": "code",
   "execution_count": 28,
   "metadata": {},
   "outputs": [
    {
     "data": {
      "text/plain": [
       "3×2 Array{Any,2}:\n",
       " :phs           0.0\n",
       " :battery       0.0\n",
       " :methanation  59.25"
      ]
     },
     "execution_count": 28,
     "metadata": {},
     "output_type": "execute_result"
    }
   ],
   "source": [
    "s_opex = DAArray([0., 0., 59.25], str)\n",
    "[str s_opex]"
   ]
  },
  {
   "cell_type": "markdown",
   "metadata": {},
   "source": [
    "Charging/discharging efficiency\n",
    "\n",
    "- parameter `eta_in(str)` 'charging efficiency of storage technologies' /PHS 0.95, battery 0.9, methanation 0.59/;\n",
    "- parameter `eta_out(str)` 'discharging efficiency of storage technolgoies' /PHS 0.9, battery 0.95, methanation 0.45/;"
   ]
  },
  {
   "cell_type": "code",
   "execution_count": 29,
   "metadata": {},
   "outputs": [
    {
     "data": {
      "text/plain": [
       "3×3 Array{Any,2}:\n",
       " :phs          0.95  0.9\n",
       " :battery      0.9   0.95\n",
       " :methanation  0.59  0.45"
      ]
     },
     "execution_count": 29,
     "metadata": {},
     "output_type": "execute_result"
    }
   ],
   "source": [
    "eta_in  = DAArray([0.95, 0.90, 0.59], str)\n",
    "eta_out = DAArray([0.90, 0.95, 0.45], str)\n",
    "[str eta_in eta_out]"
   ]
  },
  {
   "cell_type": "markdown",
   "metadata": {},
   "source": [
    "Scalar parameters"
   ]
  },
  {
   "cell_type": "code",
   "execution_count": 30,
   "metadata": {},
   "outputs": [],
   "source": [
    "pump_capa = 9.3 # pumping capacity in GW\n",
    "max_phs = 0.18 # maximum volume of energy can be stored in PHS reservoir in TWh\n",
    "max_biogas = 15 # maxium energy that can be generated by biogas in TWh\n",
    "load_uncertainty = 0.01 # uncertainty coefficient for hourly demand\n",
    "delta = 0.1; # load variation factor"
   ]
  },
  {
   "cell_type": "markdown",
   "metadata": {},
   "source": [
    "## Model"
   ]
  },
  {
   "cell_type": "code",
   "execution_count": 107,
   "metadata": {},
   "outputs": [
    {
     "data": {
      "text/latex": [
       "$$ \\begin{alignat*}{1}\\text{feasibility}\\\\\n",
       "\\text{Subject to} \\quad\\end{alignat*}\n",
       " $$"
      ],
      "text/plain": [
       "A JuMP Model\n",
       "Feasibility problem with:\n",
       "Variables: 0\n",
       "Model mode: AUTOMATIC\n",
       "CachingOptimizer state: EMPTY_OPTIMIZER\n",
       "Solver name: Clp"
      ]
     },
     "execution_count": 107,
     "metadata": {},
     "output_type": "execute_result"
    }
   ],
   "source": [
    "RES_FR = Model(Clp.Optimizer)"
   ]
  },
  {
   "cell_type": "markdown",
   "metadata": {},
   "source": [
    "### Variables\n",
    "\n",
    "See [§Variable Attributes](https://www.gams.com/latest/docs/UG_Variables.html#UG_Variables_VariableAttributes) for `.up`, `.lo`, `.fx` and `.l`\n",
    "\n",
    "See [§Styles for Variable Declaration](https://www.gams.com/latest/docs/UG_Variables.html#UG_Variables_StylesForVariableDeclaration) for the fact it's possible to redeclare the type of a variable. E.g. here to state it's positive"
   ]
  },
  {
   "cell_type": "markdown",
   "metadata": {},
   "source": [
    "```\n",
    "variables        GENE(tec,h)     'hourly energy generation in TWh'\n",
    "                 CAPA(tec)       'overal yearly installed capacity in GW'\n",
    "                 STORAGE(str,h)  'hourly electricity input of battery storage GW'\n",
    "                 S(str)          'charging power capacity of each storage technology'\n",
    "                 STORED(str,h)   'energy stored in each storage technology in GWh'\n",
    "                 CAPACITY(str)   'energy volume of storage technologies in GWh'\n",
    "                 RSV(frr,h)      'required upward frequency restoration reserve in GW'\n",
    "                 COST            'final investment cost in b€'\n",
    "\n",
    "positive variables GENE(tec,h),CAPA(tec),STORAGE(str,h), S(str),STORED(str,h),CAPACITY(str),RSV(frr,h);\n",
    "```"
   ]
  },
  {
   "cell_type": "code",
   "execution_count": 108,
   "metadata": {},
   "outputs": [
    {
     "data": {
      "text/plain": [
       "2-dimensional DenseAxisArray{VariableRef,2,...} with index sets:\n",
       "    Dimension 1, [:lake, :phs, :battery, :gas]\n",
       "    Dimension 2, 0:8759\n",
       "And data, a 4×8760 Array{VariableRef,2}:\n",
       " RSV[lake,0]     RSV[lake,1]     RSV[lake,2]     …  RSV[lake,8759]\n",
       " RSV[phs,0]      RSV[phs,1]      RSV[phs,2]         RSV[phs,8759]\n",
       " RSV[battery,0]  RSV[battery,1]  RSV[battery,2]     RSV[battery,8759]\n",
       " RSV[gas,0]      RSV[gas,1]      RSV[gas,2]         RSV[gas,8759]"
      ]
     },
     "execution_count": 108,
     "metadata": {},
     "output_type": "execute_result"
    }
   ],
   "source": [
    "@variable(RES_FR, GENE[tec,h] >= 0)    # hourly energy generation in TWh\n",
    "@variable(RES_FR, CAPA[tec] >= 0)      # overal yearly installed capacity in GW\n",
    "@variable(RES_FR, STORAGE[str,h] >= 0) # hourly electricity input of battery storage GW\n",
    "@variable(RES_FR, S[str] >= 0)         # charging power capacity of each storage technology. Remark S(str) is constrainted <= CAPA(str);\n",
    "@variable(RES_FR, STORED[str,h] >= 0)  # energy stored in each storage technology in GWh\n",
    "@variable(RES_FR, CAPACITY[str] >= 0)  # energy volume of storage technologies in GWh\n",
    "@variable(RES_FR, RSV[frr,h] >= 0)     # required upward frequency restoration reserve in GW"
   ]
  },
  {
   "cell_type": "code",
   "execution_count": 109,
   "metadata": {},
   "outputs": [],
   "source": [
    "@variable(RES_FR, COST);"
   ]
  },
  {
   "cell_type": "markdown",
   "metadata": {},
   "source": [
    "Initial and fixed values\n",
    "\n",
    "```\n",
    "CAPA.up('phs') = pump_capa;\n",
    "CAPA.fx('river')= capa_ex('river');\n",
    "CAPA.up('lake') = 13;\n",
    "CAPA.lo('lake') = capa_ex('lake');\n",
    "GENE.up('river',h) = gene_river(h)*capa_ex('river');\n",
    "S.up('phs') = pump_capa;\n",
    "CAPACITY.up('phs') = max_phs*1000;\n",
    "CAPA.up('offshore') = capa_max('offshore');\n",
    "CAPA.up('onshore') = capa_max('onshore');\n",
    "CAPA.up('pv') = capa_max('pv');\n",
    "```"
   ]
  },
  {
   "cell_type": "code",
   "execution_count": 110,
   "metadata": {},
   "outputs": [
    {
     "data": {
      "text/latex": [
       "$ CAPA_{lake} \\geq 12.855 $"
      ],
      "text/plain": [
       "CAPA[lake] ≥ 12.855"
      ]
     },
     "execution_count": 110,
     "metadata": {},
     "output_type": "execute_result"
    }
   ],
   "source": [
    "@constraint(RES_FR, CAPA[:phs] <= pump_capa)\n",
    "@constraint(RES_FR, CAPA[:river] == capa_ex[:river])\n",
    "@constraint(RES_FR, CAPA[:lake] <= 13)\n",
    "@constraint(RES_FR, CAPA[:lake] >= capa_ex[:lake])"
   ]
  },
  {
   "cell_type": "markdown",
   "metadata": {},
   "source": [
    "Warning: setting GENE[:river] *upper bound* means that rivers can be silently curtailed!\n",
    "Perhaps GENE[:river] should be _fixed_ instead (like VREs, see below)."
   ]
  },
  {
   "cell_type": "code",
   "execution_count": 111,
   "metadata": {},
   "outputs": [],
   "source": [
    "@constraint(RES_FR, GENE_river_up[hk = h], \n",
    "            GENE[:river,hk] .<= gene_river[hk]*capa_ex[:river]);"
   ]
  },
  {
   "cell_type": "code",
   "execution_count": 112,
   "metadata": {},
   "outputs": [],
   "source": [
    "@constraint(RES_FR, S[:phs] <= pump_capa)\n",
    "@constraint(RES_FR, CAPACITY[:phs] <= max_phs*1000)\n",
    "@constraint(RES_FR, CAPA[:offshore] <= capa_max[:offshore])\n",
    "@constraint(RES_FR, CAPA[:onshore] <= capa_max[:onshore])\n",
    "@constraint(RES_FR, CAPA[:pv] <= capa_max[:pv]);"
   ]
  },
  {
   "cell_type": "markdown",
   "metadata": {},
   "source": [
    "### Equations"
   ]
  },
  {
   "cell_type": "markdown",
   "metadata": {},
   "source": [
    "`gene_vre(vre,h)` variables renewable profiles generation:"
   ]
  },
  {
   "cell_type": "code",
   "execution_count": 113,
   "metadata": {},
   "outputs": [],
   "source": [
    "@constraint(RES_FR, gene_vre[vrek=vre, hk=h],\n",
    "            GENE[vrek,hk] == CAPA[vrek]*load_factor[vrek,hk]);"
   ]
  },
  {
   "cell_type": "markdown",
   "metadata": {},
   "source": [
    "Equation `gene_capa(tec,h)` capacity and generation relation for technologies:"
   ]
  },
  {
   "cell_type": "code",
   "execution_count": 114,
   "metadata": {},
   "outputs": [],
   "source": [
    "@constraint(RES_FR, gene_capa[teck=tec, hk=h],\n",
    "            CAPA[teck] >= GENE[teck,hk]);"
   ]
  },
  {
   "cell_type": "markdown",
   "metadata": {},
   "source": [
    "`combustion(h)` the relationship of combustible technologies (i.e. 'gas' = 'biogas' + 'methanation'):"
   ]
  },
  {
   "cell_type": "code",
   "execution_count": 115,
   "metadata": {},
   "outputs": [],
   "source": [
    "@constraint(RES_FR, combustion[hk=h],\n",
    "            GENE[:gas,hk] == sum(GENE[combk,hk] for combk in comb));"
   ]
  },
  {
   "cell_type": "markdown",
   "metadata": {},
   "source": [
    "`capa_frr(frr,h)` capacity needed for the secondary reserve requirements:\n",
    "\n",
    "    CAPA(frr)               =g=     GENE(frr,h) + RSV(frr,h);"
   ]
  },
  {
   "cell_type": "code",
   "execution_count": 116,
   "metadata": {},
   "outputs": [],
   "source": [
    "@constraint(RES_FR, capa_frr[frrk=frr, hk=h],\n",
    "            CAPA[frrk] >= GENE[frrk,hk] + RSV[frrk,hk]);"
   ]
  },
  {
   "cell_type": "markdown",
   "metadata": {},
   "source": [
    "`storing(h,h+1,str)` the definition of stored energy in the storage options;\n",
    "\n",
    "    STORED(str,h+1) =e= STORED(str,h) + STORAGE(str,h)*eta_in(str) - GENE(str,h)/eta_out(str);\n",
    "\n",
    "Remark: see GAMS UG [§Lag and Lead Operators](https://www.gams.com/latest/docs/UG_OrderedSets.html#UG_OrderedSets_LagLeadOperators) for the meaning of `h+1`.\n",
    "However, it's not clear to me why the equation is declared on both `h` and `h+1`. "
   ]
  },
  {
   "cell_type": "code",
   "execution_count": 117,
   "metadata": {},
   "outputs": [],
   "source": [
    "@constraint(RES_FR, storing[strk=str, hk=h[1:end-1]],\n",
    "            STORED[strk,hk+1] == STORED[strk,hk] + \n",
    "            STORAGE[strk,hk]*eta_in[strk] - GENE[strk,hk]/eta_out[strk]);"
   ]
  },
  {
   "cell_type": "code",
   "execution_count": 118,
   "metadata": {},
   "outputs": [
    {
     "data": {
      "text/latex": [
       "storing[battery,2] : $ 1.0526315789473684 GENE_{battery,2} - 0.9 STORAGE_{battery,2} - STORED_{battery,2} + STORED_{battery,3} = 0.0 $"
      ],
      "text/plain": [
       "storing[battery,2] : 1.0526315789473684 GENE[battery,2] - 0.9 STORAGE[battery,2] - STORED[battery,2] + STORED[battery,3] = 0.0"
      ]
     },
     "execution_count": 118,
     "metadata": {},
     "output_type": "execute_result"
    }
   ],
   "source": [
    "storing[:battery,2]"
   ]
  },
  {
   "cell_type": "markdown",
   "metadata": {},
   "source": [
    "`storage_const(str,first,last)` storage in the first hour is equal to the storage in the last hour:\n",
    "\n",
    "    STORED(str,first) =e= STORED(str,last)+STORAGE(str,last)*eta_in(str)-GENE(str,last)/eta_out(str);"
   ]
  },
  {
   "cell_type": "code",
   "execution_count": 119,
   "metadata": {},
   "outputs": [],
   "source": [
    "@constraint(RES_FR, storage_const[strk=str],\n",
    "            STORED[strk,h[1]] == STORED[strk,h[end]] + \n",
    "            STORAGE[strk,h[end]]*eta_in[strk] - GENE[strk,h[end]]/eta_out[strk]);"
   ]
  },
  {
   "cell_type": "code",
   "execution_count": 120,
   "metadata": {},
   "outputs": [
    {
     "data": {
      "text/latex": [
       "storage_const[battery] : $ 1.0526315789473684 GENE_{battery,8759} - 0.9 STORAGE_{battery,8759} + STORED_{battery,0} - STORED_{battery,8759} = 0.0 $"
      ],
      "text/plain": [
       "storage_const[battery] : 1.0526315789473684 GENE[battery,8759] - 0.9 STORAGE[battery,8759] + STORED[battery,0] - STORED[battery,8759] = 0.0"
      ]
     },
     "execution_count": 120,
     "metadata": {},
     "output_type": "execute_result"
    }
   ],
   "source": [
    "storage_const[:battery]"
   ]
  },
  {
   "cell_type": "markdown",
   "metadata": {},
   "source": [
    "`lake_res(m)` constraint on water for lake reservoirs:\n",
    "\n",
    "    lake_inflows(m) =g= sum(h$(month(h) = ord(m)),GENE('lake',h))/1000;"
   ]
  },
  {
   "cell_type": "code",
   "execution_count": 121,
   "metadata": {},
   "outputs": [],
   "source": [
    "@constraint(RES_FR, lake_res[mk=m],\n",
    "            lake_inflows[mk] >= sum(GENE[:lake,:].data[month_sym.==mk])/1000);"
   ]
  },
  {
   "cell_type": "code",
   "execution_count": 122,
   "metadata": {},
   "outputs": [],
   "source": [
    "#print(lake_res[:jan])"
   ]
  },
  {
   "cell_type": "markdown",
   "metadata": {},
   "source": [
    "`stored_cap(str,h)` maximum energy that is stored in storage units:"
   ]
  },
  {
   "cell_type": "code",
   "execution_count": 123,
   "metadata": {},
   "outputs": [],
   "source": [
    "@constraint(RES_FR, stored_cap[strk=str, hk=h],\n",
    "            STORED[strk,hk] <= CAPACITY[strk]);"
   ]
  },
  {
   "cell_type": "markdown",
   "metadata": {},
   "source": [
    "`storage_capa1(str,h)` the capacity with hourly charging relationship of storage:"
   ]
  },
  {
   "cell_type": "code",
   "execution_count": 124,
   "metadata": {},
   "outputs": [],
   "source": [
    "@constraint(RES_FR, storage_capa1[strk=str, hk=h],\n",
    "            S[strk] >= STORAGE[strk,hk]);"
   ]
  },
  {
   "cell_type": "markdown",
   "metadata": {},
   "source": [
    "`storage_capa2(str)` storage power limit:"
   ]
  },
  {
   "cell_type": "code",
   "execution_count": 125,
   "metadata": {},
   "outputs": [],
   "source": [
    "@constraint(RES_FR, storage_capa2[strk=str],\n",
    "            S[strk] <= CAPA[strk]);"
   ]
  },
  {
   "cell_type": "markdown",
   "metadata": {},
   "source": [
    "`biogas_const` maximum energy can be produced by biogas:"
   ]
  },
  {
   "cell_type": "code",
   "execution_count": 126,
   "metadata": {},
   "outputs": [],
   "source": [
    "@constraint(RES_FR, biogas_const,\n",
    "            sum(GENE[:biogas,:]) <= max_biogas*1000);"
   ]
  },
  {
   "cell_type": "markdown",
   "metadata": {},
   "source": [
    "`reserves(h)` FRR requirement:"
   ]
  },
  {
   "cell_type": "code",
   "execution_count": 127,
   "metadata": {},
   "outputs": [],
   "source": [
    "@constraint(RES_FR, reserves[hk=h],\n",
    "            sum(RSV[:,hk]) == sum(epsilon[vrek] * CAPA[vrek] for vrek in vre) +\n",
    "            demand[hk]*load_uncertainty*(1+delta));"
   ]
  },
  {
   "cell_type": "markdown",
   "metadata": {},
   "source": [
    "`adequacy(h)` supply/demand relation:"
   ]
  },
  {
   "cell_type": "code",
   "execution_count": 128,
   "metadata": {},
   "outputs": [],
   "source": [
    "@constraint(RES_FR, adequacy[hk=h],\n",
    "            sum(GENE[ncombk,hk] for ncombk in ncomb) + GENE[:gas,hk] >=\n",
    "            demand[hk] + sum(STORAGE[:,hk]));"
   ]
  },
  {
   "cell_type": "code",
   "execution_count": 129,
   "metadata": {},
   "outputs": [
    {
     "data": {
      "text/latex": [
       "adequacy[3] : $ GENE_{offshore,3} + GENE_{onshore,3} + GENE_{pv,3} + GENE_{river,3} + GENE_{lake,3} + GENE_{gas,3} + GENE_{phs,3} + GENE_{battery,3} - STORAGE_{phs,3} - STORAGE_{battery,3} - STORAGE_{methanation,3} \\geq 27.9874884 $"
      ],
      "text/plain": [
       "adequacy[3] : GENE[offshore,3] + GENE[onshore,3] + GENE[pv,3] + GENE[river,3] + GENE[lake,3] + GENE[gas,3] + GENE[phs,3] + GENE[battery,3] - STORAGE[phs,3] - STORAGE[battery,3] - STORAGE[methanation,3] ≥ 27.9874884"
      ]
     },
     "execution_count": 129,
     "metadata": {},
     "output_type": "execute_result"
    }
   ],
   "source": [
    "adequacy[3]"
   ]
  },
  {
   "cell_type": "markdown",
   "metadata": {},
   "source": [
    "`obj` the final objective function which is `COST`\n",
    "\n",
    "    COST                    =e=     (\n",
    "        sum(tec,(CAPA(tec)-capa_ex(tec))*capex(tec))+ \n",
    "        sum(str,CAPACITY(str)*capex_en(str))+\n",
    "        sum(tec,(CAPA(tec)*fOM(tec)))+ \n",
    "        sum(str,S(str)*(s_capex(str)+s_opex(str))) + \n",
    "        sum((tec,h),GENE(tec,h)*vOM(tec))\n",
    "        )/1000;"
   ]
  },
  {
   "cell_type": "code",
   "execution_count": 130,
   "metadata": {},
   "outputs": [],
   "source": [
    "@constraint(RES_FR, cost,\n",
    "            COST == (\n",
    "            sum( (CAPA[teck]-capa_ex[teck])*capex[teck] for teck in tec) +\n",
    "            sum( CAPACITY[strk]*capex_en[strk] for strk in str) +\n",
    "            sum( CAPA[teck]*fOM[teck] for teck in tec) +\n",
    "            sum( S[strk]*(s_capex[strk]+s_opex[strk]) for strk in str) +\n",
    "            sum( GENE[teck,hk]*vOM[teck] for teck in tec for hk in h)\n",
    "            )/1000 );"
   ]
  },
  {
   "cell_type": "code",
   "execution_count": 131,
   "metadata": {},
   "outputs": [],
   "source": [
    "@objective(RES_FR, Min, COST);"
   ]
  },
  {
   "cell_type": "markdown",
   "metadata": {},
   "source": [
    "### Solve\n",
    "\n",
    "(~10 minutes with Clp)"
   ]
  },
  {
   "cell_type": "code",
   "execution_count": 133,
   "metadata": {},
   "outputs": [
    {
     "name": "stdout",
     "output_type": "stream",
     "text": [
      "Coin0506I Presolve 157694 (-105132) rows, 131411 (-43806) columns and 556610 (-219025) elements\n",
      "Clp0006I 0  Obj 0.13561339 Primal inf 2853551.5 (17520) Dual inf 4.1559333e+16 (78842)\n",
      "Clp0006I 870  Obj 42.914273 Primal inf 752225.94 (10845) Dual inf 2.3731516e+16 (43569)\n",
      "Clp0006I 1739  Obj 43.507016 Primal inf 694730.68 (10506) Dual inf 2.2044406e+09 (41229)\n",
      "Clp0006I 2608  Obj 43.722243 Primal inf 572276.6 (10068) Dual inf 2.0360357e+09 (39537)\n",
      "Clp0006I 3477  Obj 44.050641 Primal inf 532698.29 (9657) Dual inf 1.8756488e+09 (38046)\n",
      "Clp0006I 4346  Obj 44.232216 Primal inf 483561.87 (9234) Dual inf 1.7131628e+09 (35904)\n",
      "Clp0006I 5215  Obj 44.528084 Primal inf 423888.51 (8778) Dual inf 1.5544117e+09 (33615)\n",
      "Clp0006I 6084  Obj 44.782773 Primal inf 323359.65 (8371) Dual inf 1.4021809e+09 (31499)\n",
      "Clp0006I 6953  Obj 45.135439 Primal inf 238147.2 (7850) Dual inf 1.2365445e+09 (29095)\n",
      "Clp0006I 7822  Obj 46.134446 Primal inf 205755.9 (7358) Dual inf 1.1052992e+09 (27423)\n",
      "Clp0006I 8691  Obj 46.32212 Primal inf 193702.74 (6932) Dual inf 9.8241323e+08 (25760)\n",
      "Clp0006I 9560  Obj 46.20009 Primal inf 183544.23 (6428) Dual inf 8.3610913e+08 (22909)\n",
      "Clp0006I 10429  Obj 46.203864 Primal inf 175366.44 (5909) Dual inf 7.3195329e+08 (22880)\n",
      "Clp0006I 11298  Obj 46.221707 Primal inf 167093.61 (5430) Dual inf 6.1581201e+08 (22986)\n",
      "Clp0006I 12167  Obj 46.226227 Primal inf 160295.73 (4974) Dual inf 5.3904818e+08 (22444)\n",
      "Clp0006I 13036  Obj 46.233607 Primal inf 153669.21 (4579) Dual inf 4.5951e+08 (20476)\n",
      "Clp0006I 13905  Obj 46.186398 Primal inf 147130.78 (4253) Dual inf 4.670806e+08 (18565)\n",
      "Clp0006I 14774  Obj 46.189735 Primal inf 141655.44 (3942) Dual inf 4.6165422e+08 (16743)\n",
      "Clp0006I 15643  Obj 46.197568 Primal inf 136006.9 (3691) Dual inf 4.5020752e+08 (16115)\n",
      "Clp0006I 16512  Obj 47.09385 Primal inf 119544.94 (2756) Dual inf 3.8002154e+08 (15076)\n",
      "Clp0006I 17381  Obj 54.680156 Primal inf 97681.978 (2944) Dual inf 9.1435586e+08 (13813)\n",
      "Clp0006I 18250  Obj 56.929997 Primal inf 82057.638 (3001) Dual inf 3.4265807e+08 (13762)\n",
      "Clp0006I 19119  Obj 62.282284 Primal inf 69001.582 (3011) Dual inf 2.2007659e+08 (13193)\n",
      "Clp0006I 19988  Obj 63.527825 Primal inf 62252.116 (2823) Dual inf 3.2187004e+08 (12384)\n",
      "Clp0006I 20857  Obj 63.389731 Primal inf 53218.69 (2738) Dual inf 1.7063502e+08 (12320)\n",
      "Clp0006I 21726  Obj 63.742419 Primal inf 42537.053 (2472) Dual inf 3.1435698e+08 (11302)\n",
      "Clp0006I 22595  Obj 64.148441 Primal inf 31312.283 (2193) Dual inf 2.1765334e+08 (10223)\n",
      "Clp0006I 23464  Obj 64.688346 Primal inf 21182.287 (2035) Dual inf 1.3177728e+08 (10107)\n",
      "Clp0006I 24333  Obj 65.530622 Primal inf 12834.194 (2099) Dual inf 39116085 (12027)\n",
      "Clp0006I 25202  Obj 61.582233 Primal inf 8156.2286 (1296) Dual inf 4.1575195e+08 (8980)\n",
      "Clp0006I 26071  Obj 61.993282 Primal inf 5391.2986 (839) Dual inf 25531805 (10370)\n",
      "Clp0006I 26940  Obj 60.93057 Primal inf 4235.4164 (617) Dual inf 52603008 (17110)\n",
      "Clp0006I 27809  Obj 59.286504 Primal inf 2650.7802 (688) Dual inf 99212729 (18062)\n",
      "Clp0006I 28678  Obj 58.466543 Primal inf 1728.019 (496) Dual inf 30957023 (17991)\n",
      "Clp0006I 29547  Obj 57.967366 Primal inf 1122.4905 (180) Dual inf 1.8649849e+08 (17731)\n",
      "Clp0006I 30416  Obj 57.453868 Primal inf 771.10464 (37) Dual inf 15055090 (17935)\n",
      "Clp0006I 31285  Obj 57.396851 Primal inf 392.03669 (39) Dual inf 626156.57 (6463)\n",
      "Clp0006I 32154  Obj 56.454323 Primal inf 307.68479 (6) Dual inf 1569854.2 (7016)\n",
      "Clp0006I 33023  Obj 54.301499 Primal inf 246.62353 (20) Dual inf 12884247 (6326)\n",
      "Clp0006I 33892  Obj 52.513726 Primal inf 184.93563 (22) Dual inf 2606913.6 (8042)\n",
      "Clp0006I 34761  Obj 52.5599 Primal inf 138.57925 (8) Dual inf 6594074.4 (8319)\n",
      "Clp0006I 35630  Obj 51.855251 Primal inf 104.76502 (5) Dual inf 2419627.7 (8409)\n",
      "Clp0006I 36499  Obj 52.435399 Primal inf 71.44477 (6) Dual inf 5472293.9 (7163)\n",
      "Clp0006I 37368  Obj 52.18717 Primal inf 41.192601 (9) Dual inf 1547251.4 (7772)\n",
      "Clp0006I 38237  Obj 51.830343 Primal inf 15.640468 (8) Dual inf 2554060.7 (8258)\n",
      "Clp0006I 39106  Obj 50.990383 Primal inf 5.0549849 (4) Dual inf 238031.82 (8919)\n",
      "Clp0006I 39612  Obj 50.44011 Primal inf 4.1397609 (3) Dual inf 1061678.4 (16221)\n",
      "Clp0006I 40207  Obj 50.055043 Primal inf 2.5287057 (4) Dual inf 80273.721 (20237)\n",
      "Clp0006I 40772  Obj 49.471892 Primal inf 1.6701897 (3) Dual inf 21363.05 (6317)\n",
      "Clp0006I 41411  Obj 49.282851 Primal inf 0.95047967 (3) Dual inf 119339.83 (5688)\n",
      "Clp0006I 41772  Obj 49.040776 Primal inf 0.61880988 (2) Dual inf 19953.197 (16455)\n",
      "Clp0006I 42225  Obj 48.8194 Primal inf 0.31616276 (2) Dual inf 108310.1 (15823)\n",
      "Clp0006I 42910  Obj 48.537929 Primal inf 0.19561988 (2) Dual inf 49168.863 (8232)\n",
      "Clp0006I 43523  Obj 48.378129 Primal inf 0.15471713 (2) Dual inf 3614.2638 (4472)\n",
      "Clp0006I 44180  Obj 48.211782 Primal inf 0.13184865 (2) Dual inf 5859.751 (4315)\n",
      "Clp0006I 44953  Obj 44.925982 Primal inf 0.094158531 (1) Dual inf 8433.6323 (4184)\n",
      "Clp0006I 45650  Obj 44.386961 Dual inf 122.12142 (4310)\n",
      "Clp0006I 46322  Obj 32.068673 Dual inf 276.14876 (3435)\n",
      "Clp0006I 46745  Obj 30.591315 Dual inf 69.970562 (3462)\n",
      "Clp0006I 47418  Obj 29.648085 Dual inf 1101.3139 (3353)\n",
      "Clp0006I 48169  Obj 28.945854 Dual inf 32.595777 (4644)\n",
      "Clp0006I 48601  Obj 28.589135 Dual inf 1624.499 (3627)\n",
      "Clp0006I 49259  Obj 28.02069 Dual inf 85.719599 (5257)\n",
      "Clp0006I 49762  Obj 27.681558 Dual inf 1100.9938 (5772)\n",
      "Clp0006I 50198  Obj 27.298928 Dual inf 132.50476 (5393)\n",
      "Clp0006I 50828  Obj 26.797414 Dual inf 56.769552 (3214)\n",
      "Clp0006I 51592  Obj 26.428594 Dual inf 35.645898 (9228)\n",
      "Clp0006I 52162  Obj 26.228009 Dual inf 63.355377 (5292)\n",
      "Clp0006I 52748  Obj 26.074386 Dual inf 497.45719 (6182)\n",
      "Clp0006I 53417  Obj 25.973127 Dual inf 82.740743 (3717)\n",
      "Clp0006I 54141  Obj 25.867628 Dual inf 28.973031 (4648)\n",
      "Clp0006I 54628  Obj 25.705687 Dual inf 45.011947 (3770)\n",
      "Clp0006I 55291  Obj 25.53195 Dual inf 18.332149 (5876)\n",
      "Clp0006I 55995  Obj 25.37221 Dual inf 18.983707 (8268)\n",
      "Clp0006I 56646  Obj 25.217451 Dual inf 376.40916 (4737)\n",
      "Clp0006I 57165  Obj 25.080724 Dual inf 60.883682 (3796)\n",
      "Clp0006I 57521  Obj 24.997002 Dual inf 62.728537 (3688)\n",
      "Clp0006I 58041  Obj 24.889139 Dual inf 417.72057 (4000)\n",
      "Clp0006I 58797  Obj 24.744984 Dual inf 38.530858 (7077)\n",
      "Clp0006I 59516  Obj 24.586319 Dual inf 45.121774 (4161)\n",
      "Clp0006I 60258  Obj 24.459605 Dual inf 58.74269 (5867)\n",
      "Clp0006I 60692  Obj 24.345984 Dual inf 63.251513 (5822)\n",
      "Clp0006I 61235  Obj 24.255809 Dual inf 123.47093 (5812)\n",
      "Clp0006I 61914  Obj 24.164929 Dual inf 163.26816 (4601)\n",
      "Clp0006I 62589  Obj 24.068321 Dual inf 54.291691 (7124)\n",
      "Clp0006I 63251  Obj 23.974446 Dual inf 12.950402 (5599)\n",
      "Clp0006I 63911  Obj 23.885035 Dual inf 26.075494 (4646)\n",
      "Clp0006I 64374  Obj 23.831912 Dual inf 11.448388 (5843)\n",
      "Clp0006I 65064  Obj 23.764795 Dual inf 28.16608 (4646)\n",
      "Clp0006I 65661  Obj 23.678032 Dual inf 150.05559 (9089)\n",
      "Clp0006I 66186  Obj 23.608027 Dual inf 17.989219 (5664)\n",
      "Clp0006I 66784  Obj 23.529647 Dual inf 136.70154 (7186)\n",
      "Clp0006I 67313  Obj 23.47948 Dual inf 153.06041 (22844)\n",
      "Clp0006I 67982  Obj 23.371053 Dual inf 32.570271 (5375)\n",
      "Clp0006I 68396  Obj 23.320628 Dual inf 36.852812 (6959)\n",
      "Clp0006I 69121  Obj 23.25662 Dual inf 4.347736 (5023)\n",
      "Clp0006I 69804  Obj 23.206887 Dual inf 35.41555 (4776)\n",
      "Clp0006I 70478  Obj 23.175571 Dual inf 16.476357 (5243)\n",
      "Clp0006I 71204  Obj 23.121977 Dual inf 41.393433 (5090)\n",
      "Clp0006I 71848  Obj 23.089166 Dual inf 13.822379 (4466)\n",
      "Clp0006I 72431  Obj 23.048047 Dual inf 56.969627 (11075)\n",
      "Clp0006I 73066  Obj 23.014072 Dual inf 14.854938 (4420)\n",
      "Clp0006I 73764  Obj 22.983902 Dual inf 22.080939 (5608)\n",
      "Clp0006I 74460  Obj 22.932938 Dual inf 21.331888 (7040)\n",
      "Clp0006I 75120  Obj 22.873057 Dual inf 18.824811 (6167)\n",
      "Clp0006I 75798  Obj 22.835869 Dual inf 8.0737379 (3883)\n",
      "Clp0006I 76505  Obj 22.81553 Dual inf 13.513152 (4806)\n",
      "Clp0006I 77190  Obj 22.801673 Dual inf 18.89579 (6231)\n",
      "Clp0006I 77715  Obj 22.788525 Dual inf 20.3737 (5488)\n",
      "Clp0006I 78324  Obj 22.76748 Dual inf 21.652595 (3772)\n",
      "Clp0006I 78585  Obj 22.758462 Dual inf 3.4545927 (4119)\n",
      "Clp0006I 79187  Obj 22.741042 Dual inf 6.2457731 (3178)\n",
      "Clp0006I 79792  Obj 22.723909 Dual inf 3.4113307 (3339)\n",
      "Clp0006I 80480  Obj 22.704236 Dual inf 1.285404 (3691)\n",
      "Clp0006I 81079  Obj 22.683464 Dual inf 20.475829 (3602)\n",
      "Clp0006I 81620  Obj 22.665175 Dual inf 24.71096 (24722)\n",
      "Clp0006I 82348  Obj 22.639487 Dual inf 5.1975811 (2346)\n",
      "Clp0006I 82919  Obj 22.615076 Dual inf 6.4587574 (3369)\n",
      "Clp0006I 83527  Obj 22.589394 Dual inf 24.004932 (2150)\n",
      "Clp0006I 84120  Obj 22.569388 Dual inf 5.0787316 (3257)\n",
      "Clp0006I 84684  Obj 22.549889 Dual inf 5.4311271 (2131)\n",
      "Clp0006I 85246  Obj 22.528437 Dual inf 1.3669478 (2352)\n",
      "Clp0006I 85899  Obj 22.502679 Dual inf 58.932852 (14560)\n",
      "Clp0006I 86434  Obj 22.484464 Dual inf 76.318208 (5148)\n",
      "Clp0006I 86518  Obj 22.481797 Dual inf 60.48322 (3869)\n",
      "Clp0006I 87367  Obj 22.464646 Dual inf 1.8047544 (1890)\n",
      "Clp0006I 88236  Obj 22.458313 Dual inf 36.001391 (8000)\n",
      "Clp0006I 88820  Obj 22.436099 Dual inf 9.0921022 (2905)\n",
      "Clp0006I 89393  Obj 22.415762 Dual inf 28.070233 (1916)\n",
      "Clp0006I 89888  Obj 22.394719 Dual inf 83.828517 (18025)\n",
      "Clp0006I 90352  Obj 22.377795 Dual inf 6.4274977 (3038)\n",
      "Clp0006I 90970  Obj 22.360391 Dual inf 5.1273102 (1860)\n",
      "Clp0006I 91582  Obj 22.336798 Dual inf 5.4725143 (1415)\n",
      "Clp0006I 92253  Obj 22.310104 Dual inf 76.840002 (3147)\n",
      "Clp0006I 92838  Obj 22.286768 Dual inf 60.693567 (2280)\n",
      "Clp0006I 93368  Obj 22.266757 Dual inf 5.7059215 (3517)\n",
      "Clp0006I 93981  Obj 22.253195 Dual inf 3.0523547 (2134)\n",
      "Clp0006I 94695  Obj 22.233363 Dual inf 186.32938 (1429)\n",
      "Clp0006I 95361  Obj 22.198848 Dual inf 21.539879 (2832)\n",
      "Clp0006I 96096  Obj 22.173791 Dual inf 3.6286224 (3371)\n",
      "Clp0006I 96526  Obj 22.149537 Dual inf 9.8899184 (1314)\n",
      "Clp0006I 97229  Obj 22.119887 Dual inf 10.246635 (1633)\n",
      "Clp0006I 97773  Obj 22.106716 Dual inf 60.041147 (1860)\n",
      "Clp0006I 98330  Obj 22.080812 Dual inf 48.203517 (1650)\n",
      "Clp0006I 98964  Obj 22.061021 Dual inf 30.095136 (3164)\n",
      "Clp0006I 99716  Obj 22.042339 Dual inf 5.9506054 (948)\n",
      "Clp0006I 100466  Obj 22.024014 Dual inf 2.390717 (2117)\n",
      "Clp0006I 101247  Obj 22.005698 Dual inf 1.5848259 (2546)\n",
      "Clp0006I 101959  Obj 21.988858 Dual inf 2.3309241 (1070)\n",
      "Clp0006I 102741  Obj 21.968308 Dual inf 5.0561063 (1043)\n",
      "Clp0006I 103503  Obj 21.947487 Dual inf 10.502273 (2338)\n",
      "Clp0006I 104178  Obj 21.932231 Dual inf 1.0783891 (1887)\n",
      "Clp0006I 104890  Obj 21.916985 Dual inf 2.4655869 (871)\n",
      "Clp0006I 105569  Obj 21.905622 Dual inf 2.8376808 (1031)\n",
      "Clp0006I 106195  Obj 21.895634 Dual inf 2.0585205 (1916)\n",
      "Clp0006I 106744  Obj 21.883852 Dual inf 11.073095 (1392)\n",
      "Clp0006I 107312  Obj 21.875922 Dual inf 0.70714762 (1496)\n",
      "Clp0006I 107996  Obj 21.865999 Dual inf 35.123643 (2352)\n",
      "Clp0006I 108832  Obj 21.855753 Dual inf 1.0797315 (1466)\n",
      "Clp0006I 109591  Obj 21.849918 Dual inf 1.8543265 (1439)\n",
      "Clp0006I 110361  Obj 21.845113 Dual inf 0.71763147 (956)\n",
      "Clp0006I 111160  Obj 21.839965 Dual inf 0.3757601 (907)\n",
      "Clp0006I 111833  Obj 21.835786 Dual inf 0.25983045 (284)\n",
      "Clp0006I 112543  Obj 21.833264 Dual inf 0.17154079 (289)\n",
      "Clp0006I 113243  Obj 21.832185 Dual inf 0.071949504 (129)\n",
      "Clp0006I 113643  Obj 21.831847\n",
      "Clp0000I Optimal - objective value 21.831847\n",
      "Coin0511I After Postsolve, objective 21.831847, infeasibilities - dual 0 (0), primal 0.00098601847 (100)\n",
      "Coin0512I Presolved model was optimal, full model needs cleaning up\n",
      "Clp0006I 0  Obj 21.831847 Primal inf 2.947721e-05 (76) Dual inf 9.2879036e+11 (91)\n",
      "Clp0029I End of values pass after 67 iterations\n",
      "Clp0006I 67  Obj 21.831847 Dual inf 0.015146358 (4)\n",
      "Clp0006I 70  Obj 21.831847\n",
      "Clp0000I Optimal - objective value 21.831847\n",
      "Clp0032I Optimal objective 21.83184732 - 113713 iterations time 572.032, Presolve 5.41\n"
     ]
    }
   ],
   "source": [
    "optimize!(RES_FR);"
   ]
  },
  {
   "cell_type": "markdown",
   "metadata": {},
   "source": [
    "Increase solver precision (quite fast: there is probably a warm start)"
   ]
  },
  {
   "cell_type": "code",
   "execution_count": 146,
   "metadata": {},
   "outputs": [
    {
     "name": "stdout",
     "output_type": "stream",
     "text": [
      "Coin0506I Presolve 157694 (-105132) rows, 131411 (-43806) columns and 556610 (-219025) elements\n",
      "Clp0006I 0  Obj 21.831847 Dual inf 25.626784 (13909)\n",
      "Clp0029I End of values pass after 1 iterations\n",
      "Clp0006I 1  Obj 21.831847\n",
      "Clp0000I Optimal - objective value 21.831847\n",
      "Coin0511I After Postsolve, objective 21.831847, infeasibilities - dual 0 (0), primal 0 (0)\n",
      "Clp0032I Optimal objective 21.83184732 - 1 iterations time 5.682, Presolve 5.05\n"
     ]
    }
   ],
   "source": [
    "set_optimizer_attribute(RES_FR, \"PrimalTolerance\", 1e-9)\n",
    "set_optimizer_attribute(RES_FR, \"DualTolerance\", 1e-9)\n",
    "optimize!(RES_FR);"
   ]
  },
  {
   "cell_type": "code",
   "execution_count": 134,
   "metadata": {},
   "outputs": [
    {
     "data": {
      "text/plain": [
       "OPTIMAL::TerminationStatusCode = 1"
      ]
     },
     "execution_count": 134,
     "metadata": {},
     "output_type": "execute_result"
    }
   ],
   "source": [
    "termination_status(RES_FR)"
   ]
  },
  {
   "cell_type": "markdown",
   "metadata": {},
   "source": [
    "## Results\n",
    "\n",
    "For comparison, we show (with cosmetic edits) the content of `2006.txt`, the file output from the GAMS model run"
   ]
  },
  {
   "cell_type": "markdown",
   "metadata": {},
   "source": [
    "Cost\n",
    "\n",
    "```\n",
    "I)Overall investment cost is       21.83b€\n",
    "```"
   ]
  },
  {
   "cell_type": "code",
   "execution_count": 147,
   "metadata": {},
   "outputs": [
    {
     "data": {
      "text/plain": [
       "21.831847320934884"
      ]
     },
     "execution_count": 147,
     "metadata": {},
     "output_type": "execute_result"
    }
   ],
   "source": [
    "value(COST)"
   ]
  },
  {
   "cell_type": "markdown",
   "metadata": {},
   "source": [
    "Installed capacities:\n",
    "\n",
    "```\n",
    "II)the Renewable capacity\n",
    "\n",
    "Offshore                       12.90 GW\n",
    "onsore                         79.39 GW\n",
    "PV                            121.77 GW\n",
    "run of river                    7.50 GW\n",
    "lake                           12.86 GW\n",
    "biogas                         33.11 GW\n",
    "gas                            33.11 GW\n",
    "PHS                             9.30 GW\n",
    "Battery                        20.06 GW\n",
    "methanation                    33.11 GW\n",
    "```"
   ]
  },
  {
   "cell_type": "code",
   "execution_count": 148,
   "metadata": {},
   "outputs": [
    {
     "data": {
      "text/plain": [
       "10×2 Array{Any,2}:\n",
       " :offshore      12.8981\n",
       " :onshore       79.3939\n",
       " :pv           121.774\n",
       " :river          7.5\n",
       " :lake          12.855\n",
       " :biogas        33.1064\n",
       " :gas           33.1064\n",
       " :phs            9.3\n",
       " :battery       20.0551\n",
       " :methanation   33.1064"
      ]
     },
     "execution_count": 148,
     "metadata": {},
     "output_type": "execute_result"
    }
   ],
   "source": [
    "CAPA_res = value.(CAPA)\n",
    "[tec CAPA_res] # GW"
   ]
  },
  {
   "cell_type": "markdown",
   "metadata": {},
   "source": [
    "Storage\n",
    "\n",
    "```\n",
    "III)Needed storage volume and storage charging power\n",
    "\n",
    "PHS Storage                   180.00 GWh\n",
    "Battery Storage                73.73 GWh\n",
    "methane storage             12576.24 GWh\n",
    "PHS Storage                     9.30 GW\n",
    "Battery Storage                20.06 GW\n",
    "methane storage                 7.66 GW\n",
    "```"
   ]
  },
  {
   "cell_type": "code",
   "execution_count": 149,
   "metadata": {},
   "outputs": [
    {
     "data": {
      "text/plain": [
       "3×3 Array{Any,2}:\n",
       " :phs            180.0      9.3\n",
       " :battery         73.7261  20.0551\n",
       " :methanation  12441.6      7.66231"
      ]
     },
     "execution_count": 149,
     "metadata": {},
     "output_type": "execute_result"
    }
   ],
   "source": [
    "CAPACITY_res = value.(CAPACITY) # GWh\n",
    "S_res = value.(S) # GW\n",
    "[str CAPACITY_res S_res]"
   ]
  },
  {
   "cell_type": "markdown",
   "metadata": {},
   "source": [
    "**Warning**: there is a difference of 100 GWh on methanation"
   ]
  },
  {
   "cell_type": "markdown",
   "metadata": {},
   "source": [
    "Reserves:\n",
    "```\n",
    "IV)Secondary reserve requirements\n",
    "\n",
    "lake                            8.09GW\n",
    "gas                             8.18GW\n",
    "Pumped Storage                  8.15GW\n",
    "Battery                         8.16GW\n",
    "```\n"
   ]
  },
  {
   "cell_type": "code",
   "execution_count": 150,
   "metadata": {},
   "outputs": [
    {
     "data": {
      "text/plain": [
       "4×2 Array{Any,2}:\n",
       " :lake     8.16379\n",
       " :phs      8.16841\n",
       " :battery  8.17573\n",
       " :gas      8.16653"
      ]
     },
     "execution_count": 150,
     "metadata": {},
     "output_type": "execute_result"
    }
   ],
   "source": [
    "RSV_res = value.(RSV)\n",
    "# 'capacity allocated for reserve from each FRR tech in GW';\n",
    "reserve = [maximum(RSV_res[frrk, :]) for frrk in frr]\n",
    "[frr reserve]"
   ]
  },
  {
   "cell_type": "markdown",
   "metadata": {},
   "source": [
    "Total generation by tec:\n",
    "\n",
    "```\n",
    "V)Overall yearly energy generation of each technology\n",
    "\n",
    "Offshore                       59.37 TWh\n",
    "onsore                        225.83 TWh\n",
    "PV                            173.16 TWh\n",
    "run of river                   29.19 TWh\n",
    "lake                           15.82 TWh\n",
    "biogas                         15.00 TWh\n",
    "gas                            25.05 TWh\n",
    "phs                            20.93 TWh\n",
    "battery                        13.34 TWh\n",
    "Methanation                    10.05 TWh\n",
    "```"
   ]
  },
  {
   "cell_type": "code",
   "execution_count": 151,
   "metadata": {},
   "outputs": [
    {
     "data": {
      "text/plain": [
       "10×2 Array{Any,2}:\n",
       " :offshore      59.3653\n",
       " :onshore      225.832\n",
       " :pv           173.162\n",
       " :river         29.1868\n",
       " :lake          15.8155\n",
       " :biogas        15.0\n",
       " :gas           25.0505\n",
       " :phs           19.7191\n",
       " :battery       13.3403\n",
       " :methanation   10.0505"
      ]
     },
     "execution_count": 151,
     "metadata": {},
     "output_type": "execute_result"
    }
   ],
   "source": [
    "GENE_res = value.(GENE)\n",
    "# 'Overall yearly energy generated by the technology in TWh';\n",
    "gene_tec = DAArray(dropdims(sum(GENE_res.data,dims=2),dims=2)/1000, tec);\n",
    "[tec gene_tec]"
   ]
  },
  {
   "cell_type": "markdown",
   "metadata": {},
   "source": [
    "capacity factors:\n",
    "```\n",
    "Offshore                         0.53\n",
    "onsore                           0.32\n",
    "PV                               0.16\n",
    "run of river                     0.44\n",
    "lake                             0.14\n",
    "biogas                           0.05\n",
    "gas                              0.09\n",
    "```"
   ]
  },
  {
   "cell_type": "code",
   "execution_count": 155,
   "metadata": {},
   "outputs": [
    {
     "data": {
      "text/plain": [
       "7×2 Array{Any,2}:\n",
       " :offshore  0.525416\n",
       " :onshore   0.324709\n",
       " :pv        0.162328\n",
       " :river     0.444244\n",
       " :lake      0.140445\n",
       " :biogas    0.051722\n",
       " :gas       0.0863774"
      ]
     },
     "execution_count": 155,
     "metadata": {},
     "output_type": "execute_result"
    }
   ],
   "source": [
    "# load factor of generation technologies\n",
    "cf = DAArray([gene_tec[genk]*1000/(8760*CAPA_res[genk]) for genk in gen], gen)\n",
    "[gen cf]"
   ]
  },
  {
   "cell_type": "markdown",
   "metadata": {},
   "source": [
    "```\n",
    "VI)more details\n",
    "\n",
    "LCOE for Offshore                      41.58 €/MWh\n",
    "LCOE for Onshore                       39.45 €/MWh\n",
    "LCOE for PV                            27.59 €/MWh\n",
    "LCOE for Run-of-river                  40.80 €/MWh\n",
    "LCOE for Lake                          98.84 €/MWh\n",
    "LCOE for Biogas                        82.00 €/MWh\n",
    "LCOE for Gas                           66.43 €/MWh\n",
    "LCOS for battery                       84.10 €/MWh\n",
    "LCOS for pumped storage                16.43 €/MWh\n",
    "LCOS for methanation                  109.34 €/MWh\n",
    "\n",
    "Load Curtailment       12.03% and the storage loss         6.49%\n",
    "LCOE of the system is        42.12 €/MWh or        51.69 €/MWh\n",
    "Average spot price of the system is        56.48 €/MWh\n",
    "```"
   ]
  },
  {
   "cell_type": "code",
   "execution_count": 152,
   "metadata": {},
   "outputs": [],
   "source": [
    "spot_price = 1000000*dual.(adequacy);"
   ]
  },
  {
   "cell_type": "code",
   "execution_count": 156,
   "metadata": {},
   "outputs": [
    {
     "data": {
      "text/plain": [
       "56.476517015173826"
      ]
     },
     "execution_count": 156,
     "metadata": {},
     "output_type": "execute_result"
    }
   ],
   "source": [
    "marginal_cost = sum(spot_price)/8760;\n",
    "marginal_cost # €/MWh"
   ]
  },
  {
   "cell_type": "markdown",
   "metadata": {},
   "source": [
    "### Plots"
   ]
  },
  {
   "cell_type": "code",
   "execution_count": 178,
   "metadata": {
    "scrolled": false
   },
   "outputs": [
    {
     "data": {
      "image/png": "[encoded data removed]",
      "text/plain": [
       "Figure(PyObject <Figure size 640x480 with 2 Axes>)"
      ]
     },
     "metadata": {},
     "output_type": "display_data"
    }
   ],
   "source": [
    "STORED_res = value.(STORED)\n",
    "fig, ax = plt.subplots(2,1, sharex=true)\n",
    "ax[1].set_title(\"Energy stored in each storage technology (GWh)\")\n",
    "ax[1].plot(h, STORED_res[:methanation,:].data', label=\"methanation\")\n",
    "ax[1].legend()\n",
    "\n",
    "ax[2].plot(h, STORED_res[:battery,:].data', label=\"batt\")\n",
    "ax[2].plot(h, STORED_res[:phs,:].data', label=\"phs\")\n",
    "ax[2].legend();"
   ]
  },
  {
   "cell_type": "markdown",
   "metadata": {},
   "source": [
    "Spot price: \n",
    "there is a huge peak in February"
   ]
  },
  {
   "cell_type": "code",
   "execution_count": 182,
   "metadata": {
    "scrolled": false
   },
   "outputs": [
    {
     "data": {
      "image/png": "[encoded data removed]",
      "text/plain": [
       "Figure(PyObject <Figure size 640x480 with 1 Axes>)"
      ]
     },
     "metadata": {},
     "output_type": "display_data"
    },
    {
     "data": {
      "text/plain": [
       "(500.0, 1000.0)"
      ]
     },
     "execution_count": 182,
     "metadata": {},
     "output_type": "execute_result"
    }
   ],
   "source": [
    "plot(h,spot_price.data)\n",
    "xlim(500, 1000)"
   ]
  },
  {
   "cell_type": "code",
   "execution_count": 165,
   "metadata": {
    "scrolled": false
   },
   "outputs": [
    {
     "data": {
      "image/png": "[encoded data removed]",
      "text/plain": [
       "Figure(PyObject <Figure size 640x480 with 1 Axes>)"
      ]
     },
     "metadata": {},
     "output_type": "display_data"
    }
   ],
   "source": [
    "plot(h,spot_price.data)\n",
    "ylim(-10, 200)\n",
    "title(\"Marginal electricity price (€/MWh)\");"
   ]
  }
 ],
 "metadata": {
  "@webio": {
   "lastCommId": null,
   "lastKernelId": null
  },
  "kernelspec": {
   "display_name": "Julia 1.5.2",
   "language": "julia",
   "name": "julia-1.5"
  },
  "language_info": {
   "file_extension": ".jl",
   "mimetype": "application/julia",
   "name": "julia",
   "version": "1.5.2"
  },
  "toc": {
   "base_numbering": 1,
   "nav_menu": {},
   "number_sections": true,
   "sideBar": true,
   "skip_h1_title": true,
   "title_cell": "Table of Contents",
   "title_sidebar": "Contents",
   "toc_cell": false,
   "toc_position": {
    "height": "calc(100% - 180px)",
    "left": "10px",
    "top": "150px",
    "width": "178.8px"
   },
   "toc_section_display": true,
   "toc_window_display": true
  }
 },
 "nbformat": 4,
 "nbformat_minor": 4
}
