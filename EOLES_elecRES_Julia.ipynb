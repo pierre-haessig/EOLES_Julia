{
 "cells": [
  {
   "cell_type": "markdown",
   "metadata": {},
   "source": [
    "# EOLES_elecRES in Julia\n",
    "\n",
    "This notebook is a translation to [Julia](https://julialang.org/) (with the [JuMP](https://jump.dev/) package)\n",
    "of the 100% renewable electricity optimization model [EOLES_elecRES](https://github.com/BehrangShirizadeh/EOLES_elecRES) which is written in [GAMS](https://www.gams.com/latest/docs/UG_MAIN.html).\n",
    "\n",
    "More precisely this is the port of the [EOLES_elecRES.gms](https://github.com/BehrangShirizadeh/EOLES_elecRES/blob/master/model/EOLES_elecRES.gms) model. The translation is kept as close as possible to the original GAMS code, with many reproduction of GAMS code extracts.\n",
    "It is meant to be fully compatible, e.g. by running on the exact same input files (in `input` folder).\n",
    "\n",
    "License: see [LICENSE.txt](LICENSE.txt)"
   ]
  },
  {
   "cell_type": "code",
   "execution_count": 1,
   "metadata": {},
   "outputs": [],
   "source": [
    "using CSV, DataFrames, PyPlot\n",
    "using JuMP, Clp"
   ]
  },
  {
   "cell_type": "code",
   "execution_count": 2,
   "metadata": {},
   "outputs": [],
   "source": [
    "const DAArray = JuMP.Containers.DenseAxisArray;"
   ]
  },
  {
   "cell_type": "markdown",
   "metadata": {},
   "source": [
    "## Model data"
   ]
  },
  {
   "cell_type": "markdown",
   "metadata": {},
   "source": [
    "### Sets"
   ]
  },
  {
   "cell_type": "markdown",
   "metadata": {},
   "source": [
    "#### hours and months\n",
    "\n",
    "See GAMS User guide, [§Set Definition/Sequences as Set Elements](https://www.gams.com/latest/docs/UG_SetDefinition.html#UG_SetDefinition_SequencesAsSetElements) for the definition of `*`"
   ]
  },
  {
   "cell_type": "markdown",
   "metadata": {},
   "source": [
    "sets `h /0*8759/`\n",
    "\n",
    "         first(h)        'first hour'\n",
    "         last(h)         'last hour'\n",
    "         \n",
    "         first(h) = ord(h)=1;\n",
    "last(h) = ord(h)=card(h);\n",
    "\n",
    "alias(h,hh);"
   ]
  },
  {
   "cell_type": "code",
   "execution_count": 3,
   "metadata": {},
   "outputs": [
    {
     "data": {
      "text/plain": [
       "0:8759"
      ]
     },
     "execution_count": 3,
     "metadata": {},
     "output_type": "execute_result"
    }
   ],
   "source": [
    "h = 0:8759"
   ]
  },
  {
   "cell_type": "code",
   "execution_count": 4,
   "metadata": {},
   "outputs": [],
   "source": [
    "first_h = h .== h[1] # BitArray, with first element true\n",
    "last_h = h .== h[end]; # BitArray, with last element true"
   ]
  },
  {
   "cell_type": "code",
   "execution_count": 5,
   "metadata": {},
   "outputs": [
    {
     "data": {
      "text/plain": [
       "12-element Vector{Symbol}:\n",
       " :jan\n",
       " :feb\n",
       " :mar\n",
       " :apr\n",
       " :may\n",
       " :jun\n",
       " :jul\n",
       " :aug\n",
       " :sep\n",
       " :oct\n",
       " :nov\n",
       " :dec"
      ]
     },
     "execution_count": 5,
     "metadata": {},
     "output_type": "execute_result"
    }
   ],
   "source": [
    "m = [:jan, :feb, :mar, :apr, :may, :jun, :jul, :aug, :sep, :oct, :nov, :dec]"
   ]
  },
  {
   "cell_type": "markdown",
   "metadata": {},
   "source": [
    "#### technology sets"
   ]
  },
  {
   "cell_type": "markdown",
   "metadata": {},
   "source": [
    "All technologies"
   ]
  },
  {
   "cell_type": "code",
   "execution_count": 6,
   "metadata": {},
   "outputs": [
    {
     "data": {
      "text/plain": [
       "10-element Vector{Symbol}:\n",
       " :offshore\n",
       " :onshore\n",
       " :pv\n",
       " :river\n",
       " :lake\n",
       " :biogas\n",
       " :gas\n",
       " :phs\n",
       " :battery\n",
       " :methanation"
      ]
     },
     "execution_count": 6,
     "metadata": {},
     "output_type": "execute_result"
    }
   ],
   "source": [
    "tec = [:offshore, :onshore, :pv, :river, :lake, :biogas, :gas, :phs, :battery, :methanation] "
   ]
  },
  {
   "cell_type": "markdown",
   "metadata": {},
   "source": [
    "Subsets of `tec`"
   ]
  },
  {
   "cell_type": "code",
   "execution_count": 7,
   "metadata": {},
   "outputs": [],
   "source": [
    "# power plants\n",
    "gen = [:offshore, :onshore, :pv, :river, :lake, :biogas, :gas]\n",
    "# variable tecs\n",
    "vre = [:offshore, :onshore, :pv]\n",
    "# non-combustible generation\n",
    "ncomb = [:offshore, :onshore, :pv, :river, :lake, :phs, :battery]\n",
    "# combustible generation techs\n",
    "# Remark: in equations, its defined that 'gas' generation \n",
    "# is the sum of the generations from 'comb' elements\n",
    "comb = [:biogas, :methanation]\n",
    "# storage technologies\n",
    "str = [:phs, :battery, :methanation]\n",
    "# technologies for upward FRR\n",
    "frr = [:lake, :phs, :battery, :gas];"
   ]
  },
  {
   "cell_type": "markdown",
   "metadata": {},
   "source": [
    "Check that subsets are indeed subsets (i.e. performing the automatic [domain checking](https://www.gams.com/latest/docs/UG_SetDefinition.html#UG_SetDefinition_DomainChecking) of GAMS)"
   ]
  },
  {
   "cell_type": "code",
   "execution_count": 8,
   "metadata": {},
   "outputs": [],
   "source": [
    "for tec_subset in [gen, vre, ncomb, comb, str, frr]\n",
    "    @assert issubset(tec_subset, tec) \"should be a subset of tec!\"\n",
    "end"
   ]
  },
  {
   "cell_type": "markdown",
   "metadata": {},
   "source": [
    "### Parameters"
   ]
  },
  {
   "cell_type": "markdown",
   "metadata": {},
   "source": [
    "Original GAMS definition for months:\n",
    "```\n",
    "parameter month(h)  /0*743 1, 744*1439 2, 1440*2183 3, 2184*2903 4\n",
    "                    2904*3647 5, 3648*4367 6, 4368*5111 7, 5112*5855 8\n",
    "                    5856*6575 9, 6576*7319 10, 7320*8039 11, 8040*8759 12/\n",
    "```"
   ]
  },
  {
   "cell_type": "markdown",
   "metadata": {},
   "source": [
    "observe that February has 29 days, which is compensated by December having only 30:"
   ]
  },
  {
   "cell_type": "code",
   "execution_count": 9,
   "metadata": {},
   "outputs": [
    {
     "data": {
      "text/plain": [
       "(29.0, 30.0)"
      ]
     },
     "execution_count": 9,
     "metadata": {},
     "output_type": "execute_result"
    }
   ],
   "source": [
    "(1439 - 744 +1)/24, (8759 - 8040 +1)/24"
   ]
  },
  {
   "cell_type": "code",
   "execution_count": 10,
   "metadata": {},
   "outputs": [
    {
     "data": {
      "image/png": "[encoded data removed]",
      "text/plain": [
       "Figure(PyObject <Figure size 600x250 with 1 Axes>)"
      ]
     },
     "metadata": {},
     "output_type": "display_data"
    }
   ],
   "source": [
    "month = [\n",
    "     repeat([1], 31*24);  repeat([2], 29*24);  repeat([3], 31*24);  repeat([4], 30*24);\n",
    "     repeat([5], 31*24);  repeat([6], 30*24);  repeat([7], 31*24);  repeat([8], 31*24);\n",
    "     repeat([9], 30*24); repeat([10], 31*24); repeat([11], 30*24); repeat([12], 30*24)\n",
    "]\n",
    "\n",
    "figure(figsize=(6,2.5))\n",
    "plot(h, month);"
   ]
  },
  {
   "cell_type": "markdown",
   "metadata": {},
   "source": [
    "Convert `month` values from Integers to corresponding Symbols"
   ]
  },
  {
   "cell_type": "code",
   "execution_count": 11,
   "metadata": {},
   "outputs": [],
   "source": [
    "month_sym = [m[mk] for mk in month];"
   ]
  },
  {
   "cell_type": "markdown",
   "metadata": {},
   "source": [
    "Helper to read CSV files"
   ]
  },
  {
   "cell_type": "code",
   "execution_count": 12,
   "metadata": {},
   "outputs": [
    {
     "data": {
      "text/plain": [
       "readdelim"
      ]
     },
     "execution_count": 12,
     "metadata": {},
     "output_type": "execute_result"
    }
   ],
   "source": [
    "\"\"\"\n",
    "    readdelim(source, dims...; default_value=0.)\n",
    "\n",
    "Read the CSV file `source` formatted as for the GAMS' `\\$onDelim`/`\\$offDelim` instructions\n",
    "(i.e. a long, database-like format).\n",
    "The vectors of each dimension of the output are specified with `dims`.\n",
    "\n",
    "Remark: Strings are lowercased and converted to Symbols\n",
    "\"\"\"\n",
    "function readdelim(source, dims...; default_value=0.)\n",
    "    print(\"reading $source...\")\n",
    "    # create reverse maps from value  to index for each dim vector\n",
    "    ndim = length(dims)\n",
    "    dim_maps = []\n",
    "    for dim in dims\n",
    "        dim_map = Dict((v,i) for (i,v) in enumerate(dim))\n",
    "        push!(dim_maps, dim_map)\n",
    "    end\n",
    "    \n",
    "    # load datafile\n",
    "    df = DataFrame(CSV.File(source, header=false))\n",
    "    ncol = size(df,2)\n",
    "    @assert ncol == (ndim+1) \"$(ndim+1) columns exected in $source, got $(ncol)\"\n",
    "    \n",
    "    # Create array and fill with data\n",
    "    a = zeros((length(dim) for dim in dims)...)\n",
    "    fill!(a, default_value)\n",
    "    \n",
    "    to_symb(a) = if (typeof(a) <: AbstractString) Symbol(lowercase(a)) else a end\n",
    "    \n",
    "    for row in eachrow(df)\n",
    "        if ndim == 1\n",
    "            i = dim_maps[1][to_symb(row[1])]\n",
    "            a[i] = row[2]\n",
    "        elseif ndim == 2\n",
    "            i = dim_maps[1][to_symb(row[1])]\n",
    "            j = dim_maps[2][to_symb(row[2])]\n",
    "            a[i,j] = row[3]\n",
    "        else\n",
    "            throw(ArgumentError(\"only 2 dims supported, got $(ndim)!\"))\n",
    "        end\n",
    "    end\n",
    "    # Convert to JuMP.Containers.DenseAxisArray for easier indexing\n",
    "    return JuMP.Containers.DenseAxisArray(a, dims...)\n",
    "end"
   ]
  },
  {
   "cell_type": "markdown",
   "metadata": {},
   "source": [
    "parameter `load_factor(vre,h)` 'Production profiles of VRE'\n",
    "\n",
    "from file `inputs/vre_profiles2006.csv`"
   ]
  },
  {
   "cell_type": "code",
   "execution_count": 13,
   "metadata": {},
   "outputs": [
    {
     "name": "stdout",
     "output_type": "stream",
     "text": [
      "reading inputs/vre_profiles2006.csv..."
     ]
    },
    {
     "data": {
      "text/plain": [
       "2-dimensional DenseAxisArray{Float64,2,...} with index sets:\n",
       "    Dimension 1, [:offshore, :onshore, :pv]\n",
       "    Dimension 2, 0:8759\n",
       "And data, a 3×8760 Matrix{Float64}:\n",
       " 0.865143  0.88     0.88      0.873429  …  0.990286  0.991     0.988143\n",
       " 0.511702  0.52791  0.537973  0.541571     0.826158  0.825222  0.818481\n",
       " 0.0       0.0      0.0       0.0          0.0       0.0       0.0"
      ]
     },
     "execution_count": 13,
     "metadata": {},
     "output_type": "execute_result"
    }
   ],
   "source": [
    "load_factor = readdelim(\"inputs/vre_profiles2006.csv\", vre, h; default_value=0.)"
   ]
  },
  {
   "cell_type": "code",
   "execution_count": 14,
   "metadata": {},
   "outputs": [
    {
     "data": {
      "image/png": "[encoded data removed]",
      "text/plain": [
       "Figure(PyObject <Figure size 900x300 with 4 Axes>)"
      ]
     },
     "metadata": {},
     "output_type": "display_data"
    }
   ],
   "source": [
    "z = 1:24*14 # zoom\n",
    "fig, ax = subplots(2,2, figsize=(9, 3), sharey=true)\n",
    "\n",
    "# Wind\n",
    "ax[1,1].plot(h, load_factor[:offshore,:].data, label=vre[1])\n",
    "ax[1,1].plot(h, load_factor[:onshore,:].data, \"C2\", label=vre[2])\n",
    "ax[1,2].plot(h[z], load_factor[:offshore,:].data[z], label=vre[1])\n",
    "ax[1,2].plot(h[z], load_factor[:onshore,:].data[z], \"C2\", label=vre[2])\n",
    "ax[1,2].legend(ncol=2)\n",
    "\n",
    "# PV\n",
    "ax[2,1].plot(h, load_factor[:pv,:].data, \"C1\", label=vre[3])\n",
    "ax[2,2].plot(h[z], load_factor[:pv,:].data[z], \"C1\", label=vre[3])\n",
    "ax[2,2].legend()\n",
    "\n",
    "fig.suptitle(\"VRE capacity factors\")\n",
    "fig.tight_layout();"
   ]
  },
  {
   "cell_type": "markdown",
   "metadata": {},
   "source": [
    "Parameter `demand(h)` 'demand profile in each hour in GW'\n",
    "\n",
    "from file `inputs/demand2050_ademe.csv`"
   ]
  },
  {
   "cell_type": "code",
   "execution_count": 15,
   "metadata": {},
   "outputs": [
    {
     "name": "stdout",
     "output_type": "stream",
     "text": [
      "reading inputs/demand2050_ademe.csv..."
     ]
    }
   ],
   "source": [
    "demand = readdelim(\"inputs/demand2050_ademe.csv\", h);"
   ]
  },
  {
   "cell_type": "code",
   "execution_count": 16,
   "metadata": {},
   "outputs": [
    {
     "data": {
      "image/png": "[encoded data removed]",
      "text/plain": [
       "Figure(PyObject <Figure size 1000x300 with 1 Axes>)"
      ]
     },
     "metadata": {},
     "output_type": "display_data"
    }
   ],
   "source": [
    "figure(figsize=(10, 3))\n",
    "plot(h, demand.data)\n",
    "title(\"Demand (GW)\")\n",
    "tight_layout()"
   ]
  },
  {
   "cell_type": "markdown",
   "metadata": {},
   "source": [
    "Parameter `lake_inflows(m)` 'monthly lake inflows in GWh'\n",
    "\n",
    "from `inputs/lake_inflows.csv`"
   ]
  },
  {
   "cell_type": "code",
   "execution_count": 20,
   "metadata": {},
   "outputs": [
    {
     "name": "stdout",
     "output_type": "stream",
     "text": [
      "reading inputs/lake_inflows.csv..."
     ]
    },
    {
     "data": {
      "image/png": "[encoded data removed]",
      "text/plain": [
       "Figure(PyObject <Figure size 600x250 with 1 Axes>)"
      ]
     },
     "metadata": {},
     "output_type": "display_data"
    },
    {
     "data": {
      "text/plain": [
       "15.8154775"
      ]
     },
     "execution_count": 20,
     "metadata": {},
     "output_type": "execute_result"
    }
   ],
   "source": [
    "lake_inflows = readdelim(\"inputs/lake_inflows.csv\", m)\n",
    "\n",
    "figure(figsize=(6,2.5))\n",
    "step(m, lake_inflows.data, where=\"mid\")\n",
    "title(\"Lake inflows (TWh/month)\")\n",
    "tight_layout()\n",
    "sum(lake_inflows) # TWh/y"
   ]
  },
  {
   "cell_type": "markdown",
   "metadata": {},
   "source": [
    "parameter `gene_river(h)` 'hourly run of river power generation in GWh'\n",
    "\n",
    "from `inputs/run_of_river.csv`"
   ]
  },
  {
   "cell_type": "code",
   "execution_count": 18,
   "metadata": {},
   "outputs": [
    {
     "name": "stdout",
     "output_type": "stream",
     "text": [
      "reading inputs/run_of_river.csv..."
     ]
    },
    {
     "data": {
      "image/png": "[encoded data removed]",
      "text/plain": [
       "Figure(PyObject <Figure size 1000x300 with 1 Axes>)"
      ]
     },
     "metadata": {},
     "output_type": "display_data"
    }
   ],
   "source": [
    "gene_river = readdelim(\"inputs/run_of_river.csv\", h)\n",
    "\n",
    "figure(figsize=(10, 3))\n",
    "plot(h, gene_river.data)\n",
    "title(\"Run of river generation (GW)\")\n",
    "tight_layout()"
   ]
  },
  {
   "cell_type": "markdown",
   "metadata": {},
   "source": [
    "parameter `epsilon(vre)` 'additional FRR requirement for variable renewable energies because of forecast errors'\n",
    "\n",
    "from `inputs/reserve_requirements.csv`"
   ]
  },
  {
   "cell_type": "code",
   "execution_count": 21,
   "metadata": {},
   "outputs": [
    {
     "name": "stdout",
     "output_type": "stream",
     "text": [
      "reading inputs/reserve_requirements.csv..."
     ]
    },
    {
     "data": {
      "text/plain": [
       "3×2 Matrix{Any}:\n",
       " :offshore  0.027\n",
       " :onshore   0.027\n",
       " :pv        0.038"
      ]
     },
     "execution_count": 21,
     "metadata": {},
     "output_type": "execute_result"
    }
   ],
   "source": [
    "epsilon = readdelim(\"inputs/reserve_requirements.csv\", vre)\n",
    "[vre epsilon]"
   ]
  },
  {
   "cell_type": "markdown",
   "metadata": {},
   "source": [
    "parameter `capa_ex(tec)` 'existing capacities of the technologies by December 2017 in GW'\n",
    "\n",
    "from `inputs/existing_capas.csv`\n",
    "\n",
    "Remark: gas is missing from file, but default value is 0. in `readdelim`"
   ]
  },
  {
   "cell_type": "code",
   "execution_count": 22,
   "metadata": {},
   "outputs": [
    {
     "name": "stdout",
     "output_type": "stream",
     "text": [
      "reading inputs/existing_capas.csv..."
     ]
    },
    {
     "data": {
      "text/plain": [
       "10×2 Matrix{Any}:\n",
       " :offshore      0.0\n",
       " :onshore       0.0\n",
       " :pv            0.0\n",
       " :river         7.5\n",
       " :lake         12.855\n",
       " :biogas        0.0\n",
       " :gas           0.0\n",
       " :phs           4.94\n",
       " :battery       0.0\n",
       " :methanation   0.0"
      ]
     },
     "execution_count": 22,
     "metadata": {},
     "output_type": "execute_result"
    }
   ],
   "source": [
    "capa_ex = readdelim(\"inputs/existing_capas.csv\", tec)\n",
    "[tec capa_ex]"
   ]
  },
  {
   "cell_type": "markdown",
   "metadata": {},
   "source": [
    "parameter `capa_max(tec)` 'maximum capacities of the technologies in GW'\n",
    "\n",
    "from `inputs/max_capas.csv`\n",
    "\n",
    "Remarks:\n",
    "- again \"gas\" is missing from the file\n",
    "- but eventually, only the values for offshore, onshore and pv is used to contraint the `CAPA` variable.\n",
    "- \"phs\" max capa is set in `pump_capa=9.3` (coherent with file)\n",
    "- \"lake\" max capacity is set to 13 (coherent with file)\n",
    "- \"river\" capacity is *fixed* to `capa_ex('river')` (7.5, which is coherent with file)"
   ]
  },
  {
   "cell_type": "code",
   "execution_count": 23,
   "metadata": {},
   "outputs": [
    {
     "name": "stdout",
     "output_type": "stream",
     "text": [
      "reading inputs/max_capas.csv..."
     ]
    },
    {
     "data": {
      "text/plain": [
       "10×2 Matrix{Any}:\n",
       " :offshore      20.0\n",
       " :onshore      120.0\n",
       " :pv           218.0\n",
       " :river          7.5\n",
       " :lake          13.0\n",
       " :biogas       100.0\n",
       " :gas            0.0\n",
       " :phs            9.3\n",
       " :battery      100.0\n",
       " :methanation  100.0"
      ]
     },
     "execution_count": 23,
     "metadata": {},
     "output_type": "execute_result"
    }
   ],
   "source": [
    "capa_max = readdelim(\"inputs/max_capas.csv\", tec)\n",
    "[tec capa_max]"
   ]
  },
  {
   "cell_type": "markdown",
   "metadata": {},
   "source": [
    "parameter `capex(tec)` 'annualized power capex cost in M€/GW/year'\n",
    "\n",
    "from `inputs/annuities.csv`"
   ]
  },
  {
   "cell_type": "code",
   "execution_count": 24,
   "metadata": {},
   "outputs": [
    {
     "name": "stdout",
     "output_type": "stream",
     "text": [
      "reading inputs/annuities.csv..."
     ]
    }
   ],
   "source": [
    "capex = readdelim(\"inputs/annuities.csv\", tec);"
   ]
  },
  {
   "cell_type": "markdown",
   "metadata": {},
   "source": [
    "parameter `capex_en(str)` 'annualized energy capex cost of storage technologies in M€/GWh/year'\n",
    "\n",
    "from `inputs/str_annuities.csv`"
   ]
  },
  {
   "cell_type": "code",
   "execution_count": 25,
   "metadata": {},
   "outputs": [
    {
     "name": "stdout",
     "output_type": "stream",
     "text": [
      "reading inputs/str_annuities.csv..."
     ]
    },
    {
     "data": {
      "text/plain": [
       "3×2 Matrix{Any}:\n",
       " :phs           0.246938\n",
       " :battery      10.634\n",
       " :methanation   0.0"
      ]
     },
     "execution_count": 25,
     "metadata": {},
     "output_type": "execute_result"
    }
   ],
   "source": [
    "capex_en = readdelim(\"inputs/str_annuities.csv\", str)\n",
    "[str capex_en]"
   ]
  },
  {
   "cell_type": "markdown",
   "metadata": {},
   "source": [
    "parameter `fOM(tec)` 'annualized fixed operation and maintenance costs M€/GW/year'\n",
    "\n",
    "from `inputs/fO&M.csv`"
   ]
  },
  {
   "cell_type": "code",
   "execution_count": 26,
   "metadata": {},
   "outputs": [
    {
     "name": "stdout",
     "output_type": "stream",
     "text": [
      "reading inputs/fO&M.csv..."
     ]
    }
   ],
   "source": [
    "fOM = readdelim(\"inputs/fO&M.csv\", tec);"
   ]
  },
  {
   "cell_type": "markdown",
   "metadata": {},
   "source": [
    "Total fixed costs:"
   ]
  },
  {
   "cell_type": "code",
   "execution_count": 27,
   "metadata": {},
   "outputs": [
    {
     "data": {
      "text/plain": [
       "10×4 Matrix{Any}:\n",
       " :offshore     144.368   47.0318   191.4\n",
       " :onshore       77.6621  34.5477   112.21\n",
       " :pv            30.0052   9.22619   39.2314\n",
       " :river        143.909   14.85     158.759\n",
       " :lake         110.233   11.375    121.608\n",
       " :biogas         0.0      0.0        0.0\n",
       " :gas           33.7653  16.5       50.2653\n",
       " :phs           24.6938   7.5       32.1938\n",
       " :battery       14.8876   1.96      16.8476\n",
       " :methanation    0.0      0.0        0.0"
      ]
     },
     "execution_count": 27,
     "metadata": {},
     "output_type": "execute_result"
    }
   ],
   "source": [
    "fixed_costs = DAArray(capex.data + fOM.data, tec) # 'yearly fixed cost of each tec in M€/GW/year'\n",
    "[tec capex fOM fixed_costs]"
   ]
  },
  {
   "cell_type": "markdown",
   "metadata": {},
   "source": [
    "parameter `vOM(tec)` 'Variable operation and maintenance costs in M€/GWh'\n",
    "\n",
    "from `inputs/vO&M.csv`"
   ]
  },
  {
   "cell_type": "code",
   "execution_count": 28,
   "metadata": {},
   "outputs": [
    {
     "name": "stdout",
     "output_type": "stream",
     "text": [
      "reading inputs/vO&M.csv..."
     ]
    },
    {
     "data": {
      "text/plain": [
       "10×2 Matrix{Any}:\n",
       " :offshore     0.0\n",
       " :onshore      0.0\n",
       " :pv           0.0\n",
       " :river        0.0\n",
       " :lake         0.0\n",
       " :biogas       0.082\n",
       " :gas          0.0\n",
       " :phs          0.0\n",
       " :battery      0.0021\n",
       " :methanation  0.005444"
      ]
     },
     "execution_count": 28,
     "metadata": {},
     "output_type": "execute_result"
    }
   ],
   "source": [
    "vOM = readdelim(\"inputs/vO&M.csv\", tec)\n",
    "[tec vOM]"
   ]
  },
  {
   "cell_type": "markdown",
   "metadata": {},
   "source": [
    "parameter `s_capex(str)` 'charging related annuity of storage in M€/GW/year' /PHS 0, battery 0, methanation 84.16086/;\n",
    "\n",
    "*Remark: this corresponds with the fact that capex[:methanation] is 0*"
   ]
  },
  {
   "cell_type": "code",
   "execution_count": 29,
   "metadata": {},
   "outputs": [
    {
     "data": {
      "text/plain": [
       "3×2 Matrix{Any}:\n",
       " :phs           0.0\n",
       " :battery       0.0\n",
       " :methanation  84.1609"
      ]
     },
     "execution_count": 29,
     "metadata": {},
     "output_type": "execute_result"
    }
   ],
   "source": [
    "s_capex = DAArray([0., 0., 84.16086], str)\n",
    "[str s_capex]"
   ]
  },
  {
   "cell_type": "markdown",
   "metadata": {},
   "source": [
    "parameter `s_opex(str)`    'charging related fOM of storage in M€/GW/year'   /PHS 0, battery 0, methanation 59.25/;"
   ]
  },
  {
   "cell_type": "code",
   "execution_count": 30,
   "metadata": {},
   "outputs": [
    {
     "data": {
      "text/plain": [
       "3×2 Matrix{Any}:\n",
       " :phs           0.0\n",
       " :battery       0.0\n",
       " :methanation  59.25"
      ]
     },
     "execution_count": 30,
     "metadata": {},
     "output_type": "execute_result"
    }
   ],
   "source": [
    "s_opex = DAArray([0., 0., 59.25], str)\n",
    "[str s_opex]"
   ]
  },
  {
   "cell_type": "markdown",
   "metadata": {},
   "source": [
    "Charging/discharging efficiency\n",
    "\n",
    "- parameter `eta_in(str)` 'charging efficiency of storage technologies' /PHS 0.95, battery 0.9, methanation 0.59/;\n",
    "- parameter `eta_out(str)` 'discharging efficiency of storage technolgoies' /PHS 0.9, battery 0.95, methanation 0.45/;"
   ]
  },
  {
   "cell_type": "code",
   "execution_count": 31,
   "metadata": {},
   "outputs": [
    {
     "data": {
      "text/plain": [
       "3×3 Matrix{Any}:\n",
       " :phs          0.95  0.9\n",
       " :battery      0.9   0.95\n",
       " :methanation  0.59  0.45"
      ]
     },
     "execution_count": 31,
     "metadata": {},
     "output_type": "execute_result"
    }
   ],
   "source": [
    "eta_in  = DAArray([0.95, 0.90, 0.59], str)\n",
    "eta_out = DAArray([0.90, 0.95, 0.45], str)\n",
    "[str eta_in eta_out]"
   ]
  },
  {
   "cell_type": "markdown",
   "metadata": {},
   "source": [
    "Scalar parameters"
   ]
  },
  {
   "cell_type": "code",
   "execution_count": 32,
   "metadata": {},
   "outputs": [],
   "source": [
    "pump_capa = 9.3 # pumping capacity in GW\n",
    "max_phs = 0.18 # maximum volume of energy can be stored in PHS reservoir in TWh\n",
    "max_biogas = 15 # maxium energy that can be generated by biogas in TWh\n",
    "load_uncertainty = 0.01 # uncertainty coefficient for hourly demand\n",
    "delta = 0.1; # load variation factor"
   ]
  },
  {
   "cell_type": "markdown",
   "metadata": {},
   "source": [
    "## Model variables and equations"
   ]
  },
  {
   "cell_type": "code",
   "execution_count": 33,
   "metadata": {},
   "outputs": [
    {
     "data": {
      "text/plain": [
       "A JuMP Model\n",
       "Feasibility problem with:\n",
       "Variables: 0\n",
       "Model mode: AUTOMATIC\n",
       "CachingOptimizer state: EMPTY_OPTIMIZER\n",
       "Solver name: Clp"
      ]
     },
     "execution_count": 33,
     "metadata": {},
     "output_type": "execute_result"
    }
   ],
   "source": [
    "RES_FR = Model(Clp.Optimizer)"
   ]
  },
  {
   "cell_type": "markdown",
   "metadata": {},
   "source": [
    "### Variables\n",
    "\n",
    "See [§Variable Attributes](https://www.gams.com/latest/docs/UG_Variables.html#UG_Variables_VariableAttributes) for `.up`, `.lo`, `.fx` and `.l`\n",
    "\n",
    "See [§Styles for Variable Declaration](https://www.gams.com/latest/docs/UG_Variables.html#UG_Variables_StylesForVariableDeclaration) for the fact it's possible to redeclare the type of a variable. E.g. here to state it's positive"
   ]
  },
  {
   "cell_type": "markdown",
   "metadata": {},
   "source": [
    "```\n",
    "variables        GENE(tec,h)     'hourly energy generation in TWh' (⚠ in fact GW)\n",
    "                 CAPA(tec)       'overal yearly installed capacity in GW'\n",
    "                 STORAGE(str,h)  'hourly electricity input of battery storage GW'\n",
    "                 S(str)          'charging power capacity of each storage technology'\n",
    "                 STORED(str,h)   'energy stored in each storage technology in GWh'\n",
    "                 CAPACITY(str)   'energy volume of storage technologies in GWh'\n",
    "                 RSV(frr,h)      'required upward frequency restoration reserve in GW'\n",
    "                 COST            'final investment cost in b€'\n",
    "\n",
    "positive variables GENE(tec,h),CAPA(tec),STORAGE(str,h), S(str),STORED(str,h),CAPACITY(str),RSV(frr,h);\n",
    "```"
   ]
  },
  {
   "cell_type": "code",
   "execution_count": 34,
   "metadata": {},
   "outputs": [
    {
     "data": {
      "text/plain": [
       "2-dimensional DenseAxisArray{VariableRef,2,...} with index sets:\n",
       "    Dimension 1, [:lake, :phs, :battery, :gas]\n",
       "    Dimension 2, 0:8759\n",
       "And data, a 4×8760 Matrix{VariableRef}:\n",
       " RSV[lake,0]     RSV[lake,1]     RSV[lake,2]     …  RSV[lake,8759]\n",
       " RSV[phs,0]      RSV[phs,1]      RSV[phs,2]         RSV[phs,8759]\n",
       " RSV[battery,0]  RSV[battery,1]  RSV[battery,2]     RSV[battery,8759]\n",
       " RSV[gas,0]      RSV[gas,1]      RSV[gas,2]         RSV[gas,8759]"
      ]
     },
     "execution_count": 34,
     "metadata": {},
     "output_type": "execute_result"
    }
   ],
   "source": [
    "@variable(RES_FR, GENE[tec,h] >= 0)    # hourly energy generation in GW\n",
    "@variable(RES_FR, CAPA[tec] >= 0)      # overal yearly installed capacity in GW\n",
    "@variable(RES_FR, STORAGE[str,h] >= 0) # hourly electricity input of battery storage GW\n",
    "@variable(RES_FR, S[str] >= 0)         # charging power capacity of each storage technology. Remark S(str) is constrainted <= CAPA(str);\n",
    "@variable(RES_FR, STORED[str,h] >= 0)  # energy stored in each storage technology in GWh\n",
    "@variable(RES_FR, CAPACITY[str] >= 0)  # energy volume of storage technologies in GWh\n",
    "@variable(RES_FR, RSV[frr,h] >= 0)     # required upward frequency restoration reserve in GW"
   ]
  },
  {
   "cell_type": "code",
   "execution_count": 35,
   "metadata": {},
   "outputs": [],
   "source": [
    "@variable(RES_FR, COST);"
   ]
  },
  {
   "cell_type": "markdown",
   "metadata": {},
   "source": [
    "Initial and fixed values\n",
    "\n",
    "```\n",
    "CAPA.up('phs') = pump_capa;\n",
    "CAPA.fx('river')= capa_ex('river');\n",
    "CAPA.up('lake') = 13;\n",
    "CAPA.lo('lake') = capa_ex('lake');\n",
    "GENE.up('river',h) = gene_river(h)*capa_ex('river');\n",
    "S.up('phs') = pump_capa;\n",
    "CAPACITY.up('phs') = max_phs*1000;\n",
    "CAPA.up('offshore') = capa_max('offshore');\n",
    "CAPA.up('onshore') = capa_max('onshore');\n",
    "CAPA.up('pv') = capa_max('pv');\n",
    "```"
   ]
  },
  {
   "cell_type": "code",
   "execution_count": 36,
   "metadata": {},
   "outputs": [
    {
     "data": {
      "text/latex": [
       "$$ CAPA_{lake} \\geq 12.855 $$"
      ],
      "text/plain": [
       "CAPA[lake] ≥ 12.855"
      ]
     },
     "execution_count": 36,
     "metadata": {},
     "output_type": "execute_result"
    }
   ],
   "source": [
    "@constraint(RES_FR, CAPA[:phs] <= pump_capa)\n",
    "@constraint(RES_FR, CAPA[:river] == capa_ex[:river])\n",
    "@constraint(RES_FR, CAPA[:lake] <= 13)\n",
    "@constraint(RES_FR, CAPA[:lake] >= capa_ex[:lake])"
   ]
  },
  {
   "cell_type": "markdown",
   "metadata": {},
   "source": [
    "Warning: setting GENE[:river] *upper bound* means that rivers can be silently curtailed!\n",
    "Perhaps GENE[:river] should be _fixed_ instead (like VREs, see below)."
   ]
  },
  {
   "cell_type": "code",
   "execution_count": 37,
   "metadata": {},
   "outputs": [],
   "source": [
    "@constraint(RES_FR, GENE_river_up[hk = h], \n",
    "            GENE[:river,hk] .<= gene_river[hk]*capa_ex[:river]);"
   ]
  },
  {
   "cell_type": "code",
   "execution_count": 38,
   "metadata": {},
   "outputs": [],
   "source": [
    "@constraint(RES_FR, S[:phs] <= pump_capa)\n",
    "@constraint(RES_FR, CAPACITY[:phs] <= max_phs*1000)\n",
    "@constraint(RES_FR, CAPA[:offshore] <= capa_max[:offshore])\n",
    "@constraint(RES_FR, CAPA[:onshore] <= capa_max[:onshore])\n",
    "@constraint(RES_FR, CAPA[:pv] <= capa_max[:pv]);"
   ]
  },
  {
   "cell_type": "markdown",
   "metadata": {},
   "source": [
    "### Equations (i.e. constraints)"
   ]
  },
  {
   "cell_type": "markdown",
   "metadata": {},
   "source": [
    "`gene_vre(vre,h)` variables renewable profiles generation:"
   ]
  },
  {
   "cell_type": "code",
   "execution_count": 39,
   "metadata": {},
   "outputs": [],
   "source": [
    "@constraint(RES_FR, gene_vre[vrek=vre, hk=h],\n",
    "            GENE[vrek,hk] == CAPA[vrek]*load_factor[vrek,hk]);"
   ]
  },
  {
   "cell_type": "markdown",
   "metadata": {},
   "source": [
    "Equation `gene_capa(tec,h)` capacity and generation relation for technologies:"
   ]
  },
  {
   "cell_type": "code",
   "execution_count": 40,
   "metadata": {},
   "outputs": [],
   "source": [
    "@constraint(RES_FR, gene_capa[teck=tec, hk=h],\n",
    "            CAPA[teck] >= GENE[teck,hk]);"
   ]
  },
  {
   "cell_type": "markdown",
   "metadata": {},
   "source": [
    "`combustion(h)` the relationship of combustible technologies (i.e. 'gas' = 'biogas' + 'methanation'):"
   ]
  },
  {
   "cell_type": "code",
   "execution_count": 41,
   "metadata": {},
   "outputs": [],
   "source": [
    "@constraint(RES_FR, combustion[hk=h],\n",
    "            GENE[:gas,hk] == sum(GENE[combk,hk] for combk in comb));"
   ]
  },
  {
   "cell_type": "markdown",
   "metadata": {},
   "source": [
    "`capa_frr(frr,h)` capacity needed for the secondary reserve requirements:\n",
    "\n",
    "    CAPA(frr)               =g=     GENE(frr,h) + RSV(frr,h);"
   ]
  },
  {
   "cell_type": "code",
   "execution_count": 42,
   "metadata": {},
   "outputs": [],
   "source": [
    "@constraint(RES_FR, capa_frr[frrk=frr, hk=h],\n",
    "            CAPA[frrk] >= GENE[frrk,hk] + RSV[frrk,hk]);"
   ]
  },
  {
   "cell_type": "markdown",
   "metadata": {},
   "source": [
    "`storing(h,h+1,str)` the definition of stored energy in the storage options;\n",
    "\n",
    "    STORED(str,h+1) =e= STORED(str,h) + STORAGE(str,h)*eta_in(str) - GENE(str,h)/eta_out(str);\n",
    "\n",
    "Remark: see GAMS UG [§Lag and Lead Operators](https://www.gams.com/latest/docs/UG_OrderedSets.html#UG_OrderedSets_LagLeadOperators) for the meaning of `h+1`.\n",
    "However, it's not clear to me why the equation is declared on both `h` and `h+1`. "
   ]
  },
  {
   "cell_type": "code",
   "execution_count": 43,
   "metadata": {},
   "outputs": [],
   "source": [
    "@constraint(RES_FR, storing[strk=str, hk=h[1:end-1]],\n",
    "            STORED[strk,hk+1] == STORED[strk,hk] + \n",
    "            STORAGE[strk,hk]*eta_in[strk] - GENE[strk,hk]/eta_out[strk]);"
   ]
  },
  {
   "cell_type": "code",
   "execution_count": 44,
   "metadata": {},
   "outputs": [
    {
     "data": {
      "text/latex": [
       "storing[battery,1] : $ 1.0526315789473684 GENE_{battery,1} - 0.9 STORAGE_{battery,1} - STORED_{battery,1} + STORED_{battery,2} = 0.0 $"
      ],
      "text/plain": [
       "storing[battery,1] : 1.0526315789473684 GENE[battery,1] - 0.9 STORAGE[battery,1] - STORED[battery,1] + STORED[battery,2] = 0.0"
      ]
     },
     "execution_count": 44,
     "metadata": {},
     "output_type": "execute_result"
    }
   ],
   "source": [
    "storing[:battery,1]"
   ]
  },
  {
   "cell_type": "markdown",
   "metadata": {},
   "source": [
    "`storage_const(str,first,last)` storage in the first hour is equal to the storage in the last hour:\n",
    "\n",
    "    STORED(str,first) =e= STORED(str,last)+STORAGE(str,last)*eta_in(str)-GENE(str,last)/eta_out(str);"
   ]
  },
  {
   "cell_type": "code",
   "execution_count": 45,
   "metadata": {},
   "outputs": [],
   "source": [
    "@constraint(RES_FR, storage_const[strk=str],\n",
    "            STORED[strk,h[1]] == STORED[strk,h[end]] + \n",
    "            STORAGE[strk,h[end]]*eta_in[strk] - GENE[strk,h[end]]/eta_out[strk]);"
   ]
  },
  {
   "cell_type": "code",
   "execution_count": 46,
   "metadata": {},
   "outputs": [
    {
     "data": {
      "text/latex": [
       "storage_const[battery] : $ 1.0526315789473684 GENE_{battery,8759} - 0.9 STORAGE_{battery,8759} + STORED_{battery,0} - STORED_{battery,8759} = 0.0 $"
      ],
      "text/plain": [
       "storage_const[battery] : 1.0526315789473684 GENE[battery,8759] - 0.9 STORAGE[battery,8759] + STORED[battery,0] - STORED[battery,8759] = 0.0"
      ]
     },
     "execution_count": 46,
     "metadata": {},
     "output_type": "execute_result"
    }
   ],
   "source": [
    "storage_const[:battery]"
   ]
  },
  {
   "cell_type": "markdown",
   "metadata": {},
   "source": [
    "`lake_res(m)` constraint on water for lake reservoirs:\n",
    "\n",
    "    lake_inflows(m) =g= sum(h$(month(h) = ord(m)),GENE('lake',h))/1000;"
   ]
  },
  {
   "cell_type": "code",
   "execution_count": 47,
   "metadata": {},
   "outputs": [],
   "source": [
    "@constraint(RES_FR, lake_res[mk=m],\n",
    "            lake_inflows[mk] >= sum(GENE[:lake,:].data[month_sym.==mk])/1000);"
   ]
  },
  {
   "cell_type": "markdown",
   "metadata": {},
   "source": [
    "`stored_cap(str,h)` maximum energy that is stored in storage units:"
   ]
  },
  {
   "cell_type": "code",
   "execution_count": 48,
   "metadata": {},
   "outputs": [],
   "source": [
    "@constraint(RES_FR, stored_cap[strk=str, hk=h],\n",
    "            STORED[strk,hk] <= CAPACITY[strk]);"
   ]
  },
  {
   "cell_type": "markdown",
   "metadata": {},
   "source": [
    "`storage_capa1(str,h)` the capacity with hourly charging relationship of storage:"
   ]
  },
  {
   "cell_type": "code",
   "execution_count": 49,
   "metadata": {},
   "outputs": [],
   "source": [
    "@constraint(RES_FR, storage_capa1[strk=str, hk=h],\n",
    "            S[strk] >= STORAGE[strk,hk]);"
   ]
  },
  {
   "cell_type": "markdown",
   "metadata": {},
   "source": [
    "`storage_capa2(str)` storage power limit:"
   ]
  },
  {
   "cell_type": "code",
   "execution_count": 50,
   "metadata": {},
   "outputs": [],
   "source": [
    "@constraint(RES_FR, storage_capa2[strk=str],\n",
    "            S[strk] <= CAPA[strk]);"
   ]
  },
  {
   "cell_type": "markdown",
   "metadata": {},
   "source": [
    "`biogas_const` maximum energy can be produced by biogas:"
   ]
  },
  {
   "cell_type": "code",
   "execution_count": 51,
   "metadata": {},
   "outputs": [],
   "source": [
    "@constraint(RES_FR, biogas_const,\n",
    "            sum(GENE[:biogas,:]) <= max_biogas*1000);"
   ]
  },
  {
   "cell_type": "markdown",
   "metadata": {},
   "source": [
    "`reserves(h)` FRR requirement:"
   ]
  },
  {
   "cell_type": "code",
   "execution_count": 52,
   "metadata": {},
   "outputs": [],
   "source": [
    "@constraint(RES_FR, reserves[hk=h],\n",
    "            sum(RSV[:,hk]) == sum(epsilon[vrek] * CAPA[vrek] for vrek in vre) +\n",
    "            demand[hk]*load_uncertainty*(1+delta));"
   ]
  },
  {
   "cell_type": "markdown",
   "metadata": {},
   "source": [
    "`adequacy(h)` supply/demand relation:"
   ]
  },
  {
   "cell_type": "code",
   "execution_count": 53,
   "metadata": {},
   "outputs": [],
   "source": [
    "@constraint(RES_FR, adequacy[hk=h],\n",
    "            sum(GENE[ncombk,hk] for ncombk in ncomb) + GENE[:gas,hk] >=\n",
    "            demand[hk] + sum(STORAGE[:,hk]));"
   ]
  },
  {
   "cell_type": "code",
   "execution_count": 55,
   "metadata": {},
   "outputs": [
    {
     "data": {
      "text/latex": [
       "adequacy[3] : $ GENE_{offshore,3} + GENE_{onshore,3} + GENE_{pv,3} + GENE_{river,3} + GENE_{lake,3} + GENE_{gas,3} + GENE_{phs,3} + GENE_{battery,3} - STORAGE_{phs,3} - STORAGE_{battery,3} - STORAGE_{methanation,3} \\geq 27.9874884 $"
      ],
      "text/plain": [
       "adequacy[3] : GENE[offshore,3] + GENE[onshore,3] + GENE[pv,3] + GENE[river,3] + GENE[lake,3] + GENE[gas,3] + GENE[phs,3] + GENE[battery,3] - STORAGE[phs,3] - STORAGE[battery,3] - STORAGE[methanation,3] ≥ 27.9874884"
      ]
     },
     "execution_count": 55,
     "metadata": {},
     "output_type": "execute_result"
    }
   ],
   "source": [
    "adequacy[3]"
   ]
  },
  {
   "cell_type": "markdown",
   "metadata": {},
   "source": [
    "`obj` the final objective function which is `COST`\n",
    "\n",
    "    COST                    =e=     (\n",
    "        sum(tec,(CAPA(tec)-capa_ex(tec))*capex(tec))+ \n",
    "        sum(str,CAPACITY(str)*capex_en(str))+\n",
    "        sum(tec,(CAPA(tec)*fOM(tec)))+ \n",
    "        sum(str,S(str)*(s_capex(str)+s_opex(str))) + \n",
    "        sum((tec,h),GENE(tec,h)*vOM(tec))\n",
    "        )/1000;"
   ]
  },
  {
   "cell_type": "code",
   "execution_count": 56,
   "metadata": {},
   "outputs": [],
   "source": [
    "@constraint(RES_FR, cost,\n",
    "            COST == (\n",
    "            sum( (CAPA[teck]-capa_ex[teck])*capex[teck] for teck in tec) +\n",
    "            sum( CAPACITY[strk]*capex_en[strk] for strk in str) +\n",
    "            sum( CAPA[teck]*fOM[teck] for teck in tec) +\n",
    "            sum( S[strk]*(s_capex[strk]+s_opex[strk]) for strk in str) +\n",
    "            sum( GENE[teck,hk]*vOM[teck] for teck in tec for hk in h)\n",
    "            )/1000 );"
   ]
  },
  {
   "cell_type": "code",
   "execution_count": 57,
   "metadata": {},
   "outputs": [],
   "source": [
    "@objective(RES_FR, Min, COST);"
   ]
  },
  {
   "cell_type": "markdown",
   "metadata": {},
   "source": [
    "### Solve\n",
    "\n",
    "(~10 minutes with Clp)"
   ]
  },
  {
   "cell_type": "code",
   "execution_count": 59,
   "metadata": {},
   "outputs": [
    {
     "name": "stdout",
     "output_type": "stream",
     "text": [
      "Coin0506I Presolve 157694 (-105132) rows, 131411 (-43806) columns and 556610 (-219025) elements\n",
      "Clp0006I 0  Obj 0.13561339 Primal inf 2853551.5 (17520) Dual inf 4.1559333e+16 (78842)\n",
      "Clp0006I 870  Obj 42.914273 Primal inf 752225.94 (10845) Dual inf 2.3731516e+16 (43569)\n",
      "Clp0006I 1739  Obj 43.507016 Primal inf 694730.68 (10506) Dual inf 2.2044406e+09 (41229)\n",
      "Clp0006I 2608  Obj 43.722243 Primal inf 572276.6 (10068) Dual inf 2.0360357e+09 (39537)\n",
      "Clp0006I 3477  Obj 44.050641 Primal inf 532698.29 (9657) Dual inf 1.8756488e+09 (38046)\n",
      "Clp0006I 4346  Obj 44.232216 Primal inf 483561.87 (9234) Dual inf 1.7131628e+09 (35904)\n",
      "Clp0006I 5215  Obj 44.528084 Primal inf 423888.51 (8778) Dual inf 1.5544117e+09 (33615)\n",
      "Clp0006I 6084  Obj 44.782773 Primal inf 323359.65 (8371) Dual inf 1.4021809e+09 (31499)\n",
      "Clp0006I 6953  Obj 45.135439 Primal inf 238147.2 (7850) Dual inf 1.2365445e+09 (29095)\n",
      "Clp0006I 7822  Obj 46.134446 Primal inf 205755.9 (7358) Dual inf 1.1052992e+09 (27423)\n",
      "Clp0006I 8691  Obj 46.32212 Primal inf 193702.74 (6932) Dual inf 9.8241323e+08 (25760)\n",
      "Clp0006I 9560  Obj 46.20009 Primal inf 183544.23 (6428) Dual inf 8.3610913e+08 (22909)\n",
      "Clp0006I 10429  Obj 46.203864 Primal inf 175366.44 (5909) Dual inf 7.3195329e+08 (22880)\n",
      "Clp0006I 11298  Obj 46.221707 Primal inf 167093.61 (5430) Dual inf 6.1581201e+08 (22986)\n",
      "Clp0006I 12167  Obj 46.226227 Primal inf 160295.73 (4974) Dual inf 5.3904818e+08 (22444)\n",
      "Clp0006I 13036  Obj 46.233607 Primal inf 153669.21 (4579) Dual inf 4.5951e+08 (20476)\n",
      "Clp0006I 13905  Obj 46.186398 Primal inf 147130.78 (4253) Dual inf 4.670806e+08 (18565)\n",
      "Clp0006I 14774  Obj 46.189735 Primal inf 141654.99 (3943) Dual inf 4.6168257e+08 (16746)\n",
      "Clp0006I 15643  Obj 46.197568 Primal inf 136083.03 (3691) Dual inf 4.5046304e+08 (16114)\n",
      "Clp0006I 16512  Obj 46.82906 Primal inf 116302.65 (2947) Dual inf 9.1608746e+08 (16381)\n",
      "Clp0006I 17381  Obj 50.885298 Primal inf 93333.992 (3198) Dual inf 1.8387689e+09 (13875)\n",
      "Clp0006I 18250  Obj 50.563354 Primal inf 72670.305 (3337) Dual inf 3.6557147e+08 (13438)\n",
      "Clp0006I 19119  Obj 52.086264 Primal inf 61240.619 (3104) Dual inf 3.7688892e+08 (13218)\n",
      "Clp0006I 19988  Obj 56.077935 Primal inf 49452.04 (3065) Dual inf 2.6890086e+08 (14266)\n",
      "Clp0006I 20857  Obj 58.363154 Primal inf 40627.92 (2783) Dual inf 1.7053162e+08 (14242)\n",
      "Clp0006I 21726  Obj 59.828711 Primal inf 32367.43 (2610) Dual inf 90428848 (12810)\n",
      "Clp0006I 22595  Obj 60.478429 Primal inf 24226.035 (2450) Dual inf 2.8466375e+08 (11971)\n",
      "Clp0006I 23464  Obj 58.24517 Primal inf 16645.635 (2292) Dual inf 1.8623578e+08 (19541)\n",
      "Clp0006I 24270  Obj 56.141307 Primal inf 9608.5543 (2123) Dual inf 1.104421e+08 (20674)\n",
      "Clp0006I 25139  Obj 55.819244 Primal inf 6948.382 (1505) Dual inf 25631105 (10740)\n",
      "Clp0006I 26008  Obj 51.376762 Primal inf 4482.9117 (1277) Dual inf 36546897 (10687)\n",
      "Clp0006I 26877  Obj 50.926796 Primal inf 3333.4781 (895) Dual inf 48752465 (9406)\n",
      "Clp0006I 27746  Obj 51.768264 Primal inf 1985.1197 (686) Dual inf 2.1467478e+09 (18545)\n",
      "Clp0006I 28615  Obj 52.128694 Primal inf 1465.5717 (444) Dual inf 13566983 (6771)\n",
      "Clp0006I 29484  Obj 54.099906 Primal inf 1169.9552 (345) Dual inf 5960688.9 (8509)\n",
      "Clp0006I 30353  Obj 54.116471 Primal inf 827.42026 (235) Dual inf 38873269 (8946)\n",
      "Clp0006I 31222  Obj 55.127532 Primal inf 497.02142 (141) Dual inf 2103900.1 (6700)\n",
      "Clp0006I 32091  Obj 56.877874 Primal inf 312.4166 (22) Dual inf 1620082.8 (5042)\n",
      "Clp0006I 32960  Obj 57.19525 Primal inf 246.44967 (19) Dual inf 1363772.6 (4490)\n",
      "Clp0006I 33829  Obj 55.662355 Primal inf 193.05024 (13) Dual inf 1488575.8 (7947)\n",
      "Clp0006I 34698  Obj 57.139962 Primal inf 144.00105 (15) Dual inf 2360548.1 (4700)\n",
      "Clp0006I 35567  Obj 57.978479 Primal inf 111.08359 (6) Dual inf 4091470.6 (7841)\n",
      "Clp0006I 36436  Obj 57.497245 Primal inf 74.991879 (7) Dual inf 1558323.5 (7866)\n",
      "Clp0006I 37305  Obj 57.761437 Primal inf 43.905744 (12) Dual inf 1053090.1 (8120)\n",
      "Clp0006I 38174  Obj 58.382454 Primal inf 13.985321 (11) Dual inf 726146.16 (5006)\n",
      "Clp0006I 38669  Obj 58.20858 Primal inf 4.6294831 (3) Dual inf 57553.5 (5409)\n",
      "Clp0006I 39410  Obj 56.283083 Primal inf 2.6319541 (3) Dual inf 19728.344 (9816)\n",
      "Clp0006I 40032  Obj 55.66417 Primal inf 1.9059789 (3) Dual inf 30249.505 (5953)\n",
      "Clp0006I 40831  Obj 54.637875 Primal inf 1.0417844 (3) Dual inf 468209.93 (18145)\n",
      "Clp0006I 41478  Obj 54.486825 Primal inf 0.51524386 (2) Dual inf 3943.1353 (4711)\n",
      "Clp0006I 42112  Obj 52.812102 Primal inf 0.30263121 (1) Dual inf 5759.2121 (5620)\n",
      "Clp0006I 42887  Obj 51.251945 Primal inf 0.26887826 (1) Dual inf 2127.611 (5988)\n",
      "Clp0006I 43484  Obj 50.545624 Primal inf 0.24723232 (1) Dual inf 6102.6854 (6273)\n",
      "Clp0006I 44123  Obj 49.716453 Primal inf 0.21796841 (1) Dual inf 2596.8861 (8133)\n",
      "Clp0006I 44660  Obj 48.113112 Primal inf 0.18799393 (1) Dual inf 2755.2088 (9598)\n",
      "Clp0006I 44891  Obj 47.552884 Primal inf 0.17305536 (1) Dual inf 1235.6383 (10563)\n",
      "Clp0006I 45443  Obj 46.623155 Primal inf 0.14427824 (1) Dual inf 60981.006 (9933)\n",
      "Clp0006I 45929  Obj 45.777282 Dual inf 1570.0682 (10232)\n",
      "Clp0006I 46185  Obj 42.263435 Dual inf 26741.494 (8883)\n",
      "Clp0006I 46815  Obj 35.465317 Dual inf 1302.0781 (8011)\n",
      "Clp0006I 47501  Obj 30.555116 Dual inf 148.71762 (6840)\n",
      "Clp0006I 47935  Obj 29.4532 Dual inf 141.44291 (6886)\n",
      "Clp0006I 48438  Obj 28.625027 Dual inf 68.048389 (7756)\n",
      "Clp0006I 49093  Obj 27.877884 Dual inf 96.382517 (6765)\n",
      "Clp0006I 49809  Obj 27.24923 Dual inf 544.6718 (6284)\n",
      "Clp0006I 50276  Obj 26.994969 Dual inf 45.1562 (6980)\n",
      "Clp0006I 50922  Obj 26.635936 Dual inf 68.339036 (4172)\n",
      "Clp0006I 51555  Obj 26.397799 Dual inf 36.622146 (14225)\n",
      "Clp0006I 52177  Obj 26.037621 Dual inf 74.658739 (7155)\n",
      "Clp0006I 53006  Obj 25.866015 Dual inf 78.153437 (3329)\n",
      "Clp0006I 53654  Obj 25.756925 Dual inf 480.97202 (3562)\n",
      "Clp0006I 54335  Obj 25.657818 Dual inf 96.612611 (3326)\n",
      "Clp0006I 54907  Obj 25.564319 Dual inf 14.39458 (6004)\n",
      "Clp0006I 55657  Obj 25.479131 Dual inf 26.918306 (7144)\n",
      "Clp0006I 56377  Obj 25.340658 Dual inf 616.65383 (4709)\n",
      "Clp0006I 57114  Obj 25.208741 Dual inf 32.620969 (4980)\n",
      "Clp0006I 57757  Obj 25.050951 Dual inf 17.34686 (6259)\n",
      "Clp0006I 58374  Obj 24.904321 Dual inf 51.767954 (5225)\n",
      "Clp0006I 59127  Obj 24.7281 Dual inf 22.117971 (4401)\n",
      "Clp0006I 59694  Obj 24.621777 Dual inf 51.562787 (7330)\n",
      "Clp0006I 60398  Obj 24.53186 Dual inf 120.87628 (5978)\n",
      "Clp0006I 61046  Obj 24.429159 Dual inf 22.935975 (7334)\n",
      "Clp0006I 61735  Obj 24.333446 Dual inf 15.63198 (4596)\n",
      "Clp0006I 62283  Obj 24.242052 Dual inf 18.6652 (7267)\n",
      "Clp0006I 62873  Obj 24.168656 Dual inf 42.646282 (5118)\n",
      "Clp0006I 63480  Obj 24.083887 Dual inf 10.962492 (6098)\n",
      "Clp0006I 64166  Obj 24.010369 Dual inf 61.144908 (4099)\n",
      "Clp0006I 64832  Obj 23.917551 Dual inf 163.51143 (7130)\n",
      "Clp0006I 65628  Obj 23.797735 Dual inf 66.448623 (4528)\n",
      "Clp0006I 66272  Obj 23.717323 Dual inf 42.003675 (6978)\n",
      "Clp0006I 66865  Obj 23.660215 Dual inf 114.02918 (4232)\n",
      "Clp0006I 67537  Obj 23.581067 Dual inf 47.197238 (5016)\n",
      "Clp0006I 68235  Obj 23.494051 Dual inf 34.276911 (4936)\n",
      "Clp0006I 68706  Obj 23.43645 Dual inf 21.180464 (6667)\n",
      "Clp0006I 69336  Obj 23.357818 Dual inf 15.053365 (5905)\n",
      "Clp0006I 69902  Obj 23.306527 Dual inf 21.610443 (4923)\n",
      "Clp0006I 70265  Obj 23.266694 Dual inf 196.70488 (4952)\n",
      "Clp0006I 70835  Obj 23.200701 Dual inf 28.397186 (8986)\n",
      "Clp0006I 71446  Obj 23.13829 Dual inf 40.928138 (5139)\n",
      "Clp0006I 72126  Obj 23.080841 Dual inf 19.221514 (5342)\n",
      "Clp0006I 72610  Obj 23.036876 Dual inf 7.1755357 (6864)\n",
      "Clp0006I 73044  Obj 22.997232 Dual inf 27.394375 (6770)\n",
      "Clp0006I 73587  Obj 22.976482 Dual inf 2.5370109 (4937)\n",
      "Clp0006I 74266  Obj 22.914139 Dual inf 1.8232341 (5252)\n",
      "Clp0006I 74974  Obj 22.887147 Dual inf 24.404749 (5740)\n",
      "Clp0006I 75553  Obj 22.850758 Dual inf 1.8030027 (5234)\n",
      "Clp0006I 76296  Obj 22.816846 Dual inf 42.070273 (9061)\n",
      "Clp0006I 76443  Obj 22.811438 Dual inf 1.8295969 (5678)\n",
      "Clp0006I 77055  Obj 22.806158 Dual inf 11.27964 (5857)\n",
      "Clp0006I 77704  Obj 22.790486 Dual inf 17.13377 (7371)\n",
      "Clp0006I 78391  Obj 22.778972 Dual inf 55.085453 (5801)\n",
      "Clp0006I 79047  Obj 22.763821 Dual inf 6.710213 (7063)\n",
      "Clp0006I 79716  Obj 22.749857 Dual inf 4.1941258 (5281)\n",
      "Clp0006I 80310  Obj 22.738154 Dual inf 6.7161219 (4270)\n",
      "Clp0006I 80911  Obj 22.71729 Dual inf 3.592377 (4305)\n",
      "Clp0006I 81451  Obj 2759.984450 seconds (7.35 M allocations: 540.395 MiB, 0.02% gc time, 0.79% compilation time)\n",
      "2.696975 Dual inf 17.954539 (4250)\n",
      "Clp0006I 82035  Obj 22.679116 Dual inf 43.193426 (3525)\n",
      "Clp0006I 82648  Obj 22.661513 Dual inf 10.989249 (6715)\n",
      "Clp0006I 83331  Obj 22.642566 Dual inf 14.664894 (4856)\n",
      "Clp0006I 84003  Obj 22.618069 Dual inf 4.4245232 (4108)\n",
      "Clp0006I 84588  Obj 22.596015 Dual inf 15.562431 (4798)\n",
      "Clp0006I 85256  Obj 22.569407 Dual inf 16.936172 (5976)\n",
      "Clp0006I 85878  Obj 22.546819 Dual inf 5.0855025 (10390)\n",
      "Clp0006I 86422  Obj 22.536369 Dual inf 5.802619 (4115)\n",
      "Clp0006I 86986  Obj 22.513619 Dual inf 23.394471 (5476)\n",
      "Clp0006I 87584  Obj 22.49869 Dual inf 7.5079159 (3067)\n",
      "Clp0006I 88203  Obj 22.486013 Dual inf 5.7416125 (3341)\n",
      "Clp0006I 88793  Obj 22.463064 Dual inf 6.4812085 (3023)\n",
      "Clp0006I 89417  Obj 22.441107 Dual inf 15.427526 (10763)\n",
      "Clp0006I 90036  Obj 22.426227 Dual inf 9.9228652 (6715)\n",
      "Clp0006I 90606  Obj 22.415703 Dual inf 8.2934132 (4735)\n",
      "Clp0006I 91223  Obj 22.403068 Dual inf 6.8159865 (7026)\n",
      "Clp0006I 91862  Obj 22.390745 Dual inf 71.11634 (2856)\n",
      "Clp0006I 92401  Obj 22.373961 Dual inf 4.1189649 (1679)\n",
      "Clp0006I 93011  Obj 22.351971 Dual inf 558.47138 (3319)\n",
      "Clp0006I 93447  Obj 22.334496 Dual inf 18.045242 (2734)\n",
      "Clp0006I 94112  Obj 22.304111 Dual inf 5.0752037 (2690)\n",
      "Clp0006I 94289  Obj 22.298114 Dual inf 19.297458 (1882)\n",
      "Clp0006I 94887  Obj 22.268116 Dual inf 16.16378 (2258)\n",
      "Clp0006I 95677  Obj 22.237632 Dual inf 11.021808 (2651)\n",
      "Clp0006I 96294  Obj 22.216279 Dual inf 3.6131485 (2764)\n",
      "Clp0006I 96859  Obj 22.19355 Dual inf 140.04378 (2347)\n",
      "Clp0006I 97476  Obj 22.173455 Dual inf 38.259159 (1778)\n",
      "Clp0006I 98151  Obj 22.145351 Dual inf 8.6167992 (2805)\n",
      "Clp0006I 98784  Obj 22.128465 Dual inf 4.8728722 (2103)\n",
      "Clp0006I 99157  Obj 22.116845 Dual inf 85.339092 (2725)\n",
      "Clp0006I 99839  Obj 22.093564 Dual inf 49.675689 (1858)\n",
      "Clp0006I 100617  Obj 22.072948 Dual inf 4.0352235 (2626)\n",
      "Clp0006I 101348  Obj 22.052888 Dual inf 4.1523627 (1971)\n",
      "Clp0006I 102126  Obj 22.030127 Dual inf 29.159802 (3629)\n",
      "Clp0006I 102829  Obj 22.009969 Dual inf 4.8111352 (1120)\n",
      "Clp0006I 103438  Obj 21.994401 Dual inf 4.8607359 (1391)\n",
      "Clp0006I 104075  Obj 21.976959 Dual inf 1.1279247 (1842)\n",
      "Clp0006I 104740  Obj 21.961078 Dual inf 2.8886371 (1234)\n",
      "Clp0006I 105255  Obj 21.947314 Dual inf 12.679582 (1072)\n",
      "Clp0006I 105516  Obj 21.939673 Dual inf 1.0165892 (1287)\n",
      "Clp0006I 105988  Obj 21.927509 Dual inf 2.8690108 (1810)\n",
      "Clp0006I 106628  Obj 21.915048 Dual inf 2.2277038 (1166)\n",
      "Clp0006I 107336  Obj 21.903369 Dual inf 3.1629784 (1273)\n",
      "Clp0006I 107937  Obj 21.893813 Dual inf 0.94620682 (1833)\n",
      "Clp0006I 108565  Obj 21.88381 Dual inf 2.8351489 (1409)\n",
      "Clp0006I 109153  Obj 21.874818 Dual inf 1.3975789 (1491)\n",
      "Clp0006I 109888  Obj 21.866833 Dual inf 1.7796109 (1286)\n",
      "Clp0006I 110651  Obj 21.859026 Dual inf 2.5736656 (1076)\n",
      "Clp0006I 111408  Obj 21.853855 Dual inf 5.5794214 (870)\n",
      "Clp0006I 112242  Obj 21.846156 Dual inf 100.2458 (2224)\n",
      "Clp0006I 112957  Obj 21.842174 Dual inf 0.96219567 (1101)\n",
      "Clp0006I 113686  Obj 21.838547 Dual inf 5.7310537 (1910)\n",
      "Clp0006I 114137  Obj 21.836281 Dual inf 3.6033022 (189)\n",
      "Clp0006I 114833  Obj 21.833576 Dual inf 0.23777571 (169)\n",
      "Clp0006I 115518  Obj 21.832306 Dual inf 0.38933505 (224)\n",
      "Clp0006I 115835  Obj 21.832 Dual inf 0.05021081 (64)\n",
      "Clp0006I 116079  Obj 21.831847\n",
      "Clp0000I Optimal - objective value 21.831847\n",
      "Coin0511I After Postsolve, objective 21.831847, infeasibilities - dual 0 (0), primal 0.00061451861 (69)\n",
      "Coin0512I Presolved model was optimal, full model needs cleaning up\n",
      "Clp0006I 0  Obj 21.831847 Primal inf 1.7922342e-05 (52) Dual inf 3.7234296e+13 (35985)\n",
      "Clp0029I End of values pass after 54 iterations\n",
      "Clp0006I 54  Obj 21.831847\n",
      "Clp0000I Optimal - objective value 21.831847\n",
      "Clp0032I Optimal objective 21.83184732 - 116133 iterations time 735.612, Presolve 6.91\n"
     ]
    }
   ],
   "source": [
    "@time optimize!(RES_FR);"
   ]
  },
  {
   "cell_type": "code",
   "execution_count": 60,
   "metadata": {},
   "outputs": [
    {
     "data": {
      "text/plain": [
       "OPTIMAL::TerminationStatusCode = 1"
      ]
     },
     "execution_count": 60,
     "metadata": {},
     "output_type": "execute_result"
    }
   ],
   "source": [
    "termination_status(RES_FR)"
   ]
  },
  {
   "cell_type": "markdown",
   "metadata": {},
   "source": [
    "Increase solver precision (quite fast: there is probably a warm start)"
   ]
  },
  {
   "cell_type": "code",
   "execution_count": 63,
   "metadata": {},
   "outputs": [
    {
     "name": "stdout",
     "output_type": "stream",
     "text": [
      "Coin0506I Presolve 157694 (-105132) rows, 131411 (-43806) columns and 556610 (-219025) elements\n",
      "Clp0006I 0  Obj 21.831847\n",
      "Clp0000I Optimal - objective value 21.831847\n",
      "Coin0511I After Postsolve, objective 21.831847, infeasibilities - dual 0 (0), primal 0 (0)\n",
      "Clp0032I Optimal objective 21.83184732 - 0 iterations time 6.312, Presolve 6.05\n"
     ]
    }
   ],
   "source": [
    "set_optimizer_attribute(RES_FR, \"PrimalTolerance\", 1e-10)\n",
    "set_optimizer_attribute(RES_FR, \"DualTolerance\", 1e-10)\n",
    "optimize!(RES_FR);"
   ]
  },
  {
   "cell_type": "markdown",
   "metadata": {},
   "source": [
    "## Results\n",
    "\n",
    "For comparison, we show (with cosmetic edits) the content of `2006.txt`, the file output from the GAMS model run"
   ]
  },
  {
   "cell_type": "markdown",
   "metadata": {},
   "source": [
    "Cost\n",
    "\n",
    "```\n",
    "I)Overall investment cost is       21.83b€\n",
    "```"
   ]
  },
  {
   "cell_type": "code",
   "execution_count": 64,
   "metadata": {},
   "outputs": [
    {
     "data": {
      "text/plain": [
       "21.83184732093488"
      ]
     },
     "execution_count": 64,
     "metadata": {},
     "output_type": "execute_result"
    }
   ],
   "source": [
    "value(COST)"
   ]
  },
  {
   "cell_type": "markdown",
   "metadata": {},
   "source": [
    "Installed capacities:\n",
    "\n",
    "```\n",
    "II)the Renewable capacity\n",
    "\n",
    "Offshore                       12.90 GW\n",
    "onsore                         79.39 GW\n",
    "PV                            121.77 GW\n",
    "run of river                    7.50 GW\n",
    "lake                           12.86 GW\n",
    "biogas                         33.11 GW\n",
    "gas                            33.11 GW\n",
    "PHS                             9.30 GW\n",
    "Battery                        20.06 GW\n",
    "methanation                    33.11 GW\n",
    "```"
   ]
  },
  {
   "cell_type": "code",
   "execution_count": 65,
   "metadata": {},
   "outputs": [
    {
     "data": {
      "text/plain": [
       "10×2 Matrix{Any}:\n",
       " :offshore      12.8981\n",
       " :onshore       79.3939\n",
       " :pv           121.774\n",
       " :river          7.5\n",
       " :lake          12.855\n",
       " :biogas        33.1064\n",
       " :gas           33.1064\n",
       " :phs            9.3\n",
       " :battery       20.0551\n",
       " :methanation   33.1064"
      ]
     },
     "execution_count": 65,
     "metadata": {},
     "output_type": "execute_result"
    }
   ],
   "source": [
    "CAPA_res = value.(CAPA)\n",
    "[tec CAPA_res] # GW"
   ]
  },
  {
   "cell_type": "markdown",
   "metadata": {},
   "source": [
    "Storage\n",
    "\n",
    "```\n",
    "III)Needed storage volume and storage charging power\n",
    "\n",
    "PHS Storage                   180.00 GWh\n",
    "Battery Storage                73.73 GWh\n",
    "methane storage             12576.24 GWh\n",
    "PHS Storage                     9.30 GW\n",
    "Battery Storage                20.06 GW\n",
    "methane storage                 7.66 GW\n",
    "```"
   ]
  },
  {
   "cell_type": "markdown",
   "metadata": {},
   "source": [
    "Energy capacity along max charging power and discharging (Generation) power:"
   ]
  },
  {
   "cell_type": "code",
   "execution_count": 66,
   "metadata": {},
   "outputs": [
    {
     "data": {
      "text/plain": [
       "3×4 Matrix{Any}:\n",
       " :phs            180.0      9.3       9.3\n",
       " :battery         73.7261  20.0551   20.0551\n",
       " :methanation  12433.0      7.66231  33.1064"
      ]
     },
     "execution_count": 66,
     "metadata": {},
     "output_type": "execute_result"
    }
   ],
   "source": [
    "CAPACITY_res = value.(CAPACITY) # GWh\n",
    "S_res = value.(S) # GW\n",
    "[str CAPACITY_res S_res CAPA_res[str]]"
   ]
  },
  {
   "cell_type": "markdown",
   "metadata": {},
   "source": [
    "<span style='background-color:#FFBBAA;'>**Warning**</span>: there is a 143 GWh difference on the  methanation storage capacity"
   ]
  },
  {
   "cell_type": "markdown",
   "metadata": {},
   "source": [
    "Reserves:\n",
    "```\n",
    "IV)Secondary reserve requirements\n",
    "\n",
    "lake                            8.09GW\n",
    "gas                             8.18GW\n",
    "Pumped Storage                  8.15GW\n",
    "Battery                         8.16GW\n",
    "```\n"
   ]
  },
  {
   "cell_type": "code",
   "execution_count": 69,
   "metadata": {},
   "outputs": [
    {
     "data": {
      "text/plain": [
       "4×2 Matrix{Any}:\n",
       " :lake     8.1627\n",
       " :phs      8.16841\n",
       " :battery  8.16644\n",
       " :gas      8.17573"
      ]
     },
     "execution_count": 69,
     "metadata": {},
     "output_type": "execute_result"
    }
   ],
   "source": [
    "RSV_res = value.(RSV)\n",
    "# 'capacity allocated for reserve from each FRR tech in GW';\n",
    "reserve = [maximum(RSV_res[frrk, :]) for frrk in frr]\n",
    "[frr reserve]"
   ]
  },
  {
   "cell_type": "markdown",
   "metadata": {},
   "source": [
    "Total generation by tec:\n",
    "\n",
    "```\n",
    "V)Overall yearly energy generation of each technology\n",
    "\n",
    "Offshore                       59.37 TWh\n",
    "onsore                        225.83 TWh\n",
    "PV                            173.16 TWh\n",
    "run of river                   29.19 TWh\n",
    "lake                           15.82 TWh\n",
    "biogas                         15.00 TWh\n",
    "gas                            25.05 TWh\n",
    "phs                            20.93 TWh\n",
    "battery                        13.34 TWh\n",
    "Methanation                    10.05 TWh\n",
    "```"
   ]
  },
  {
   "cell_type": "code",
   "execution_count": 70,
   "metadata": {},
   "outputs": [
    {
     "data": {
      "text/plain": [
       "10×2 Matrix{Any}:\n",
       " :offshore      59.3653\n",
       " :onshore      225.832\n",
       " :pv           173.162\n",
       " :river         29.1868\n",
       " :lake          15.8155\n",
       " :biogas        15.0\n",
       " :gas           25.0505\n",
       " :phs           19.7063\n",
       " :battery       13.3403\n",
       " :methanation   10.0505"
      ]
     },
     "execution_count": 70,
     "metadata": {},
     "output_type": "execute_result"
    }
   ],
   "source": [
    "GENE_res = value.(GENE)\n",
    "# 'Overall yearly energy generated by the technology in TWh';\n",
    "gene_tec = DAArray(dropdims(sum(GENE_res.data,dims=2),dims=2)/1000, tec);\n",
    "[tec gene_tec]"
   ]
  },
  {
   "cell_type": "markdown",
   "metadata": {},
   "source": [
    "<span style='background-color:#FFBBAA;'>**Warning**</span>: there is a 1.2 GWh difference on the yearly generaltion of PHS"
   ]
  },
  {
   "cell_type": "markdown",
   "metadata": {},
   "source": [
    "capacity factors:\n",
    "```\n",
    "Offshore                         0.53\n",
    "onsore                           0.32\n",
    "PV                               0.16\n",
    "run of river                     0.44\n",
    "lake                             0.14\n",
    "biogas                           0.05\n",
    "gas                              0.09\n",
    "```"
   ]
  },
  {
   "cell_type": "code",
   "execution_count": 71,
   "metadata": {},
   "outputs": [
    {
     "data": {
      "text/plain": [
       "7×2 Matrix{Any}:\n",
       " :offshore  0.525416\n",
       " :onshore   0.324709\n",
       " :pv        0.162328\n",
       " :river     0.444244\n",
       " :lake      0.140445\n",
       " :biogas    0.051722\n",
       " :gas       0.0863774"
      ]
     },
     "execution_count": 71,
     "metadata": {},
     "output_type": "execute_result"
    }
   ],
   "source": [
    "# load factor of generation technologies\n",
    "cf = DAArray([gene_tec[genk]*1000/(8760*CAPA_res[genk]) for genk in gen], gen)\n",
    "[gen cf]"
   ]
  },
  {
   "cell_type": "code",
   "execution_count": 96,
   "metadata": {},
   "outputs": [
    {
     "data": {
      "text/plain": [
       "2-dimensional DenseAxisArray{Float64,2,...} with index sets:\n",
       "    Dimension 1, [:phs, :battery, :methanation]\n",
       "    Dimension 2, 0:8759\n",
       "And data, a 3×8760 Matrix{Float64}:\n",
       " 0.0      0.0      0.0      9.3      …  0.0      0.0      6.49108  9.3\n",
       " 0.0      0.0      0.0      0.0         0.0      0.0      0.0      0.0\n",
       " 7.66231  7.66231  7.66231  7.66231     7.66231  7.66231  7.66231  7.66231"
      ]
     },
     "execution_count": 96,
     "metadata": {},
     "output_type": "execute_result"
    }
   ],
   "source": [
    "STORED_res = value.(STORED)\n",
    "STORAGE_res = value.(STORAGE)"
   ]
  },
  {
   "cell_type": "markdown",
   "metadata": {},
   "source": [
    "```\n",
    "VI)more details\n",
    "\n",
    "LCOE for Offshore                      41.58 €/MWh\n",
    "LCOE for Onshore                       39.45 €/MWh\n",
    "LCOE for PV                            27.59 €/MWh\n",
    "LCOE for Run-of-river                  40.80 €/MWh\n",
    "LCOE for Lake                          98.84 €/MWh\n",
    "LCOE for Biogas                        82.00 €/MWh\n",
    "LCOE for Gas                           66.43 €/MWh\n",
    "LCOS for battery                       84.10 €/MWh\n",
    "LCOS for pumped storage                16.43 €/MWh\n",
    "LCOS for methanation                  109.34 €/MWh\n",
    "\n",
    "Load Curtailment       12.03% and the storage loss         6.49%\n",
    "LCOE of the system is        42.12 €/MWh or        51.69 €/MWh\n",
    "Average spot price of the system is        56.48 €/MWh\n",
    "```"
   ]
  },
  {
   "cell_type": "code",
   "execution_count": 72,
   "metadata": {},
   "outputs": [],
   "source": [
    "spot_price = 1000000*dual.(adequacy);"
   ]
  },
  {
   "cell_type": "code",
   "execution_count": 73,
   "metadata": {},
   "outputs": [
    {
     "data": {
      "text/plain": [
       "56.47651701517303"
      ]
     },
     "execution_count": 73,
     "metadata": {},
     "output_type": "execute_result"
    }
   ],
   "source": [
    "marginal_cost = sum(spot_price)/8760;\n",
    "marginal_cost # €/MWh"
   ]
  },
  {
   "cell_type": "markdown",
   "metadata": {},
   "source": [
    "Check adequacy constraint:"
   ]
  },
  {
   "cell_type": "markdown",
   "metadata": {},
   "source": [
    "sum(GENE[ncombk,hk] for ncombk in ncomb) + GENE[:gas,hk] >=\n",
    "demand[hk] + ;"
   ]
  },
  {
   "cell_type": "code",
   "execution_count": 98,
   "metadata": {},
   "outputs": [
    {
     "data": {
      "text/plain": [
       "(0.0, 1.7763568394002505e-15)"
      ]
     },
     "execution_count": 98,
     "metadata": {},
     "output_type": "execute_result"
    }
   ],
   "source": [
    "ΔGENE_gas = GENE_res[:gas,:] - GENE_res[:methanation,:] - GENE_res[:biogas,:]\n",
    "minimum(ΔGENE_gas), maximum(ΔGENE_gas)"
   ]
  },
  {
   "cell_type": "code",
   "execution_count": 104,
   "metadata": {},
   "outputs": [
    {
     "data": {
      "text/plain": [
       "(-4.618527782440651e-14, 103.6762381970641)"
      ]
     },
     "execution_count": 104,
     "metadata": {},
     "output_type": "execute_result"
    }
   ],
   "source": [
    "ΣGENE = sum(GENE_res[ncombk,:] for ncombk in ncomb) + GENE_res[:gas,:]\n",
    "ΣSTORAGE = sum(STORAGE_res[strk,:] for strk in str)\n",
    "ΔADEQ = ΣGENE - demand - ΣSTORAGE\n",
    "minimum(ΔADEQ), maximum(ΔADEQ) # 103 GW maximum power spillage/curtailment"
   ]
  },
  {
   "cell_type": "code",
   "execution_count": 105,
   "metadata": {},
   "outputs": [
    {
     "data": {
      "text/plain": [
       "62575.13058534364"
      ]
     },
     "execution_count": 105,
     "metadata": {},
     "output_type": "execute_result"
    }
   ],
   "source": [
    "sum(ΔADEQ) # GWh of spillage/curtailment"
   ]
  },
  {
   "cell_type": "markdown",
   "metadata": {},
   "source": [
    "### Plots"
   ]
  },
  {
   "cell_type": "code",
   "execution_count": 106,
   "metadata": {},
   "outputs": [
    {
     "data": {
      "image/png": "[encoded data removed]",
      "text/plain": [
       "Figure(PyObject <Figure size 640x480 with 2 Axes>)"
      ]
     },
     "metadata": {},
     "output_type": "display_data"
    }
   ],
   "source": [
    "fig, ax = plt.subplots(2,1, sharex=true)\n",
    "ax[1].set_title(\"Energy stored in each storage technology (GWh)\")\n",
    "ax[1].plot(h, STORED_res[:methanation,:].data', label=\"methanation\")\n",
    "ax[1].legend()\n",
    "\n",
    "ax[2].plot(h, STORED_res[:battery,:].data', label=\"batt\")\n",
    "ax[2].plot(h, STORED_res[:phs,:].data', label=\"phs\")\n",
    "ax[2].legend();"
   ]
  },
  {
   "cell_type": "markdown",
   "metadata": {},
   "source": [
    "Spot price: \n",
    "there is a huge peak in February"
   ]
  },
  {
   "cell_type": "code",
   "execution_count": 108,
   "metadata": {},
   "outputs": [
    {
     "data": {
      "image/png": "[encoded data removed]",
      "text/plain": [
       "Figure(PyObject <Figure size 640x480 with 1 Axes>)"
      ]
     },
     "metadata": {},
     "output_type": "display_data"
    },
    {
     "data": {
      "text/plain": [
       "(500.0, 1000.0)"
      ]
     },
     "execution_count": 108,
     "metadata": {},
     "output_type": "execute_result"
    }
   ],
   "source": [
    "plot(h,spot_price.data)\n",
    "xlim(500, 1000)"
   ]
  },
  {
   "cell_type": "code",
   "execution_count": 107,
   "metadata": {},
   "outputs": [
    {
     "data": {
      "image/png": "[encoded data removed]",
      "text/plain": [
       "Figure(PyObject <Figure size 640x480 with 1 Axes>)"
      ]
     },
     "metadata": {},
     "output_type": "display_data"
    }
   ],
   "source": [
    "plot(h,spot_price.data)\n",
    "ylim(-10, 200)\n",
    "title(\"Marginal electricity price (€/MWh)\");"
   ]
  }
 ],
 "metadata": {
  "@webio": {
   "lastCommId": null,
   "lastKernelId": null
  },
  "kernelspec": {
   "display_name": "Julia 1.8.5",
   "language": "julia",
   "name": "julia-1.8"
  },
  "language_info": {
   "file_extension": ".jl",
   "mimetype": "application/julia",
   "name": "julia",
   "version": "1.8.5"
  },
  "toc": {
   "base_numbering": 1,
   "nav_menu": {},
   "number_sections": true,
   "sideBar": true,
   "skip_h1_title": true,
   "title_cell": "Table of Contents",
   "title_sidebar": "Contents",
   "toc_cell": false,
   "toc_position": {
    "height": "calc(100% - 180px)",
    "left": "10px",
    "top": "150px",
    "width": "178.8px"
   },
   "toc_section_display": true,
   "toc_window_display": true
  }
 },
 "nbformat": 4,
 "nbformat_minor": 4
}
