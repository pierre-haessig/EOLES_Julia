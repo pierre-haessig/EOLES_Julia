{
 "cells": [
  {
   "cell_type": "markdown",
   "metadata": {},
   "source": [
    "# EOLES_elecRES in Julia\n",
    "\n",
    "This notebook is a translation to Julia (with [JuMP](https://jump.dev/))\n",
    "of the 100% renewable electricity optimization model [EOLES_elecRES](https://github.com/BehrangShirizadeh/EOLES_elecRES) which is written in [GAMS](https://www.gams.com/latest/docs/UG_MAIN.html).\n",
    "\n",
    "More precisely this is the port of the [EOLES_elecRES.gms](https://github.com/BehrangShirizadeh/EOLES_elecRES/blob/master/model/EOLES_elecRES.gms) model. The translation is a close as possible to the original GAMS code, with many reproduction of GAMS code extracts.\n",
    "\n",
    "**License:**\n",
    "\n",
    "The original model is licensed under a Creative Commons Attribution-NonCommercial-ShareAlike 4.0 International License ([CC BY-NC-SA 4.0](http://creativecommons.org/licenses/by-nc-sa/4.0/)).\n",
    "Written by Behrang Shirizadeh, Quentin Perrier and Philippe Quirion, October 2020.\n",
    "\n",
    "This Julia notebook, which is a derivative work, is made available under the same license by Pierre Haessig, February 2021."
   ]
  },
  {
   "cell_type": "code",
   "execution_count": 1,
   "metadata": {},
   "outputs": [],
   "source": [
    "using CSV, DataFrames, PyPlot\n",
    "using JuMP, GLPK"
   ]
  },
  {
   "cell_type": "code",
   "execution_count": 2,
   "metadata": {},
   "outputs": [],
   "source": [
    "const DAArray = JuMP.Containers.DenseAxisArray;"
   ]
  },
  {
   "cell_type": "markdown",
   "metadata": {},
   "source": [
    "## Model data"
   ]
  },
  {
   "cell_type": "markdown",
   "metadata": {},
   "source": [
    "### Sets"
   ]
  },
  {
   "cell_type": "markdown",
   "metadata": {},
   "source": [
    "#### hours and months\n",
    "\n",
    "See GAMS User guide, [§Set Definition/Sequences as Set Elements](https://www.gams.com/latest/docs/UG_SetDefinition.html#UG_SetDefinition_SequencesAsSetElements) for the definition of `*`"
   ]
  },
  {
   "cell_type": "markdown",
   "metadata": {},
   "source": [
    "sets `h /0*8759/`\n",
    "\n",
    "         first(h)        'first hour'\n",
    "         last(h)         'last hour'\n",
    "         \n",
    "         first(h) = ord(h)=1;\n",
    "last(h) = ord(h)=card(h);\n",
    "\n",
    "alias(h,hh);"
   ]
  },
  {
   "cell_type": "code",
   "execution_count": 3,
   "metadata": {},
   "outputs": [
    {
     "data": {
      "text/plain": [
       "0:8759"
      ]
     },
     "execution_count": 3,
     "metadata": {},
     "output_type": "execute_result"
    }
   ],
   "source": [
    "h = 0:8759"
   ]
  },
  {
   "cell_type": "code",
   "execution_count": 4,
   "metadata": {},
   "outputs": [],
   "source": [
    "first_h = h .== h[1] # BitArray, with first element true\n",
    "last_h = h .== h[end]; # BitArray, with last element true"
   ]
  },
  {
   "cell_type": "code",
   "execution_count": 5,
   "metadata": {},
   "outputs": [
    {
     "data": {
      "text/plain": [
       "12-element Array{Symbol,1}:\n",
       " :jan\n",
       " :feb\n",
       " :mar\n",
       " :apr\n",
       " :may\n",
       " :jun\n",
       " :jul\n",
       " :aug\n",
       " :sep\n",
       " :oct\n",
       " :nov\n",
       " :dec"
      ]
     },
     "execution_count": 5,
     "metadata": {},
     "output_type": "execute_result"
    }
   ],
   "source": [
    "m = [:jan, :feb, :mar, :apr, :may, :jun, :jul, :aug, :sep, :oct, :nov, :dec]"
   ]
  },
  {
   "cell_type": "markdown",
   "metadata": {},
   "source": [
    "#### technology sets"
   ]
  },
  {
   "cell_type": "markdown",
   "metadata": {},
   "source": [
    "All technologies"
   ]
  },
  {
   "cell_type": "code",
   "execution_count": 6,
   "metadata": {},
   "outputs": [
    {
     "data": {
      "text/plain": [
       "10-element Array{Symbol,1}:\n",
       " :offshore\n",
       " :onshore\n",
       " :pv\n",
       " :river\n",
       " :lake\n",
       " :biogas\n",
       " :gas\n",
       " :phs\n",
       " :battery\n",
       " :methanation"
      ]
     },
     "execution_count": 6,
     "metadata": {},
     "output_type": "execute_result"
    }
   ],
   "source": [
    "tec = [:offshore, :onshore, :pv, :river, :lake, :biogas, :gas, :phs, :battery, :methanation] "
   ]
  },
  {
   "cell_type": "markdown",
   "metadata": {},
   "source": [
    "Subsets of `tec`"
   ]
  },
  {
   "cell_type": "code",
   "execution_count": 7,
   "metadata": {},
   "outputs": [],
   "source": [
    "# power plants\n",
    "gen = [:offshore, :onshore, :pv, :river, :lake, :biogas, :gas]\n",
    "# variable tecs\n",
    "vre = [:offshore, :onshore, :pv]\n",
    "# non-combustible generation\n",
    "ncomb = [:offshore, :onshore, :pv, :river, :lake, :phs, :battery]\n",
    "# combustible generation techs\n",
    "# Remark: in equations, its defined that 'gas' generation is the sum of the generations from 'comb' elements\n",
    "comb = [:biogas, :methanation] # Q: is it a bug. Should it be biogas and gas?\n",
    "# storage technologies\n",
    "str = [:phs, :battery, :methanation]\n",
    "# technologies for upward FRR\n",
    "frr = [:lake, :phs, :battery, :gas];"
   ]
  },
  {
   "cell_type": "markdown",
   "metadata": {},
   "source": [
    "Check that subsets are indeed subsets (i.e. performing the automatic [domain checking](https://www.gams.com/latest/docs/UG_SetDefinition.html#UG_SetDefinition_DomainChecking) of GAMS)"
   ]
  },
  {
   "cell_type": "code",
   "execution_count": 8,
   "metadata": {},
   "outputs": [],
   "source": [
    "for tec_subset in [gen, vre, ncomb, comb, str, frr]\n",
    "    @assert issubset(tec_subset, tec) \"should be a subset of tec!\"\n",
    "end"
   ]
  },
  {
   "cell_type": "markdown",
   "metadata": {},
   "source": [
    "### Parameters"
   ]
  },
  {
   "cell_type": "markdown",
   "metadata": {},
   "source": [
    "Original GAMS definition for months:\n",
    "```\n",
    "parameter month(h)  /0*743 1, 744*1439 2, 1440*2183 3, 2184*2903 4\n",
    "                    2904*3647 5, 3648*4367 6, 4368*5111 7, 5112*5855 8\n",
    "                    5856*6575 9, 6576*7319 10, 7320*8039 11, 8040*8759 12/\n",
    "```"
   ]
  },
  {
   "cell_type": "markdown",
   "metadata": {},
   "source": [
    "observe that February has 29 days, which is compensated by December having only 30:"
   ]
  },
  {
   "cell_type": "code",
   "execution_count": 9,
   "metadata": {},
   "outputs": [
    {
     "data": {
      "text/plain": [
       "(29.0, 30.0)"
      ]
     },
     "execution_count": 9,
     "metadata": {},
     "output_type": "execute_result"
    }
   ],
   "source": [
    "(1439 - 744 +1)/24, (8759 - 8040 +1)/24"
   ]
  },
  {
   "cell_type": "code",
   "execution_count": 10,
   "metadata": {},
   "outputs": [
    {
     "data": {
      "image/png": "[encoded data removed]",
      "text/plain": [
       "Figure(PyObject <Figure size 600x250 with 1 Axes>)"
      ]
     },
     "metadata": {},
     "output_type": "display_data"
    }
   ],
   "source": [
    "month = [\n",
    "     repeat([1], 31*24);  repeat([2], 29*24);  repeat([3], 31*24);  repeat([4], 30*24);\n",
    "     repeat([5], 31*24);  repeat([6], 30*24);  repeat([7], 31*24);  repeat([8], 31*24);\n",
    "     repeat([9], 30*24); repeat([10], 31*24); repeat([11], 30*24); repeat([12], 30*24)\n",
    "]\n",
    "\n",
    "figure(figsize=(6,2.5))\n",
    "plot(h, month);"
   ]
  },
  {
   "cell_type": "markdown",
   "metadata": {},
   "source": [
    "Convert `month` values from Integers to corresponding Symbols"
   ]
  },
  {
   "cell_type": "code",
   "execution_count": 11,
   "metadata": {},
   "outputs": [],
   "source": [
    "month_sym = [m[mk] for mk in month];"
   ]
  },
  {
   "cell_type": "markdown",
   "metadata": {},
   "source": [
    "Helper to read CSV files"
   ]
  },
  {
   "cell_type": "code",
   "execution_count": 12,
   "metadata": {},
   "outputs": [
    {
     "data": {
      "text/plain": [
       "readdelim"
      ]
     },
     "execution_count": 12,
     "metadata": {},
     "output_type": "execute_result"
    }
   ],
   "source": [
    "\"\"\"\n",
    "    readdelim(source, dims...; default_value=0.)\n",
    "\n",
    "Read the CSV file `source` formatted as for the GAMS' `\\$onDelim`/`\\$offDelim` instructions\n",
    "(i.e. a long, database-like format).\n",
    "The vectors of each dimension of the output are specified with `dims`.\n",
    "\n",
    "Remark: Strings are lowercased and converted to Symbols\n",
    "\"\"\"\n",
    "function readdelim(source, dims...; default_value=0.)\n",
    "    print(\"reading $source...\")\n",
    "    # create reverse maps from value  to index for each dim vector\n",
    "    ndim = length(dims)\n",
    "    dim_maps = []\n",
    "    for dim in dims\n",
    "        dim_map = Dict((v,i) for (i,v) in enumerate(dim))\n",
    "        push!(dim_maps, dim_map)\n",
    "    end\n",
    "    \n",
    "    # load datafile\n",
    "    df = DataFrame(CSV.File(source, header=false))\n",
    "    ncol = size(df,2)\n",
    "    @assert ncol == (ndim+1) \"$(ndim+1) columns exected in $source, got $(ncol)\"\n",
    "    \n",
    "    # Create array and fill with data\n",
    "    a = zeros((length(dim) for dim in dims)...)\n",
    "    fill!(a, default_value)\n",
    "    \n",
    "    to_symb(a) = if (typeof(a) == String) Symbol(lowercase(a)) else a end\n",
    "    \n",
    "    for row in eachrow(df)\n",
    "        if ndim == 1\n",
    "            i = dim_maps[1][to_symb(row[1])]\n",
    "            a[i] = row[2]\n",
    "        elseif ndim == 2\n",
    "            i = dim_maps[1][to_symb(row[1])]\n",
    "            j = dim_maps[2][to_symb(row[2])]\n",
    "            a[i,j] = row[3]\n",
    "        else\n",
    "            throw(ArgumentError(\"only 2 dims supported, got $(ndim)!\"))\n",
    "        end\n",
    "    end\n",
    "    # Convert to JuMP.Containers.DenseAxisArray for easier indexing\n",
    "    return JuMP.Containers.DenseAxisArray(a, dims...)\n",
    "end"
   ]
  },
  {
   "cell_type": "markdown",
   "metadata": {},
   "source": [
    "parameter `load_factor(vre,h)` 'Production profiles of VRE'\n",
    "\n",
    "from file `inputs/vre_profiles2006.csv`"
   ]
  },
  {
   "cell_type": "code",
   "execution_count": 13,
   "metadata": {},
   "outputs": [
    {
     "name": "stdout",
     "output_type": "stream",
     "text": [
      "reading inputs/vre_profiles2006.csv..."
     ]
    },
    {
     "data": {
      "text/plain": [
       "2-dimensional DenseAxisArray{Float64,2,...} with index sets:\n",
       "    Dimension 1, [:offshore, :onshore, :pv]\n",
       "    Dimension 2, 0:8759\n",
       "And data, a 3×8760 Array{Float64,2}:\n",
       " 0.865143  0.88     0.88      0.873429  …  0.990286  0.991     0.988143\n",
       " 0.511702  0.52791  0.537973  0.541571     0.826158  0.825222  0.818481\n",
       " 0.0       0.0      0.0       0.0          0.0       0.0       0.0"
      ]
     },
     "execution_count": 13,
     "metadata": {},
     "output_type": "execute_result"
    }
   ],
   "source": [
    "load_factor = readdelim(\"inputs/vre_profiles2006.csv\", vre, h; default_value=0.)"
   ]
  },
  {
   "cell_type": "code",
   "execution_count": 14,
   "metadata": {},
   "outputs": [
    {
     "data": {
      "image/png": "[encoded data removed]",
      "text/plain": [
       "Figure(PyObject <Figure size 900x300 with 4 Axes>)"
      ]
     },
     "metadata": {},
     "output_type": "display_data"
    }
   ],
   "source": [
    "z = 1:24*14 # zoom\n",
    "fig, ax = subplots(2,2, figsize=(9, 3), sharey=true)\n",
    "\n",
    "# Wind\n",
    "ax[1,1].plot(h, load_factor[:offshore,:].data, label=vre[1])\n",
    "ax[1,1].plot(h, load_factor[:onshore,:].data, \"C2\", label=vre[2])\n",
    "ax[1,2].plot(h[z], load_factor[:offshore,:].data[z], label=vre[1])\n",
    "ax[1,2].plot(h[z], load_factor[:onshore,:].data[z], \"C2\", label=vre[2])\n",
    "ax[1,2].legend(ncol=2)\n",
    "\n",
    "# PV\n",
    "ax[2,1].plot(h, load_factor[:pv,:].data, \"C1\", label=vre[3])\n",
    "ax[2,2].plot(h[z], load_factor[:pv,:].data[z], \"C1\", label=vre[3])\n",
    "ax[2,2].legend()\n",
    "\n",
    "fig.suptitle(\"VRE capacity factors\")\n",
    "fig.tight_layout();"
   ]
  },
  {
   "cell_type": "markdown",
   "metadata": {},
   "source": [
    "Parameter `demand(h)` 'demand profile in each hour in GW'\n",
    "\n",
    "from file `inputs/demand2050_ademe.csv`"
   ]
  },
  {
   "cell_type": "code",
   "execution_count": 15,
   "metadata": {},
   "outputs": [
    {
     "name": "stdout",
     "output_type": "stream",
     "text": [
      "reading inputs/demand2050_ademe.csv..."
     ]
    }
   ],
   "source": [
    "demand = readdelim(\"inputs/demand2050_ademe.csv\", h);"
   ]
  },
  {
   "cell_type": "code",
   "execution_count": 16,
   "metadata": {},
   "outputs": [
    {
     "data": {
      "image/png": "[encoded data removed]",
      "text/plain": [
       "Figure(PyObject <Figure size 1000x300 with 1 Axes>)"
      ]
     },
     "metadata": {},
     "output_type": "display_data"
    }
   ],
   "source": [
    "figure(figsize=(10, 3))\n",
    "plot(h, demand.data)\n",
    "title(\"Demand (GW)\")\n",
    "tight_layout()"
   ]
  },
  {
   "cell_type": "markdown",
   "metadata": {},
   "source": [
    "Parameter `lake_inflows(m)` 'monthly lake inflows in GWh'\n",
    "\n",
    "from `inputs/lake_inflows.csv`"
   ]
  },
  {
   "cell_type": "code",
   "execution_count": 17,
   "metadata": {},
   "outputs": [
    {
     "data": {
      "image/png": "[encoded data removed]",
      "text/plain": [
       "Figure(PyObject <Figure size 600x250 with 1 Axes>)"
      ]
     },
     "metadata": {},
     "output_type": "display_data"
    },
    {
     "name": "stdout",
     "output_type": "stream",
     "text": [
      "reading inputs/lake_inflows.csv..."
     ]
    }
   ],
   "source": [
    "lake_inflows = readdelim(\"inputs/lake_inflows.csv\", m)\n",
    "\n",
    "figure(figsize=(6,2.5))\n",
    "step(m, lake_inflows.data, where=\"mid\")\n",
    "title(\"Lake inflows (unit ?)\")\n",
    "tight_layout()"
   ]
  },
  {
   "cell_type": "markdown",
   "metadata": {},
   "source": [
    "parameter `gene_river(h)` 'hourly run of river power generation in GWh'\n",
    "\n",
    "from `inputs/run_of_river.csv`"
   ]
  },
  {
   "cell_type": "code",
   "execution_count": 18,
   "metadata": {},
   "outputs": [
    {
     "data": {
      "image/png": "[encoded data removed]",
      "text/plain": [
       "Figure(PyObject <Figure size 1000x300 with 1 Axes>)"
      ]
     },
     "metadata": {},
     "output_type": "display_data"
    },
    {
     "name": "stdout",
     "output_type": "stream",
     "text": [
      "reading inputs/run_of_river.csv..."
     ]
    }
   ],
   "source": [
    "gene_river = readdelim(\"inputs/run_of_river.csv\", h)\n",
    "\n",
    "figure(figsize=(10, 3))\n",
    "plot(h, gene_river.data)\n",
    "title(\"Run of river generation (GW)\")\n",
    "tight_layout()"
   ]
  },
  {
   "cell_type": "markdown",
   "metadata": {},
   "source": [
    "parameter `epsilon(vre)` 'additional FRR requirement for variable renewable energies because of forecast errors'\n",
    "\n",
    "from `inputs/reserve_requirements.csv`"
   ]
  },
  {
   "cell_type": "code",
   "execution_count": 19,
   "metadata": {},
   "outputs": [
    {
     "name": "stdout",
     "output_type": "stream",
     "text": [
      "reading inputs/reserve_requirements.csv..."
     ]
    },
    {
     "data": {
      "text/plain": [
       "3×2 Array{Any,2}:\n",
       " :offshore  0.027\n",
       " :onshore   0.027\n",
       " :pv        0.038"
      ]
     },
     "execution_count": 19,
     "metadata": {},
     "output_type": "execute_result"
    }
   ],
   "source": [
    "epsilon = readdelim(\"inputs/reserve_requirements.csv\", vre)\n",
    "[vre epsilon]"
   ]
  },
  {
   "cell_type": "markdown",
   "metadata": {},
   "source": [
    "parameter `capa_ex(tec)` 'existing capacities of the technologies by December 2017 in GW'\n",
    "\n",
    "from `inputs/existing_capas.csv`\n",
    "\n",
    "Remark: gas is missing from file, but default value is 0. in `readdelim`"
   ]
  },
  {
   "cell_type": "code",
   "execution_count": 20,
   "metadata": {},
   "outputs": [
    {
     "name": "stdout",
     "output_type": "stream",
     "text": [
      "reading inputs/existing_capas.csv..."
     ]
    },
    {
     "data": {
      "text/plain": [
       "10×2 Array{Any,2}:\n",
       " :offshore      0.0\n",
       " :onshore       0.0\n",
       " :pv            0.0\n",
       " :river         7.5\n",
       " :lake         12.855\n",
       " :biogas        0.0\n",
       " :gas           0.0\n",
       " :phs           4.94\n",
       " :battery       0.0\n",
       " :methanation   0.0"
      ]
     },
     "execution_count": 20,
     "metadata": {},
     "output_type": "execute_result"
    }
   ],
   "source": [
    "capa_ex = readdelim(\"inputs/existing_capas.csv\", tec)\n",
    "[tec capa_ex]"
   ]
  },
  {
   "cell_type": "markdown",
   "metadata": {},
   "source": [
    "parameter `capa_max(tec)` 'maximum capacities of the technologies in GW'\n",
    "\n",
    "from `inputs/max_capas.csv`\n",
    "\n",
    "Remarks:\n",
    "- again \"gas\" is missing from the file\n",
    "- but eventually, only the values for offshore, onshore and pv is used to contraint the `CAPA` variable.\n",
    "- \"phs\" max capa is set in `pump_capa=9.3` (coherent with file)\n",
    "- \"lake\" max capacity is set to 13 (coherent with file)\n",
    "- \"river\" capacity is *fixed* to `capa_ex('river')` (7.5, which is coherent with file)"
   ]
  },
  {
   "cell_type": "code",
   "execution_count": 21,
   "metadata": {},
   "outputs": [
    {
     "name": "stdout",
     "output_type": "stream",
     "text": [
      "reading inputs/max_capas.csv..."
     ]
    },
    {
     "data": {
      "text/plain": [
       "10×2 Array{Any,2}:\n",
       " :offshore      20.0\n",
       " :onshore      120.0\n",
       " :pv           218.0\n",
       " :river          7.5\n",
       " :lake          13.0\n",
       " :biogas       100.0\n",
       " :gas            0.0\n",
       " :phs            9.3\n",
       " :battery      100.0\n",
       " :methanation  100.0"
      ]
     },
     "execution_count": 21,
     "metadata": {},
     "output_type": "execute_result"
    }
   ],
   "source": [
    "capa_max = readdelim(\"inputs/max_capas.csv\", tec)\n",
    "[tec capa_max]"
   ]
  },
  {
   "cell_type": "markdown",
   "metadata": {},
   "source": [
    "parameter `capex(tec)` 'annualized power capex cost in M€/GW/year'\n",
    "\n",
    "from `inputs/annuities.csv`"
   ]
  },
  {
   "cell_type": "code",
   "execution_count": 22,
   "metadata": {},
   "outputs": [
    {
     "name": "stdout",
     "output_type": "stream",
     "text": [
      "reading inputs/annuities.csv..."
     ]
    }
   ],
   "source": [
    "capex = readdelim(\"inputs/annuities.csv\", tec);"
   ]
  },
  {
   "cell_type": "markdown",
   "metadata": {},
   "source": [
    "parameter `capex_en(str)` 'annualized energy capex cost of storage technologies in M€/GWh/year'\n",
    "\n",
    "from `inputs/str_annuities.csv`"
   ]
  },
  {
   "cell_type": "code",
   "execution_count": 23,
   "metadata": {},
   "outputs": [
    {
     "name": "stdout",
     "output_type": "stream",
     "text": [
      "reading inputs/str_annuities.csv..."
     ]
    },
    {
     "data": {
      "text/plain": [
       "3×2 Array{Any,2}:\n",
       " :phs           0.246938\n",
       " :battery      10.634\n",
       " :methanation   0.0"
      ]
     },
     "execution_count": 23,
     "metadata": {},
     "output_type": "execute_result"
    }
   ],
   "source": [
    "capex_en = readdelim(\"inputs/str_annuities.csv\", str)\n",
    "[str capex_en]"
   ]
  },
  {
   "cell_type": "markdown",
   "metadata": {},
   "source": [
    "parameter `fOM(tec)` 'annualized fixed operation and maintenance costs M€/GW/year'\n",
    "\n",
    "from `inputs/fO&M.csv`"
   ]
  },
  {
   "cell_type": "code",
   "execution_count": 24,
   "metadata": {},
   "outputs": [
    {
     "name": "stdout",
     "output_type": "stream",
     "text": [
      "reading inputs/fO&M.csv..."
     ]
    }
   ],
   "source": [
    "fOM = readdelim(\"inputs/fO&M.csv\", tec);"
   ]
  },
  {
   "cell_type": "markdown",
   "metadata": {},
   "source": [
    "Total fixed costs:"
   ]
  },
  {
   "cell_type": "code",
   "execution_count": 25,
   "metadata": {},
   "outputs": [
    {
     "data": {
      "text/plain": [
       "10×4 Array{Any,2}:\n",
       " :offshore     144.368   47.0318   191.4\n",
       " :onshore       77.6621  34.5477   112.21\n",
       " :pv            30.0052   9.22619   39.2314\n",
       " :river        143.909   14.85     158.759\n",
       " :lake         110.233   11.375    121.608\n",
       " :biogas         0.0      0.0        0.0\n",
       " :gas           33.7653  16.5       50.2653\n",
       " :phs           24.6938   7.5       32.1938\n",
       " :battery       14.8876   1.96      16.8476\n",
       " :methanation    0.0      0.0        0.0"
      ]
     },
     "execution_count": 25,
     "metadata": {},
     "output_type": "execute_result"
    }
   ],
   "source": [
    "fixed_costs = DAArray(capex.data + fOM.data, tec) # 'yearly fixed cost of each tec in M€/GW/year'\n",
    "[tec capex fOM fixed_costs]"
   ]
  },
  {
   "cell_type": "markdown",
   "metadata": {},
   "source": [
    "parameter `vOM(tec)` 'Variable operation and maintenance costs in M€/GWh'\n",
    "\n",
    "from `inputs/vO&M.csv`"
   ]
  },
  {
   "cell_type": "code",
   "execution_count": 26,
   "metadata": {},
   "outputs": [
    {
     "name": "stdout",
     "output_type": "stream",
     "text": [
      "reading inputs/vO&M.csv..."
     ]
    },
    {
     "data": {
      "text/plain": [
       "10×2 Array{Any,2}:\n",
       " :offshore     0.0\n",
       " :onshore      0.0\n",
       " :pv           0.0\n",
       " :river        0.0\n",
       " :lake         0.0\n",
       " :biogas       0.082\n",
       " :gas          0.0\n",
       " :phs          0.0\n",
       " :battery      0.0021\n",
       " :methanation  0.005444"
      ]
     },
     "execution_count": 26,
     "metadata": {},
     "output_type": "execute_result"
    }
   ],
   "source": [
    "vOM = readdelim(\"inputs/vO&M.csv\", tec)\n",
    "[tec vOM]"
   ]
  },
  {
   "cell_type": "markdown",
   "metadata": {},
   "source": [
    "parameter `s_capex(str)` 'charging related annuity of storage in M€/GW/year' /PHS 0, battery 0, methanation 84.16086/;\n",
    "\n",
    "*Remark: this corresponds with the fact that capex[:methanation] is 0*"
   ]
  },
  {
   "cell_type": "code",
   "execution_count": 27,
   "metadata": {},
   "outputs": [
    {
     "data": {
      "text/plain": [
       "3×2 Array{Any,2}:\n",
       " :phs           0.0\n",
       " :battery       0.0\n",
       " :methanation  84.1609"
      ]
     },
     "execution_count": 27,
     "metadata": {},
     "output_type": "execute_result"
    }
   ],
   "source": [
    "s_capex = DAArray([0., 0., 84.16086], str)\n",
    "[str s_capex]"
   ]
  },
  {
   "cell_type": "markdown",
   "metadata": {},
   "source": [
    "parameter `s_opex(str)`    'charging related fOM of storage in M€/GW/year'   /PHS 0, battery 0, methanation 59.25/;"
   ]
  },
  {
   "cell_type": "code",
   "execution_count": 28,
   "metadata": {},
   "outputs": [
    {
     "data": {
      "text/plain": [
       "3×2 Array{Any,2}:\n",
       " :phs           0.0\n",
       " :battery       0.0\n",
       " :methanation  59.25"
      ]
     },
     "execution_count": 28,
     "metadata": {},
     "output_type": "execute_result"
    }
   ],
   "source": [
    "s_opex = DAArray([0., 0., 59.25], str)\n",
    "[str s_opex]"
   ]
  },
  {
   "cell_type": "markdown",
   "metadata": {},
   "source": [
    "Charging/discharging efficiency\n",
    "\n",
    "- parameter `eta_in(str)` 'charging efficiency of storage technologies' /PHS 0.95, battery 0.9, methanation 0.59/;\n",
    "- parameter `eta_out(str)` 'discharging efficiency of storage technolgoies' /PHS 0.9, battery 0.95, methanation 0.45/;"
   ]
  },
  {
   "cell_type": "code",
   "execution_count": 29,
   "metadata": {},
   "outputs": [
    {
     "data": {
      "text/plain": [
       "3×3 Array{Any,2}:\n",
       " :phs          0.95  0.9\n",
       " :battery      0.9   0.95\n",
       " :methanation  0.59  0.45"
      ]
     },
     "execution_count": 29,
     "metadata": {},
     "output_type": "execute_result"
    }
   ],
   "source": [
    "eta_in  = DAArray([0.95, 0.90, 0.59], str)\n",
    "eta_out = DAArray([0.90, 0.95, 0.45], str)\n",
    "[str eta_in eta_out]"
   ]
  },
  {
   "cell_type": "markdown",
   "metadata": {},
   "source": [
    "Scalar parameters"
   ]
  },
  {
   "cell_type": "code",
   "execution_count": 30,
   "metadata": {},
   "outputs": [],
   "source": [
    "pump_capa = 9.3 # pumping capacity in GW\n",
    "max_phs = 0.18 # maximum volume of energy can be stored in PHS reservoir in TWh\n",
    "max_biogas = 15 # maxium energy that can be generated by biogas in TWh\n",
    "load_uncertainty = 0.01 # uncertainty coefficient for hourly demand\n",
    "delta = 0.1; # load variation factor"
   ]
  },
  {
   "cell_type": "markdown",
   "metadata": {},
   "source": [
    "## Model"
   ]
  },
  {
   "cell_type": "code",
   "execution_count": 61,
   "metadata": {},
   "outputs": [
    {
     "name": "stderr",
     "output_type": "stream",
     "text": [
      "┌ Info: Precompiling Clp [e2554f3b-3117-50c0-817c-e040a3ddf72d]\n",
      "└ @ Base loading.jl:1260\n"
     ]
    }
   ],
   "source": [
    "using Clp"
   ]
  },
  {
   "cell_type": "code",
   "execution_count": 62,
   "metadata": {},
   "outputs": [
    {
     "data": {
      "text/latex": [
       "$$ \\begin{alignat*}{1}\\text{feasibility}\\\\\n",
       "\\text{Subject to} \\quad\\end{alignat*}\n",
       " $$"
      ],
      "text/plain": [
       "A JuMP Model\n",
       "Feasibility problem with:\n",
       "Variables: 0\n",
       "Model mode: AUTOMATIC\n",
       "CachingOptimizer state: EMPTY_OPTIMIZER\n",
       "Solver name: Clp"
      ]
     },
     "execution_count": 62,
     "metadata": {},
     "output_type": "execute_result"
    }
   ],
   "source": [
    "RES_FR = Model(Clp.Optimizer)"
   ]
  },
  {
   "cell_type": "markdown",
   "metadata": {},
   "source": [
    "### Variables\n",
    "\n",
    "See [§Variable Attributes](https://www.gams.com/latest/docs/UG_Variables.html#UG_Variables_VariableAttributes) for `.up`, `.lo`, `.fx` and `.l`\n",
    "\n",
    "See [§Styles for Variable Declaration](https://www.gams.com/latest/docs/UG_Variables.html#UG_Variables_StylesForVariableDeclaration) for the fact it's possible to redeclare the type of a variable. E.g. here to state it's positive"
   ]
  },
  {
   "cell_type": "markdown",
   "metadata": {},
   "source": [
    "```\n",
    "variables        GENE(tec,h)     'hourly energy generation in TWh'\n",
    "                 CAPA(tec)       'overal yearly installed capacity in GW'\n",
    "                 STORAGE(str,h)  'hourly electricity input of battery storage GW'\n",
    "                 S(str)          'charging power capacity of each storage technology'\n",
    "                 STORED(str,h)   'energy stored in each storage technology in GWh'\n",
    "                 CAPACITY(str)   'energy volume of storage technologies in GWh'\n",
    "                 RSV(frr,h)      'required upward frequency restoration reserve in GW'\n",
    "                 COST            'final investment cost in b€'\n",
    "\n",
    "positive variables GENE(tec,h),CAPA(tec),STORAGE(str,h), S(str),STORED(str,h),CAPACITY(str),RSV(frr,h);\n",
    "```"
   ]
  },
  {
   "cell_type": "code",
   "execution_count": 63,
   "metadata": {},
   "outputs": [
    {
     "data": {
      "text/plain": [
       "2-dimensional DenseAxisArray{VariableRef,2,...} with index sets:\n",
       "    Dimension 1, [:lake, :phs, :battery, :gas]\n",
       "    Dimension 2, 0:8759\n",
       "And data, a 4×8760 Array{VariableRef,2}:\n",
       " RSV[lake,0]     RSV[lake,1]     RSV[lake,2]     …  RSV[lake,8759]\n",
       " RSV[phs,0]      RSV[phs,1]      RSV[phs,2]         RSV[phs,8759]\n",
       " RSV[battery,0]  RSV[battery,1]  RSV[battery,2]     RSV[battery,8759]\n",
       " RSV[gas,0]      RSV[gas,1]      RSV[gas,2]         RSV[gas,8759]"
      ]
     },
     "execution_count": 63,
     "metadata": {},
     "output_type": "execute_result"
    }
   ],
   "source": [
    "@variable(RES_FR, GENE[tec,h] >= 0)    # hourly energy generation in TWh\n",
    "@variable(RES_FR, CAPA[tec] >= 0)      # overal yearly installed capacity in GW\n",
    "@variable(RES_FR, STORAGE[str,h] >= 0) # hourly electricity input of battery storage GW\n",
    "@variable(RES_FR, S[str] >= 0)         # charging power capacity of each storage technology. Remark S(str) is constrainted <= CAPA(str);\n",
    "@variable(RES_FR, STORED[str,h] >= 0)  # energy stored in each storage technology in GWh\n",
    "@variable(RES_FR, CAPACITY[str] >= 0)  # energy volume of storage technologies in GWh\n",
    "@variable(RES_FR, RSV[frr,h] >= 0)     # required upward frequency restoration reserve in GW"
   ]
  },
  {
   "cell_type": "code",
   "execution_count": 64,
   "metadata": {},
   "outputs": [],
   "source": [
    "@variable(RES_FR, COST);"
   ]
  },
  {
   "cell_type": "markdown",
   "metadata": {},
   "source": [
    "Initial and fixed values\n",
    "\n",
    "```\n",
    "CAPA.up('phs') = pump_capa;\n",
    "CAPA.fx('river')= capa_ex('river');\n",
    "CAPA.up('lake') = 13;\n",
    "CAPA.lo('lake') = capa_ex('lake');\n",
    "GENE.up('river',h) = gene_river(h)*capa_ex('river');\n",
    "S.up('phs') = pump_capa;\n",
    "CAPACITY.up('phs') = max_phs*1000;\n",
    "CAPA.up('offshore') = capa_max('offshore');\n",
    "CAPA.up('onshore') = capa_max('onshore');\n",
    "CAPA.up('pv') = capa_max('pv');\n",
    "```"
   ]
  },
  {
   "cell_type": "code",
   "execution_count": 65,
   "metadata": {},
   "outputs": [
    {
     "data": {
      "text/latex": [
       "$ CAPA_{lake} \\geq 12.855 $"
      ],
      "text/plain": [
       "CAPA[lake] ≥ 12.855"
      ]
     },
     "execution_count": 65,
     "metadata": {},
     "output_type": "execute_result"
    }
   ],
   "source": [
    "@constraint(RES_FR, CAPA[:phs] <= pump_capa)\n",
    "@constraint(RES_FR, CAPA[:river] == capa_ex[:river])\n",
    "@constraint(RES_FR, CAPA[:lake] <= 13)\n",
    "@constraint(RES_FR, CAPA[:lake] >= capa_ex[:lake])"
   ]
  },
  {
   "cell_type": "markdown",
   "metadata": {},
   "source": [
    "Warning: GENE[:river] upper bound means rivers can be silently curtailed! Perhaps it should be _fixed_ instead."
   ]
  },
  {
   "cell_type": "code",
   "execution_count": 66,
   "metadata": {},
   "outputs": [],
   "source": [
    "@constraint(RES_FR, GENE_river_up[hk = h], \n",
    "            GENE[:river,hk] .>= gene_river[hk]*capa_ex[:river]);"
   ]
  },
  {
   "cell_type": "code",
   "execution_count": 67,
   "metadata": {},
   "outputs": [],
   "source": [
    "@constraint(RES_FR, S[:phs] <= pump_capa)\n",
    "@constraint(RES_FR, CAPACITY[:phs] <= max_phs*1000)\n",
    "@constraint(RES_FR, CAPA[:offshore] <= capa_max[:offshore])\n",
    "@constraint(RES_FR, CAPA[:onshore] <= capa_max[:onshore])\n",
    "@constraint(RES_FR, CAPA[:pv] <= capa_max[:pv]);"
   ]
  },
  {
   "cell_type": "markdown",
   "metadata": {},
   "source": [
    "### Equations"
   ]
  },
  {
   "cell_type": "markdown",
   "metadata": {},
   "source": [
    "`gene_vre(vre,h)` variables renewable profiles generation:"
   ]
  },
  {
   "cell_type": "code",
   "execution_count": 68,
   "metadata": {},
   "outputs": [],
   "source": [
    "@constraint(RES_FR, gene_vre[vrek=vre, hk=h],\n",
    "            GENE[vrek,hk] == CAPA[vrek]*load_factor[vrek,hk]);"
   ]
  },
  {
   "cell_type": "markdown",
   "metadata": {},
   "source": [
    "Equation `gene_capa(tec,h)` capacity and generation relation for technologies:"
   ]
  },
  {
   "cell_type": "code",
   "execution_count": 69,
   "metadata": {},
   "outputs": [],
   "source": [
    "@constraint(RES_FR, gene_capa[teck=tec, hk=h],\n",
    "            CAPA[teck] >= GENE[teck,hk]);"
   ]
  },
  {
   "cell_type": "markdown",
   "metadata": {},
   "source": [
    "`combustion(h)` the relationship of combustible technologies (i.e. 'gas' = 'biogas' + 'methanation'):"
   ]
  },
  {
   "cell_type": "code",
   "execution_count": 70,
   "metadata": {},
   "outputs": [],
   "source": [
    "@constraint(RES_FR, combustion[hk=h],\n",
    "            GENE[:gas,hk] == sum(GENE[combk,hk] for combk in comb));"
   ]
  },
  {
   "cell_type": "markdown",
   "metadata": {},
   "source": [
    "`capa_frr(frr,h)` capacity needed for the secondary reserve requirements:\n",
    "\n",
    "    CAPA(frr)               =g=     GENE(frr,h) + RSV(frr,h);"
   ]
  },
  {
   "cell_type": "code",
   "execution_count": 71,
   "metadata": {},
   "outputs": [],
   "source": [
    "@constraint(RES_FR, capa_frr[frrk=frr, hk=h],\n",
    "            CAPA[frrk] >= GENE[frrk,hk] + RSV[frrk,hk]);"
   ]
  },
  {
   "cell_type": "markdown",
   "metadata": {},
   "source": [
    "`storing(h,h+1,str)` the definition of stored energy in the storage options;\n",
    "\n",
    "    STORED(str,h+1) =e= STORED(str,h) + STORAGE(str,h)*eta_in(str) - GENE(str,h)/eta_out(str);\n",
    "\n",
    "Remark: see GAMS UG [§Lag and Lead Operators](https://www.gams.com/latest/docs/UG_OrderedSets.html#UG_OrderedSets_LagLeadOperators) for the meaning of `h+1`.\n",
    "However, it's not clear to me why the equation is declared on both `h` and `h+1`. "
   ]
  },
  {
   "cell_type": "code",
   "execution_count": 72,
   "metadata": {},
   "outputs": [],
   "source": [
    "@constraint(RES_FR, storing[strk=str, hk=h[1:end-1]],\n",
    "            STORED[strk,hk+1] == STORED[strk,hk] + \n",
    "            STORAGE[strk,hk]*eta_in[strk] - GENE[strk,hk]/eta_out[strk]);"
   ]
  },
  {
   "cell_type": "code",
   "execution_count": 73,
   "metadata": {},
   "outputs": [
    {
     "data": {
      "text/latex": [
       "storing[battery,2] : $ 1.0526315789473684 GENE_{battery,2} - 0.9 STORAGE_{battery,2} - STORED_{battery,2} + STORED_{battery,3} = 0.0 $"
      ],
      "text/plain": [
       "storing[battery,2] : 1.0526315789473684 GENE[battery,2] - 0.9 STORAGE[battery,2] - STORED[battery,2] + STORED[battery,3] = 0.0"
      ]
     },
     "execution_count": 73,
     "metadata": {},
     "output_type": "execute_result"
    }
   ],
   "source": [
    "storing[:battery,2]"
   ]
  },
  {
   "cell_type": "markdown",
   "metadata": {},
   "source": [
    "`storage_const(str,first,last)` storage in the first hour is equal to the storage in the last hour:\n",
    "\n",
    "    STORED(str,first) =e= STORED(str,last)+STORAGE(str,last)*eta_in(str)-GENE(str,last)/eta_out(str);"
   ]
  },
  {
   "cell_type": "code",
   "execution_count": 74,
   "metadata": {},
   "outputs": [],
   "source": [
    "@constraint(RES_FR, storage_const[strk=str],\n",
    "            STORED[strk,h[1]] == STORED[strk,h[end]] + \n",
    "            STORAGE[strk,h[end]]*eta_in[strk] - GENE[strk,h[end]]/eta_out[strk]);"
   ]
  },
  {
   "cell_type": "code",
   "execution_count": 75,
   "metadata": {},
   "outputs": [
    {
     "data": {
      "text/latex": [
       "storage_const[battery] : $ 1.0526315789473684 GENE_{battery,8759} - 0.9 STORAGE_{battery,8759} + STORED_{battery,0} - STORED_{battery,8759} = 0.0 $"
      ],
      "text/plain": [
       "storage_const[battery] : 1.0526315789473684 GENE[battery,8759] - 0.9 STORAGE[battery,8759] + STORED[battery,0] - STORED[battery,8759] = 0.0"
      ]
     },
     "execution_count": 75,
     "metadata": {},
     "output_type": "execute_result"
    }
   ],
   "source": [
    "storage_const[:battery]"
   ]
  },
  {
   "cell_type": "markdown",
   "metadata": {},
   "source": [
    "`lake_res(m)` constraint on water for lake reservoirs:\n",
    "\n",
    "    lake_inflows(m) =g= sum(h$(month(h) = ord(m)),GENE('lake',h))/1000;"
   ]
  },
  {
   "cell_type": "code",
   "execution_count": 76,
   "metadata": {},
   "outputs": [],
   "source": [
    "@constraint(RES_FR, lake_res[mk=m],\n",
    "            lake_inflows[mk] >= sum(GENE[:lake,:].data[month_sym.==mk])/1000);"
   ]
  },
  {
   "cell_type": "code",
   "execution_count": 77,
   "metadata": {},
   "outputs": [],
   "source": [
    "#print(lake_res[:jan])"
   ]
  },
  {
   "cell_type": "markdown",
   "metadata": {},
   "source": [
    "`stored_cap(str,h)` maximum energy that is stored in storage units:"
   ]
  },
  {
   "cell_type": "code",
   "execution_count": 78,
   "metadata": {},
   "outputs": [],
   "source": [
    "@constraint(RES_FR, stored_cap[strk=str, hk=h],\n",
    "            STORED[strk,hk] <= CAPACITY[strk]);"
   ]
  },
  {
   "cell_type": "markdown",
   "metadata": {},
   "source": [
    "`storage_capa1(str,h)` the capacity with hourly charging relationship of storage:"
   ]
  },
  {
   "cell_type": "code",
   "execution_count": 79,
   "metadata": {},
   "outputs": [],
   "source": [
    "@constraint(RES_FR, storage_capa1[strk=str, hk=h],\n",
    "            S[strk] >= STORAGE[strk,hk]);"
   ]
  },
  {
   "cell_type": "markdown",
   "metadata": {},
   "source": [
    "`storage_capa2(str)` storage power limit:"
   ]
  },
  {
   "cell_type": "code",
   "execution_count": 80,
   "metadata": {},
   "outputs": [],
   "source": [
    "@constraint(RES_FR, storage_capa2[strk=str],\n",
    "            S[strk] <= CAPA[strk]);"
   ]
  },
  {
   "cell_type": "markdown",
   "metadata": {},
   "source": [
    "`biogas_const` maximum energy can be produced by biogas:\n",
    "\n",
    "    sum(h,GENE('biogas',h)) =l=     max_biogas*1000;"
   ]
  },
  {
   "cell_type": "code",
   "execution_count": 81,
   "metadata": {},
   "outputs": [],
   "source": [
    "@constraint(RES_FR, biogas_const,\n",
    "            sum(GENE[:biogas,:]) <= max_biogas*1000);"
   ]
  },
  {
   "cell_type": "markdown",
   "metadata": {},
   "source": [
    "`reserves(h)` FRR requirement:"
   ]
  },
  {
   "cell_type": "code",
   "execution_count": 82,
   "metadata": {},
   "outputs": [],
   "source": [
    "@constraint(RES_FR, reserves[hk=h],\n",
    "            sum(RSV[:,hk]) == sum(epsilon[vrek] * CAPA[vrek] for vrek in vre) +\n",
    "            demand[hk]*load_uncertainty*(1+delta)\n",
    ");"
   ]
  },
  {
   "cell_type": "markdown",
   "metadata": {},
   "source": [
    "`adequacy(h)` supply/demand relation:"
   ]
  },
  {
   "cell_type": "code",
   "execution_count": 83,
   "metadata": {},
   "outputs": [],
   "source": [
    "@constraint(RES_FR, adequacy[hk=h],\n",
    "            sum(GENE[ncombk,hk] for ncombk in ncomb) + GENE[:gas,hk] >=\n",
    "            demand[hk] + sum(STORAGE[:,hk]));"
   ]
  },
  {
   "cell_type": "code",
   "execution_count": 84,
   "metadata": {},
   "outputs": [
    {
     "data": {
      "text/latex": [
       "adequacy[3] : $ GENE_{offshore,3} + GENE_{onshore,3} + GENE_{pv,3} + GENE_{river,3} + GENE_{lake,3} + GENE_{gas,3} + GENE_{phs,3} + GENE_{battery,3} - STORAGE_{phs,3} - STORAGE_{battery,3} - STORAGE_{methanation,3} \\geq 27.9874884 $"
      ],
      "text/plain": [
       "adequacy[3] : GENE[offshore,3] + GENE[onshore,3] + GENE[pv,3] + GENE[river,3] + GENE[lake,3] + GENE[gas,3] + GENE[phs,3] + GENE[battery,3] - STORAGE[phs,3] - STORAGE[battery,3] - STORAGE[methanation,3] ≥ 27.9874884"
      ]
     },
     "execution_count": 84,
     "metadata": {},
     "output_type": "execute_result"
    }
   ],
   "source": [
    "adequacy[3]"
   ]
  },
  {
   "cell_type": "markdown",
   "metadata": {},
   "source": [
    "`obj` the final objective function which is `COST`\n",
    "\n",
    "    COST                    =e=     (\n",
    "        sum(tec,(CAPA(tec)-capa_ex(tec))*capex(tec))+ \n",
    "        sum(str,CAPACITY(str)*capex_en(str))+\n",
    "        sum(tec,(CAPA(tec)*fOM(tec)))+ \n",
    "        sum(str,S(str)*(s_capex(str)+s_opex(str))) + \n",
    "        sum((tec,h),GENE(tec,h)*vOM(tec))\n",
    "        )/1000;"
   ]
  },
  {
   "cell_type": "code",
   "execution_count": 85,
   "metadata": {},
   "outputs": [],
   "source": [
    "@constraint(RES_FR, cost,\n",
    "            COST == (\n",
    "            sum( (CAPA[teck]-capa_ex[teck])*capex[teck] for teck in tec) +\n",
    "            sum( CAPACITY[strk]*capex_en[strk] for strk in str) +\n",
    "            sum( CAPA[teck]*fOM[teck] for teck in tec) +\n",
    "            sum( S[strk]*(s_capex[strk]+s_opex[strk]) for strk in str) +\n",
    "            sum( GENE[teck,hk]*vOM[teck] for teck in tec for hk in h)\n",
    "            )/1000 );"
   ]
  },
  {
   "cell_type": "code",
   "execution_count": 86,
   "metadata": {},
   "outputs": [],
   "source": [
    "@objective(RES_FR, Min, COST);"
   ]
  },
  {
   "cell_type": "markdown",
   "metadata": {},
   "source": [
    "Solve (~7 minutes with Clp)"
   ]
  },
  {
   "cell_type": "code",
   "execution_count": 87,
   "metadata": {},
   "outputs": [
    {
     "name": "stdout",
     "output_type": "stream",
     "text": [
      "Coin0506I Presolve 157694 (-105132) rows, 131411 (-43806) columns and 556610 (-219025) elements\n",
      "Clp0006I 0  Obj 0.13561339 Primal inf 2582648.1 (17520) Dual inf 4.1559333e+16 (78842)\n",
      "Clp0006I 870  Obj 30.388428 Primal inf 729557.89 (11186) Dual inf 2.5300521e+16 (45770)\n",
      "Clp0006I 1739  Obj 32.59457 Primal inf 625312.23 (10885) Dual inf 2.3603488e+09 (43686)\n",
      "Clp0006I 2608  Obj 32.843534 Primal inf 586463.26 (10493) Dual inf 2.1899128e+09 (41530)\n",
      "Clp0006I 3477  Obj 32.949949 Primal inf 528159.36 (10166) Dual inf 2.0375933e+09 (40737)\n",
      "Clp0006I 4346  Obj 33.102105 Primal inf 483046.08 (9805) Dual inf 1.8641528e+09 (39342)\n",
      "Clp0006I 5215  Obj 33.302744 Primal inf 421772.2 (9443) Dual inf 1.6868025e+09 (37515)\n",
      "Clp0006I 6084  Obj 33.511212 Primal inf 311745.65 (9095) Dual inf 1.5343216e+09 (35587)\n",
      "Clp0006I 6953  Obj 33.663564 Primal inf 234642.74 (8668) Dual inf 1.3509483e+09 (34126)\n",
      "Clp0006I 7822  Obj 33.670717 Primal inf 205122.6 (8434) Dual inf 1.1922803e+09 (32029)\n",
      "Clp0006I 8691  Obj 36.660244 Primal inf 195441.55 (8025) Dual inf 1.061702e+09 (29989)\n",
      "Clp0006I 9560  Obj 36.68575 Primal inf 186572.72 (7519) Dual inf 9.4702427e+08 (29193)\n",
      "Clp0006I 10429  Obj 36.312543 Primal inf 174046.45 (6422) Dual inf 8.0342911e+08 (23168)\n",
      "Clp0006I 11298  Obj 36.334429 Primal inf 166108.55 (5990) Dual inf 7.0715822e+08 (22013)\n",
      "Clp0006I 12167  Obj 36.31902 Primal inf 155094.8 (5566) Dual inf 5.7974951e+08 (19407)\n",
      "Clp0006I 13036  Obj 36.421982 Primal inf 145744.14 (5094) Dual inf 4.834683e+08 (19391)\n",
      "Clp0006I 13905  Obj 37.100117 Primal inf 138557.57 (4744) Dual inf 4.3199189e+08 (18568)\n",
      "Clp0006I 14774  Obj 37.492305 Primal inf 129557.24 (4416) Dual inf 3.9613297e+08 (15557)\n",
      "Clp0006I 15643  Obj 37.681049 Primal inf 122846.43 (4125) Dual inf 3.7815889e+08 (15160)\n",
      "Clp0006I 16512  Obj 38.47459 Primal inf 115746.09 (3834) Dual inf 3.9070157e+08 (12386)\n",
      "Clp0006I 17381  Obj 37.412698 Primal inf 99113.351 (4250) Dual inf 8.5658275e+08 (16734)\n",
      "Clp0006I 18250  Obj 36.988076 Primal inf 71285.642 (4429) Dual inf 2.71538e+08 (17049)\n",
      "Clp0006I 19119  Obj 38.44809 Primal inf 64500.867 (4076) Dual inf 2.2094828e+08 (15360)\n",
      "Clp0006I 19988  Obj 40.23304 Primal inf 56913.988 (3766) Dual inf 2.2143964e+08 (15758)\n",
      "Clp0006I 20857  Obj 41.554821 Primal inf 50880.532 (3553) Dual inf 1.7082396e+08 (14252)\n",
      "Clp0006I 21726  Obj 42.075021 Primal inf 41958.406 (3191) Dual inf 1.5150002e+08 (14346)\n",
      "Clp0006I 22595  Obj 39.370386 Primal inf 31236.764 (2823) Dual inf 95151764 (13263)\n",
      "Clp0006I 23464  Obj 39.663532 Primal inf 24250.533 (2468) Dual inf 2.3303127e+08 (10884)\n",
      "Clp0006I 24333  Obj 39.514291 Primal inf 16601.875 (2132) Dual inf 2.3733698e+08 (11115)\n",
      "Clp0006I 25202  Obj 38.956199 Primal inf 9408.638 (1915) Dual inf 98884539 (10763)\n",
      "Clp0006I 26071  Obj 37.76719 Primal inf 5284.567 (1644) Dual inf 90294129 (9557)\n",
      "Clp0006I 26940  Obj 36.782956 Primal inf 3900.397 (1245) Dual inf 8.8546357e+08 (8759)\n",
      "Clp0006I 27809  Obj 35.170206 Primal inf 3260.8376 (1107) Dual inf 95160421 (21494)\n",
      "Clp0006I 28678  Obj 35.497987 Primal inf 2488.3934 (1004) Dual inf 1.4858256e+08 (10524)\n",
      "Clp0006I 29547  Obj 35.821258 Primal inf 1878.3817 (825) Dual inf 19242339 (9553)\n",
      "Clp0006I 30416  Obj 35.129629 Primal inf 1539.3789 (847) Dual inf 25423379 (21280)\n",
      "Clp0006I 31285  Obj 35.154945 Primal inf 1231.0034 (532) Dual inf 9951696.5 (9819)\n",
      "Clp0006I 32154  Obj 35.76672 Primal inf 989.3538 (368) Dual inf 5634809.5 (20389)\n",
      "Clp0006I 33023  Obj 36.630371 Primal inf 748.65901 (243) Dual inf 11876023 (20726)\n",
      "Clp0006I 33892  Obj 37.230541 Primal inf 502.9254 (130) Dual inf 17396509 (5896)\n",
      "Clp0006I 34761  Obj 37.762356 Primal inf 323.56013 (153) Dual inf 36427880 (8463)\n",
      "Clp0006I 35630  Obj 38.622307 Primal inf 142.09309 (122) Dual inf 15011519 (9397)\n",
      "Clp0006I 36499  Obj 37.838669 Primal inf 82.784786 (27) Dual inf 33644923 (19180)\n",
      "Clp0006I 37368  Obj 37.795497 Primal inf 38.099018 (21) Dual inf 10750099 (9157)\n",
      "Clp0006I 38237  Obj 37.527054 Primal inf 9.1392273 (16) Dual inf 5743920.6 (9157)\n",
      "Clp0006I 38964  Obj 36.658027 Primal inf 1.8777852 (6) Dual inf 21636.175 (5131)\n",
      "Clp0006I 39398  Obj 36.471184 Primal inf 1.3768399 (3) Dual inf 36224.065 (7828)\n",
      "Clp0006I 40007  Obj 35.944268 Primal inf 0.78659611 (3) Dual inf 48425.622 (8169)\n",
      "Clp0006I 40455  Obj 35.694447 Primal inf 0.50163764 (1) Dual inf 53991.3 (9731)\n",
      "Clp0006I 41207  Obj 35.269247 Primal inf 0.13069505 (1) Dual inf 32705.951 (8972)\n",
      "Clp0006I 41712  Obj 31.770864 Dual inf 532.49522 (8179)\n",
      "Clp0006I 42480  Obj 26.81889 Dual inf 51.753838 (7191)\n",
      "Clp0006I 42924  Obj 25.77816 Dual inf 1141.013 (7277)\n",
      "Clp0006I 43588  Obj 25.05152 Dual inf 71.404133 (7128)\n",
      "Clp0006I 44140  Obj 24.688975 Dual inf 128.52318 (6661)\n",
      "Clp0006I 44700  Obj 24.359681 Dual inf 80.609879 (6679)\n",
      "Clp0006I 45280  Obj 24.162561 Dual inf 100.61618 (7288)\n",
      "Clp0006I 45676  Obj 24.032599 Dual inf 5535.6329 (6763)\n",
      "Clp0006I 46407  Obj 23.758964 Dual inf 710.48823 (5724)\n",
      "Clp0006I 46950  Obj 23.636258 Dual inf 64.743301 (14596)\n",
      "Clp0006I 47478  Obj 23.525581 Dual inf 33.47485 (4155)\n",
      "Clp0006I 48163  Obj 23.385798 Dual inf 44.528811 (3606)\n",
      "Clp0006I 48858  Obj 23.232033 Dual inf 57.192262 (2976)\n",
      "Clp0006I 49511  Obj 23.104853 Dual inf 44.953091 (6274)\n",
      "Clp0006I 50129  Obj 22.965578 Dual inf 45.807273 (3720)\n",
      "Clp0006I 50879  Obj 22.777115 Dual inf 31.641223 (6305)\n",
      "Clp0006I 51609  Obj 22.626691 Dual inf 55.416084 (5901)\n",
      "Clp0006I 51807  Obj 22.583467 Dual inf 326.8434 (6785)\n",
      "Clp0006I 52179  Obj 22.513773 Dual inf 132.51923 (7798)\n",
      "Clp0006I 52944  Obj 22.399813 Dual inf 84.42208 (5632)\n",
      "Clp0006I 53646  Obj 22.264605 Dual inf 68.545073 (6965)\n",
      "Clp0006I 53979  Obj 22.20026 Dual inf 249.98179 (5413)\n",
      "Clp0006I 54535  Obj 22.095146 Dual inf 43.690347 (15417)\n",
      "Clp0006I 55211  Obj 21.98049 Dual inf 44.539082 (6302)\n",
      "Clp0006I 55768  Obj 21.899123 Dual inf 98.048518 (5288)\n",
      "Clp0006I 56344  Obj 21.824349 Dual inf 26.297058 (6414)\n",
      "Clp0006I 57001  Obj 21.739648 Dual inf 429.51152 (6911)\n",
      "Clp0006I 57552  Obj 21.678999 Dual inf 23.667024 (6358)\n",
      "Clp0006I 58136  Obj 21.609684 Dual inf 19.202139 (6375)\n",
      "Clp0006I 58756  Obj 21.536382 Dual inf 31.148026 (5493)\n",
      "Clp0006I 59408  Obj 21.476769 Dual inf 28.236687 (5582)\n",
      "Clp0006I 60060  Obj 21.406956 Dual inf 15.76722 (4882)\n",
      "Clp0006I 60743  Obj 21.339369 Dual inf 39.968139 (8129)\n",
      "Clp0006I 61267  Obj 21.281908 Dual inf 23.562584 (5756)\n",
      "Clp0006I 61964  Obj 21.190242 Dual inf 21.998465 (7450)\n",
      "Clp0006I 62236  Obj 21.158249 Dual inf 53.638247 (6018)\n",
      "Clp0006I 62879  Obj 21.103815 Dual inf 33.209979 (6510)\n",
      "Clp0006I 63408  Obj 21.062135 Dual inf 34.202283 (4809)\n",
      "Clp0006I 64083  Obj 21.003237 Dual inf 35.59419 (5615)\n",
      "Clp0006I 64667  Obj 20.991072 Dual inf 27.651487 (3934)\n",
      "Clp0006I 65244  Obj 20.967142 Dual inf 7.331913 (5535)\n",
      "Clp0006I 65913  Obj 20.915607 Dual inf 96.085003 (22377)\n",
      "Clp0006I 66640  Obj 20.876293 Dual inf 8.4233306 (5080)\n",
      "Clp0006I 66787  Obj 20.863083 Dual inf 12.011984 (6397)\n",
      "Clp0006I 66840  Obj 20.863079 Dual inf 12.293484 (6397)\n",
      "Clp0006I 67239  Obj 20.835531 Dual inf 348.55884 (7294)\n",
      "Clp0006I 68026  Obj 20.813284 Dual inf 9.4290573 (6599)\n",
      "Clp0006I 68895  Obj 20.799076 Dual inf 7.6013483 (6503)\n",
      "Clp0006I 69516  Obj 20.770943 Dual inf 6.2915345 (6004)\n",
      "Clp0006I 70385  Obj 20.748721 Dual inf 1.9906139 (4713)\n",
      "Clp0006I 71181  Obj 20.732734 Dual inf 38.737609 (5132)\n",
      "Clp0006I 71716  Obj 20.715036 Dual inf 14.464082 (5575)\n",
      "Clp0006I 72585  Obj 20.700977 Dual inf 10.256903 (6943)\n",
      "Clp0006I 73008  Obj 20.695054 Dual inf 8.3540804 (6478)\n",
      "Clp0006I 73877  Obj 20.68259 Dual inf 3.415173 (4625)\n",
      "Clp0006I 74503  Obj 20.674843 Dual inf 23.238943 (7248)\n",
      "Clp0006I 75157  Obj 20.663654 Dual inf 5.8110091 (6661)\n",
      "Clp0006I 75720  Obj 20.647876 Dual inf 31.160277 (6667)\n",
      "Clp0006I 76377  Obj 20.638073 Dual inf 7.369836 (5558)\n",
      "Clp0006I 77056  Obj 20.621382 Dual inf 12.920274 (3999)\n",
      "Clp0006I 77496  Obj 20.611622 Dual inf 16.923791 (5036)\n",
      "Clp0006I 77725  Obj 20.605917 Dual inf 159.61443 (7179)\n",
      "Clp0006I 78241  Obj 20.597239 Dual inf 5.8602726 (5988)\n",
      "Clp0006I 78962  Obj 20.582895 Dual inf 6.2458384 (4844)\n",
      "Clp0006I 79672  Obj 20.565024 Dual inf 73.95918 (6012)\n",
      "Clp0006I 80072  Obj 20.550859 Dual inf 107.23719 (6396)\n",
      "Clp0006I 80791  Obj 20.533926 Dual inf 8.4982441 (2842)\n",
      "Clp0006I 81221  Obj 20.526749 Dual inf 20.035823 (19986)\n",
      "Clp0006I 81790  Obj 20.51248 Dual inf 4.5595042 (2342)\n",
      "Clp0006I 82471  Obj 20.493765 Dual inf 11.157158 (7945)\n",
      "Clp0006I 83124  Obj 20.477029 Dual inf 15.21834 (3706)\n",
      "Clp0006I 83737  Obj 20.464124 Dual inf 8.0737622 (4201)\n",
      "Clp0006I 84364  Obj 20.449202 Dual inf 62.053975 (4690)\n",
      "Clp0006I 84702  Obj 20.438779 Dual inf 41.198591 (2904)\n",
      "Clp0006I 85186  Obj 20.419342 Dual inf 15.642023 (6487)\n",
      "Clp0006I 85557  Obj 20.398704 Dual inf 12.699463 (8311)\n",
      "Clp0006I 86038  Obj 20.379216 Dual inf 9.145245 (2923)\n",
      "Clp0006I 86364  Obj 20.367128 Dual inf 171.26289 (6443)\n",
      "Clp0006I 86962  Obj 20.338995 Dual inf 36.515318 (2222)\n",
      "Clp0006I 87540  Obj 20.316816 Dual inf 13.182411 (2947)\n",
      "Clp0006I 87952  Obj 20.302105 Dual inf 19.6715 (12654)\n",
      "Clp0006I 88057  Obj 20.298516 Dual inf 531.03624 (2290)\n",
      "Clp0006I 88496  Obj 20.286328 Dual inf 121.9892 (3830)\n",
      "Clp0006I 89144  Obj 20.268837 Dual inf 4.1947967 (1519)\n",
      "Clp0006I 89690  Obj 20.250559 Dual inf 3.6172089 (3303)\n",
      "Clp0006I 90241  Obj 20.233232 Dual inf 13.225265 (2382)\n",
      "Clp0006I 90738  Obj 20.20825 Dual inf 10.394668 (1865)\n",
      "Clp0006I 91420  Obj 20.179021 Dual inf 100.44017 (2925)\n",
      "Clp0006I 91784  Obj 20.161206 Dual inf 76.7181 (2095)\n",
      "Clp0006I 92266  Obj 20.141477 Dual inf 50.239969 (3769)\n",
      "Clp0006I 92968  Obj 20.114074 Dual inf 17.679804 (2020)\n",
      "Clp0006I 93632  Obj 20.09452 Dual inf 17.790133 (1710)\n",
      "Clp0006I 93892  Obj 20.084232 Dual inf 17.670468 (1872)\n",
      "Clp0006I 94365  Obj 20.062173 Dual inf 5.9914814 (2227)\n",
      "Clp0006I 94765  Obj 20.04562 Dual inf 4.8724981 (1848)\n",
      "Clp0006I 95220  Obj 20.029824 Dual inf 70.539747 (2180)\n",
      "Clp0006I 95956  Obj 20.00384 Dual inf 5.4502953 (1520)\n",
      "Clp0006I 96407  Obj 19.989016 Dual inf 23.381795 (1726)\n",
      "Clp0006I 96973  Obj 19.971507 Dual inf 3.2632093 (1637)\n",
      "Clp0006I 97690  Obj 19.947552 Dual inf 8.9210035 (2408)\n",
      "Clp0006I 98156  Obj 19.933721 Dual inf 9.4692219 (1610)\n",
      "Clp0006I 98696  Obj 19.919062 Dual inf 6.6029314 (2079)\n",
      "Clp0006I 99248  Obj 19.903278 Dual inf 3.6712749 (1506)\n",
      "Clp0006I 99970  Obj 19.887237 Dual inf 4.5240065 (2666)\n",
      "Clp0006I 100374  Obj 19.876031 Dual inf 29.243748 (1022)\n",
      "Clp0006I 100974  Obj 19.861234 Dual inf 2.7206418 (971)\n",
      "Clp0006I 101512  Obj 19.848828 Dual inf 10.50579 (1030)\n",
      "Clp0006I 102269  Obj 19.831195 Dual inf 1.9194281 (2177)\n",
      "Clp0006I 102912  Obj 19.818157 Dual inf 1.5499673 (2344)\n",
      "Clp0006I 103453  Obj 19.811491 Dual inf 1.0408294 (1934)\n",
      "Clp0006I 103997  Obj 19.80763 Dual inf 2.1816962 (4027)\n",
      "Clp0006I 104583  Obj 19.80082 Dual inf 0.4173555 (1642)\n",
      "Clp0006I 105089  Obj 19.794569 Dual inf 7.7082852 (5054)\n",
      "Clp0006I 105679  Obj 19.790055 Dual inf 1.0318286 (2273)\n",
      "Clp0006I 106149  Obj 19.785928 Dual inf 22.19924 (2126)\n",
      "Clp0006I 106780  Obj 19.781779 Dual inf 20.960011 (1636)\n",
      "Clp0006I 107378  Obj 19.778008 Dual inf 3.7382548 (3074)\n",
      "Clp0006I 107779  Obj 19.775548 Dual inf 1.7154966 (3032)\n",
      "Clp0006I 108410  Obj 19.772132 Dual inf 0.0739906 (1794)\n",
      "Clp0006I 109273  Obj 19.767808 Dual inf 0.094605445 (1331)\n",
      "Clp0006I 109809  Obj 19.763617 Dual inf 0.047305902 (782)\n",
      "Clp0006I 110434  Obj 19.761998\n",
      "Clp0000I Optimal - objective value 19.761998\n",
      "Coin0511I After Postsolve, objective 19.761998, infeasibilities - dual 2e-06 (1), primal 0.00084990619 (101)\n",
      "Coin0512I Presolved model was optimal, full model needs cleaning up\n",
      "Clp0006I 0  Obj 19.761998 Primal inf 1.4996152e-05 (60) Dual inf 4.8395204e+11 (72)\n",
      "Clp0029I End of values pass after 48 iterations\n",
      "Clp0006I 48  Obj 19.761998 Dual inf 0.0044296298 (2)\n",
      "Clp0006I 58  Obj 19.761981\n",
      "Clp0000I Optimal - objective value 19.761981\n",
      "Clp0032I Optimal objective 19.76198071 - 110492 iterations time 411.392, Presolve 3.87\n"
     ]
    }
   ],
   "source": [
    "optimize!(RES_FR);"
   ]
  },
  {
   "cell_type": "code",
   "execution_count": 88,
   "metadata": {},
   "outputs": [
    {
     "data": {
      "text/plain": [
       "OPTIMAL::TerminationStatusCode = 1"
      ]
     },
     "execution_count": 88,
     "metadata": {},
     "output_type": "execute_result"
    }
   ],
   "source": [
    "termination_status(RES_FR)"
   ]
  },
  {
   "cell_type": "code",
   "execution_count": 89,
   "metadata": {},
   "outputs": [
    {
     "data": {
      "text/plain": [
       "19.76198071262182"
      ]
     },
     "execution_count": 89,
     "metadata": {},
     "output_type": "execute_result"
    }
   ],
   "source": [
    "value(COST)"
   ]
  },
  {
   "cell_type": "markdown",
   "metadata": {},
   "source": [
    "remark: the total cost should be 21.83"
   ]
  },
  {
   "cell_type": "markdown",
   "metadata": {},
   "source": [
    "Installed capacities:"
   ]
  },
  {
   "cell_type": "code",
   "execution_count": 95,
   "metadata": {},
   "outputs": [
    {
     "data": {
      "text/plain": [
       "10×2 Array{Any,2}:\n",
       " :offshore       8.4531\n",
       " :onshore       76.0295\n",
       " :pv           111.716\n",
       " :river          7.5\n",
       " :lake          12.855\n",
       " :biogas        31.1178\n",
       " :gas           31.1178\n",
       " :phs            9.3\n",
       " :battery       18.9574\n",
       " :methanation   31.1178"
      ]
     },
     "execution_count": 95,
     "metadata": {},
     "output_type": "execute_result"
    }
   ],
   "source": [
    "CAPA_res = value.(CAPA)\n",
    "[tec CAPA_res] # GW"
   ]
  },
  {
   "cell_type": "code",
   "execution_count": 91,
   "metadata": {},
   "outputs": [],
   "source": [
    "spot_price = 1000000*dual.(adequacy);"
   ]
  },
  {
   "cell_type": "code",
   "execution_count": 92,
   "metadata": {},
   "outputs": [],
   "source": [
    "marginal_cost = sum(spot_price)/8760;"
   ]
  },
  {
   "cell_type": "code",
   "execution_count": 93,
   "metadata": {},
   "outputs": [
    {
     "data": {
      "text/plain": [
       "55.584343889472045"
      ]
     },
     "execution_count": 93,
     "metadata": {},
     "output_type": "execute_result"
    }
   ],
   "source": [
    "marginal_cost # €/MWh"
   ]
  },
  {
   "cell_type": "markdown",
   "metadata": {},
   "source": [
    "For comparison, this is the `2006.txt` file output (with minor edits) from the GAMS model run:\n",
    "\n",
    "```\n",
    "I)Overall investment cost is       21.83b€\n",
    "\n",
    "II)the Renewable capacity\n",
    "\n",
    "Offshore                       12.90 GW\n",
    "onsore                         79.39 GW\n",
    "PV                            121.77 GW\n",
    "run of river                    7.50 GW\n",
    "lake                           12.86 GW\n",
    "biogas                         33.11 GW\n",
    "gas                            33.11 GW\n",
    "Battery                        20.06 GW\n",
    "PHS                             9.30 GW\n",
    "methanation                    33.11 GW\n",
    "\n",
    "III)Needed storage volume and storage charging power\n",
    "\n",
    "Battery Storage                73.73 GWh\n",
    "PHS Storage                   180.00 GWh\n",
    "methane storage             12576.24 GWh\n",
    "Battery Storage                20.06 GW\n",
    "PHS Storage                     9.30 GW\n",
    "methane storage                 7.66 GW\n",
    "\n",
    "IV)Secondary reserve requirements\n",
    "\n",
    "lake                            8.09GW\n",
    "gas                             8.18GW\n",
    "Pumped Storage                  8.15GW\n",
    "Battery                         8.16GW\n",
    "\n",
    "V)Overall yearly energy generation of each technology\n",
    "\n",
    "Offshore                       59.37 TWh\n",
    "onsore                        225.83 TWh\n",
    "PV                            173.16 TWh\n",
    "run of river                   29.19 TWh\n",
    "lake                           15.82TWh\n",
    "biogas                         15.00 TWh\n",
    "gas                            25.05  TWh\n",
    "battery                        13.34 TWh\n",
    "phs                            20.93  TWh\n",
    "Methanation                    10.05TWh\n",
    "\n",
    "VI)more details\n",
    "\n",
    "LCOE for Offshore                      41.58 €/MWh\n",
    "LCOE for Onshore                       39.45 €/MWh\n",
    "LCOE for PV                            27.59 €/MWh\n",
    "LCOE for Run-of-river                  40.80 €/MWh\n",
    "LCOE for Lake                          98.84 €/MWh\n",
    "LCOE for Biogas                        82.00 €/MWh\n",
    "LCOE for Gas                           66.43 €/MWh\n",
    "LCOS for battery                       84.10 €/MWh\n",
    "LCOS for pumped storage                16.43 €/MWh\n",
    "LCOS for methanation                  109.34 €/MWh\n",
    "\n",
    "Load Curtailment       12.03% and the storage loss         6.49%\n",
    "LCOE of the system is        42.12 €/MWh or        51.69 €/MWh\n",
    "Average spot price of the system is        56.48 €/MWh\n",
    "\n",
    "capacity factors\n",
    "\n",
    "Offshore                         0.53\n",
    "onsore                           0.32\n",
    "PV                               0.16\n",
    "run of river                     0.44\n",
    "lake                             0.14\n",
    "biogas                           0.05\n",
    "gas                              0.09\n",
    "```"
   ]
  }
 ],
 "metadata": {
  "@webio": {
   "lastCommId": null,
   "lastKernelId": null
  },
  "kernelspec": {
   "display_name": "Julia 1.4.2",
   "language": "julia",
   "name": "julia-1.4"
  },
  "language_info": {
   "file_extension": ".jl",
   "mimetype": "application/julia",
   "name": "julia",
   "version": "1.4.2"
  },
  "toc": {
   "base_numbering": 1,
   "nav_menu": {},
   "number_sections": true,
   "sideBar": true,
   "skip_h1_title": true,
   "title_cell": "Table of Contents",
   "title_sidebar": "Contents",
   "toc_cell": false,
   "toc_position": {
    "height": "calc(100% - 180px)",
    "left": "10px",
    "top": "150px",
    "width": "201.133px"
   },
   "toc_section_display": true,
   "toc_window_display": true
  }
 },
 "nbformat": 4,
 "nbformat_minor": 4
}
