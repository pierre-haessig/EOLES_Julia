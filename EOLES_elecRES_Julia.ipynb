{
 "cells": [
  {
   "cell_type": "markdown",
   "metadata": {},
   "source": [
    "# EOLES_elecRES in Julia\n",
    "\n",
    "This notebook is a translation to [Julia](https://julialang.org/) (with the [JuMP](https://jump.dev/) package)\n",
    "of the 100% renewable electricity optimization model [EOLES_elecRES](https://github.com/BehrangShirizadeh/EOLES_elecRES) which is written in [GAMS](https://www.gams.com/latest/docs/UG_MAIN.html).\n",
    "\n",
    "More precisely this is the port of the [EOLES_elecRES.gms](https://github.com/BehrangShirizadeh/EOLES_elecRES/blob/master/model/EOLES_elecRES.gms) model. The translation is kept as close as possible to the original GAMS code, with many reproduction of GAMS code extracts.\n",
    "It is meant to be fully compatible, e.g. by running on the exact same input files (in `input` folder).\n",
    "\n",
    "License: see [LICENSE.txt](LICENSE.txt)"
   ]
  },
  {
   "cell_type": "code",
   "execution_count": 1,
   "metadata": {},
   "outputs": [],
   "source": [
    "using CSV, DataFrames, PyPlot\n",
    "using JuMP\n",
    "# using Clp\n",
    "using HiGHS"
   ]
  },
  {
   "cell_type": "code",
   "execution_count": 2,
   "metadata": {},
   "outputs": [],
   "source": [
    "const DAArray = JuMP.Containers.DenseAxisArray;"
   ]
  },
  {
   "cell_type": "markdown",
   "metadata": {},
   "source": [
    "## Model data"
   ]
  },
  {
   "cell_type": "markdown",
   "metadata": {},
   "source": [
    "### Sets"
   ]
  },
  {
   "cell_type": "markdown",
   "metadata": {},
   "source": [
    "#### hours and months\n",
    "\n",
    "See GAMS User guide, [§Set Definition/Sequences as Set Elements](https://www.gams.com/latest/docs/UG_SetDefinition.html#UG_SetDefinition_SequencesAsSetElements) for the definition of `*`"
   ]
  },
  {
   "cell_type": "markdown",
   "metadata": {},
   "source": [
    "sets `h /0*8759/`\n",
    "\n",
    "         first(h)        'first hour'\n",
    "         last(h)         'last hour'\n",
    "         \n",
    "         first(h) = ord(h)=1;\n",
    "last(h) = ord(h)=card(h);\n",
    "\n",
    "alias(h,hh);"
   ]
  },
  {
   "cell_type": "code",
   "execution_count": 3,
   "metadata": {},
   "outputs": [
    {
     "data": {
      "text/plain": [
       "0:8759"
      ]
     },
     "execution_count": 3,
     "metadata": {},
     "output_type": "execute_result"
    }
   ],
   "source": [
    "h = 0:8759"
   ]
  },
  {
   "cell_type": "code",
   "execution_count": 4,
   "metadata": {},
   "outputs": [],
   "source": [
    "first_h = h .== h[1] # BitArray, with first element true\n",
    "last_h = h .== h[end]; # BitArray, with last element true"
   ]
  },
  {
   "cell_type": "code",
   "execution_count": 5,
   "metadata": {},
   "outputs": [
    {
     "data": {
      "text/plain": [
       "12-element Vector{Symbol}:\n",
       " :jan\n",
       " :feb\n",
       " :mar\n",
       " :apr\n",
       " :may\n",
       " :jun\n",
       " :jul\n",
       " :aug\n",
       " :sep\n",
       " :oct\n",
       " :nov\n",
       " :dec"
      ]
     },
     "execution_count": 5,
     "metadata": {},
     "output_type": "execute_result"
    }
   ],
   "source": [
    "m = [:jan, :feb, :mar, :apr, :may, :jun, :jul, :aug, :sep, :oct, :nov, :dec]"
   ]
  },
  {
   "cell_type": "markdown",
   "metadata": {},
   "source": [
    "#### technology sets"
   ]
  },
  {
   "cell_type": "markdown",
   "metadata": {},
   "source": [
    "All technologies"
   ]
  },
  {
   "cell_type": "code",
   "execution_count": 6,
   "metadata": {},
   "outputs": [
    {
     "data": {
      "text/plain": [
       "10-element Vector{Symbol}:\n",
       " :offshore\n",
       " :onshore\n",
       " :pv\n",
       " :river\n",
       " :lake\n",
       " :biogas\n",
       " :gas\n",
       " :phs\n",
       " :battery\n",
       " :methanation"
      ]
     },
     "execution_count": 6,
     "metadata": {},
     "output_type": "execute_result"
    }
   ],
   "source": [
    "tec = [:offshore, :onshore, :pv, :river, :lake, :biogas, :gas, :phs, :battery, :methanation] "
   ]
  },
  {
   "cell_type": "markdown",
   "metadata": {},
   "source": [
    "Subsets of `tec`"
   ]
  },
  {
   "cell_type": "code",
   "execution_count": 7,
   "metadata": {},
   "outputs": [],
   "source": [
    "# power plants\n",
    "gen = [:offshore, :onshore, :pv, :river, :lake, :biogas, :gas]\n",
    "# variable tecs\n",
    "vre = [:offshore, :onshore, :pv]\n",
    "# non-combustible generation\n",
    "ncomb = [:offshore, :onshore, :pv, :river, :lake, :phs, :battery]\n",
    "# combustible generation techs\n",
    "# Remark: in equations, its defined that 'gas' generation \n",
    "# is the sum of the generations from 'comb' elements\n",
    "comb = [:biogas, :methanation]\n",
    "# storage technologies\n",
    "str = [:phs, :battery, :methanation]\n",
    "# technologies for upward FRR\n",
    "frr = [:lake, :phs, :battery, :gas];"
   ]
  },
  {
   "cell_type": "markdown",
   "metadata": {},
   "source": [
    "Check that subsets are indeed subsets (i.e. performing the automatic [domain checking](https://www.gams.com/latest/docs/UG_SetDefinition.html#UG_SetDefinition_DomainChecking) of GAMS)"
   ]
  },
  {
   "cell_type": "code",
   "execution_count": 8,
   "metadata": {},
   "outputs": [],
   "source": [
    "for tec_subset in [gen, vre, ncomb, comb, str, frr]\n",
    "    @assert issubset(tec_subset, tec) \"should be a subset of tec!\"\n",
    "end"
   ]
  },
  {
   "cell_type": "markdown",
   "metadata": {},
   "source": [
    "### Parameters"
   ]
  },
  {
   "cell_type": "markdown",
   "metadata": {},
   "source": [
    "Original GAMS definition for months:\n",
    "```\n",
    "parameter month(h)  /0*743 1, 744*1439 2, 1440*2183 3, 2184*2903 4\n",
    "                    2904*3647 5, 3648*4367 6, 4368*5111 7, 5112*5855 8\n",
    "                    5856*6575 9, 6576*7319 10, 7320*8039 11, 8040*8759 12/\n",
    "```"
   ]
  },
  {
   "cell_type": "markdown",
   "metadata": {},
   "source": [
    "observe that February has 29 days, which is compensated by December having only 30:"
   ]
  },
  {
   "cell_type": "code",
   "execution_count": 9,
   "metadata": {},
   "outputs": [
    {
     "data": {
      "text/plain": [
       "(29.0, 30.0)"
      ]
     },
     "execution_count": 9,
     "metadata": {},
     "output_type": "execute_result"
    }
   ],
   "source": [
    "(1439 - 744 +1)/24, (8759 - 8040 +1)/24"
   ]
  },
  {
   "cell_type": "code",
   "execution_count": 10,
   "metadata": {},
   "outputs": [
    {
     "data": {
      "image/png": "[encoded data removed]",
      "text/plain": [
       "Figure(PyObject <Figure size 600x250 with 1 Axes>)"
      ]
     },
     "metadata": {},
     "output_type": "display_data"
    }
   ],
   "source": [
    "month = [\n",
    "     repeat([1], 31*24);  repeat([2], 29*24);  repeat([3], 31*24);  repeat([4], 30*24);\n",
    "     repeat([5], 31*24);  repeat([6], 30*24);  repeat([7], 31*24);  repeat([8], 31*24);\n",
    "     repeat([9], 30*24); repeat([10], 31*24); repeat([11], 30*24); repeat([12], 30*24)\n",
    "]\n",
    "\n",
    "figure(figsize=(6,2.5))\n",
    "plot(h, month);"
   ]
  },
  {
   "cell_type": "markdown",
   "metadata": {},
   "source": [
    "Convert `month` values from Integers to corresponding Symbols"
   ]
  },
  {
   "cell_type": "code",
   "execution_count": 11,
   "metadata": {},
   "outputs": [],
   "source": [
    "month_sym = [m[mk] for mk in month];"
   ]
  },
  {
   "cell_type": "markdown",
   "metadata": {},
   "source": [
    "Helper to read CSV files"
   ]
  },
  {
   "cell_type": "code",
   "execution_count": 12,
   "metadata": {},
   "outputs": [
    {
     "data": {
      "text/plain": [
       "readdelim"
      ]
     },
     "execution_count": 12,
     "metadata": {},
     "output_type": "execute_result"
    }
   ],
   "source": [
    "\"\"\"\n",
    "    readdelim(source, dims...; default_value=0.)\n",
    "\n",
    "Read the CSV file `source` formatted as for the GAMS' `\\$onDelim`/`\\$offDelim` instructions\n",
    "(i.e. a long, database-like format).\n",
    "The vectors of each dimension of the output are specified with `dims`.\n",
    "\n",
    "Remark: Strings are lowercased and converted to Symbols\n",
    "\"\"\"\n",
    "function readdelim(source, dims...; default_value=0.)\n",
    "    print(\"reading $source...\")\n",
    "    # create reverse maps from value  to index for each dim vector\n",
    "    ndim = length(dims)\n",
    "    dim_maps = []\n",
    "    for dim in dims\n",
    "        dim_map = Dict((v,i) for (i,v) in enumerate(dim))\n",
    "        push!(dim_maps, dim_map)\n",
    "    end\n",
    "    \n",
    "    # load datafile\n",
    "    df = DataFrame(CSV.File(source, header=false))\n",
    "    ncol = size(df,2)\n",
    "    @assert ncol == (ndim+1) \"$(ndim+1) columns exected in $source, got $(ncol)\"\n",
    "    \n",
    "    # Create array and fill with data\n",
    "    a = zeros((length(dim) for dim in dims)...)\n",
    "    fill!(a, default_value)\n",
    "    \n",
    "    to_symb(a) = if (typeof(a) <: AbstractString) Symbol(lowercase(a)) else a end\n",
    "    \n",
    "    for row in eachrow(df)\n",
    "        if ndim == 1\n",
    "            i = dim_maps[1][to_symb(row[1])]\n",
    "            a[i] = row[2]\n",
    "        elseif ndim == 2\n",
    "            i = dim_maps[1][to_symb(row[1])]\n",
    "            j = dim_maps[2][to_symb(row[2])]\n",
    "            a[i,j] = row[3]\n",
    "        else\n",
    "            throw(ArgumentError(\"only 2 dims supported, got $(ndim)!\"))\n",
    "        end\n",
    "    end\n",
    "    # Convert to JuMP.Containers.DenseAxisArray for easier indexing\n",
    "    return JuMP.Containers.DenseAxisArray(a, dims...)\n",
    "end"
   ]
  },
  {
   "cell_type": "markdown",
   "metadata": {},
   "source": [
    "parameter `load_factor(vre,h)` 'Production profiles of VRE'\n",
    "\n",
    "from file `inputs/vre_profiles2006.csv`"
   ]
  },
  {
   "cell_type": "code",
   "execution_count": 13,
   "metadata": {},
   "outputs": [
    {
     "name": "stdout",
     "output_type": "stream",
     "text": [
      "reading inputs/vre_profiles2006.csv..."
     ]
    },
    {
     "data": {
      "text/plain": [
       "2-dimensional DenseAxisArray{Float64,2,...} with index sets:\n",
       "    Dimension 1, [:offshore, :onshore, :pv]\n",
       "    Dimension 2, 0:8759\n",
       "And data, a 3×8760 Matrix{Float64}:\n",
       " 0.865143  0.88     0.88      0.873429  …  0.990286  0.991     0.988143\n",
       " 0.511702  0.52791  0.537973  0.541571     0.826158  0.825222  0.818481\n",
       " 0.0       0.0      0.0       0.0          0.0       0.0       0.0"
      ]
     },
     "execution_count": 13,
     "metadata": {},
     "output_type": "execute_result"
    }
   ],
   "source": [
    "load_factor = readdelim(\"inputs/vre_profiles2006.csv\", vre, h; default_value=0.)"
   ]
  },
  {
   "cell_type": "code",
   "execution_count": 14,
   "metadata": {},
   "outputs": [
    {
     "data": {
      "image/png": "[encoded data removed]",
      "text/plain": [
       "Figure(PyObject <Figure size 900x300 with 4 Axes>)"
      ]
     },
     "metadata": {},
     "output_type": "display_data"
    }
   ],
   "source": [
    "z = 1:24*14 # zoom\n",
    "fig, ax = subplots(2,2, figsize=(9, 3), sharey=true)\n",
    "\n",
    "# Wind\n",
    "ax[1,1].plot(h, load_factor[:offshore,:].data, label=vre[1])\n",
    "ax[1,1].plot(h, load_factor[:onshore,:].data, \"C2\", label=vre[2])\n",
    "ax[1,2].plot(h[z], load_factor[:offshore,:].data[z], label=vre[1])\n",
    "ax[1,2].plot(h[z], load_factor[:onshore,:].data[z], \"C2\", label=vre[2])\n",
    "ax[1,2].legend(ncol=2)\n",
    "\n",
    "# PV\n",
    "ax[2,1].plot(h, load_factor[:pv,:].data, \"C1\", label=vre[3])\n",
    "ax[2,2].plot(h[z], load_factor[:pv,:].data[z], \"C1\", label=vre[3])\n",
    "ax[2,2].legend()\n",
    "\n",
    "fig.suptitle(\"VRE capacity factors\")\n",
    "fig.tight_layout();"
   ]
  },
  {
   "cell_type": "markdown",
   "metadata": {},
   "source": [
    "Parameter `demand(h)` 'demand profile in each hour in GW'\n",
    "\n",
    "from file `inputs/demand2050_ademe.csv`"
   ]
  },
  {
   "cell_type": "code",
   "execution_count": 15,
   "metadata": {},
   "outputs": [
    {
     "name": "stdout",
     "output_type": "stream",
     "text": [
      "reading inputs/demand2050_ademe.csv..."
     ]
    }
   ],
   "source": [
    "demand = readdelim(\"inputs/demand2050_ademe.csv\", h);"
   ]
  },
  {
   "cell_type": "code",
   "execution_count": 16,
   "metadata": {},
   "outputs": [
    {
     "data": {
      "image/png": "[encoded data removed]",
      "text/plain": [
       "Figure(PyObject <Figure size 1000x300 with 1 Axes>)"
      ]
     },
     "metadata": {},
     "output_type": "display_data"
    }
   ],
   "source": [
    "figure(figsize=(10, 3))\n",
    "plot(h, demand.data)\n",
    "title(\"Demand (GW)\")\n",
    "tight_layout()"
   ]
  },
  {
   "cell_type": "markdown",
   "metadata": {},
   "source": [
    "Parameter `lake_inflows(m)` 'monthly lake inflows in GWh'\n",
    "\n",
    "from `inputs/lake_inflows.csv`"
   ]
  },
  {
   "cell_type": "code",
   "execution_count": 17,
   "metadata": {},
   "outputs": [
    {
     "name": "stdout",
     "output_type": "stream",
     "text": [
      "reading inputs/lake_inflows.csv..."
     ]
    },
    {
     "data": {
      "image/png": "[encoded data removed]",
      "text/plain": [
       "Figure(PyObject <Figure size 600x250 with 1 Axes>)"
      ]
     },
     "metadata": {},
     "output_type": "display_data"
    },
    {
     "data": {
      "text/plain": [
       "15.8154775"
      ]
     },
     "execution_count": 17,
     "metadata": {},
     "output_type": "execute_result"
    }
   ],
   "source": [
    "lake_inflows = readdelim(\"inputs/lake_inflows.csv\", m)\n",
    "\n",
    "figure(figsize=(6,2.5))\n",
    "step(m, lake_inflows.data, where=\"mid\")\n",
    "title(\"Lake inflows (TWh/month)\")\n",
    "tight_layout()\n",
    "sum(lake_inflows) # TWh/y"
   ]
  },
  {
   "cell_type": "markdown",
   "metadata": {},
   "source": [
    "parameter `gene_river(h)` 'hourly run of river power generation in GWh'\n",
    "\n",
    "from `inputs/run_of_river.csv`"
   ]
  },
  {
   "cell_type": "code",
   "execution_count": 18,
   "metadata": {},
   "outputs": [
    {
     "name": "stdout",
     "output_type": "stream",
     "text": [
      "reading inputs/run_of_river.csv..."
     ]
    },
    {
     "data": {
      "image/png": "[encoded data removed]",
      "text/plain": [
       "Figure(PyObject <Figure size 1000x300 with 1 Axes>)"
      ]
     },
     "metadata": {},
     "output_type": "display_data"
    }
   ],
   "source": [
    "gene_river = readdelim(\"inputs/run_of_river.csv\", h)\n",
    "\n",
    "figure(figsize=(10, 3))\n",
    "plot(h, gene_river.data)\n",
    "title(\"Run of river generation (GW)\")\n",
    "tight_layout()"
   ]
  },
  {
   "cell_type": "markdown",
   "metadata": {},
   "source": [
    "parameter `epsilon(vre)` 'additional FRR requirement for variable renewable energies because of forecast errors'\n",
    "\n",
    "from `inputs/reserve_requirements.csv`"
   ]
  },
  {
   "cell_type": "code",
   "execution_count": 19,
   "metadata": {},
   "outputs": [
    {
     "name": "stdout",
     "output_type": "stream",
     "text": [
      "reading inputs/reserve_requirements.csv..."
     ]
    },
    {
     "data": {
      "text/plain": [
       "3×2 Matrix{Any}:\n",
       " :offshore  0.027\n",
       " :onshore   0.027\n",
       " :pv        0.038"
      ]
     },
     "execution_count": 19,
     "metadata": {},
     "output_type": "execute_result"
    }
   ],
   "source": [
    "epsilon = readdelim(\"inputs/reserve_requirements.csv\", vre)\n",
    "[vre epsilon]"
   ]
  },
  {
   "cell_type": "markdown",
   "metadata": {},
   "source": [
    "parameter `capa_ex(tec)` 'existing capacities of the technologies by December 2017 in GW'\n",
    "\n",
    "from `inputs/existing_capas.csv`\n",
    "\n",
    "Remark: gas is missing from file, but default value is 0. in `readdelim`"
   ]
  },
  {
   "cell_type": "code",
   "execution_count": 20,
   "metadata": {},
   "outputs": [
    {
     "name": "stdout",
     "output_type": "stream",
     "text": [
      "reading inputs/existing_capas.csv..."
     ]
    },
    {
     "data": {
      "text/plain": [
       "10×2 Matrix{Any}:\n",
       " :offshore      0.0\n",
       " :onshore       0.0\n",
       " :pv            0.0\n",
       " :river         7.5\n",
       " :lake         12.855\n",
       " :biogas        0.0\n",
       " :gas           0.0\n",
       " :phs           4.94\n",
       " :battery       0.0\n",
       " :methanation   0.0"
      ]
     },
     "execution_count": 20,
     "metadata": {},
     "output_type": "execute_result"
    }
   ],
   "source": [
    "capa_ex = readdelim(\"inputs/existing_capas.csv\", tec)\n",
    "[tec capa_ex]"
   ]
  },
  {
   "cell_type": "markdown",
   "metadata": {},
   "source": [
    "parameter `capa_max(tec)` 'maximum capacities of the technologies in GW'\n",
    "\n",
    "from `inputs/max_capas.csv`\n",
    "\n",
    "Remarks:\n",
    "- again \"gas\" is missing from the file\n",
    "- but eventually, only the values for offshore, onshore and pv is used to contraint the `CAPA` variable.\n",
    "- \"phs\" max capa is set in `pump_capa=9.3` (coherent with file)\n",
    "- \"lake\" max capacity is set to 13 (coherent with file)\n",
    "- \"river\" capacity is *fixed* to `capa_ex('river')` (7.5, which is coherent with file)"
   ]
  },
  {
   "cell_type": "code",
   "execution_count": 21,
   "metadata": {},
   "outputs": [
    {
     "name": "stdout",
     "output_type": "stream",
     "text": [
      "reading inputs/max_capas.csv..."
     ]
    },
    {
     "data": {
      "text/plain": [
       "10×2 Matrix{Any}:\n",
       " :offshore      20.0\n",
       " :onshore      120.0\n",
       " :pv           218.0\n",
       " :river          7.5\n",
       " :lake          13.0\n",
       " :biogas       100.0\n",
       " :gas            0.0\n",
       " :phs            9.3\n",
       " :battery      100.0\n",
       " :methanation  100.0"
      ]
     },
     "execution_count": 21,
     "metadata": {},
     "output_type": "execute_result"
    }
   ],
   "source": [
    "capa_max = readdelim(\"inputs/max_capas.csv\", tec)\n",
    "[tec capa_max]"
   ]
  },
  {
   "cell_type": "markdown",
   "metadata": {},
   "source": [
    "parameter `capex(tec)` 'annualized power capex cost in M€/GW/year'\n",
    "\n",
    "from `inputs/annuities.csv`"
   ]
  },
  {
   "cell_type": "code",
   "execution_count": 22,
   "metadata": {},
   "outputs": [
    {
     "name": "stdout",
     "output_type": "stream",
     "text": [
      "reading inputs/annuities.csv..."
     ]
    }
   ],
   "source": [
    "capex = readdelim(\"inputs/annuities.csv\", tec);"
   ]
  },
  {
   "cell_type": "markdown",
   "metadata": {},
   "source": [
    "parameter `capex_en(str)` 'annualized energy capex cost of storage technologies in M€/GWh/year'\n",
    "\n",
    "from `inputs/str_annuities.csv`"
   ]
  },
  {
   "cell_type": "code",
   "execution_count": 23,
   "metadata": {},
   "outputs": [
    {
     "name": "stdout",
     "output_type": "stream",
     "text": [
      "reading inputs/str_annuities.csv..."
     ]
    },
    {
     "data": {
      "text/plain": [
       "3×2 Matrix{Any}:\n",
       " :phs           0.246938\n",
       " :battery      10.634\n",
       " :methanation   0.0"
      ]
     },
     "execution_count": 23,
     "metadata": {},
     "output_type": "execute_result"
    }
   ],
   "source": [
    "capex_en = readdelim(\"inputs/str_annuities.csv\", str)\n",
    "[str capex_en]"
   ]
  },
  {
   "cell_type": "markdown",
   "metadata": {},
   "source": [
    "parameter `fOM(tec)` 'annualized fixed operation and maintenance costs M€/GW/year'\n",
    "\n",
    "from `inputs/fO&M.csv`"
   ]
  },
  {
   "cell_type": "code",
   "execution_count": 24,
   "metadata": {},
   "outputs": [
    {
     "name": "stdout",
     "output_type": "stream",
     "text": [
      "reading inputs/fO&M.csv..."
     ]
    }
   ],
   "source": [
    "fOM = readdelim(\"inputs/fO&M.csv\", tec);"
   ]
  },
  {
   "cell_type": "markdown",
   "metadata": {},
   "source": [
    "Total fixed costs:"
   ]
  },
  {
   "cell_type": "code",
   "execution_count": 25,
   "metadata": {},
   "outputs": [
    {
     "data": {
      "text/plain": [
       "10×4 Matrix{Any}:\n",
       " :offshore     144.368   47.0318   191.4\n",
       " :onshore       77.6621  34.5477   112.21\n",
       " :pv            30.0052   9.22619   39.2314\n",
       " :river        143.909   14.85     158.759\n",
       " :lake         110.233   11.375    121.608\n",
       " :biogas         0.0      0.0        0.0\n",
       " :gas           33.7653  16.5       50.2653\n",
       " :phs           24.6938   7.5       32.1938\n",
       " :battery       14.8876   1.96      16.8476\n",
       " :methanation    0.0      0.0        0.0"
      ]
     },
     "execution_count": 25,
     "metadata": {},
     "output_type": "execute_result"
    }
   ],
   "source": [
    "fixed_costs = DAArray(capex.data + fOM.data, tec) # 'yearly fixed cost of each tec in M€/GW/year'\n",
    "[tec capex fOM fixed_costs]"
   ]
  },
  {
   "cell_type": "markdown",
   "metadata": {},
   "source": [
    "parameter `vOM(tec)` 'Variable operation and maintenance costs in M€/GWh'\n",
    "\n",
    "from `inputs/vO&M.csv`"
   ]
  },
  {
   "cell_type": "code",
   "execution_count": 26,
   "metadata": {},
   "outputs": [
    {
     "name": "stdout",
     "output_type": "stream",
     "text": [
      "reading inputs/vO&M.csv..."
     ]
    },
    {
     "data": {
      "text/plain": [
       "10×2 Matrix{Any}:\n",
       " :offshore     0.0\n",
       " :onshore      0.0\n",
       " :pv           0.0\n",
       " :river        0.0\n",
       " :lake         0.0\n",
       " :biogas       0.082\n",
       " :gas          0.0\n",
       " :phs          0.0\n",
       " :battery      0.0021\n",
       " :methanation  0.005444"
      ]
     },
     "execution_count": 26,
     "metadata": {},
     "output_type": "execute_result"
    }
   ],
   "source": [
    "vOM = readdelim(\"inputs/vO&M.csv\", tec)\n",
    "[tec vOM]"
   ]
  },
  {
   "cell_type": "markdown",
   "metadata": {},
   "source": [
    "parameter `s_capex(str)` 'charging related annuity of storage in M€/GW/year' /PHS 0, battery 0, methanation 84.16086/;\n",
    "\n",
    "*Remark: this corresponds with the fact that capex[:methanation] is 0*"
   ]
  },
  {
   "cell_type": "code",
   "execution_count": 27,
   "metadata": {},
   "outputs": [
    {
     "data": {
      "text/plain": [
       "3×2 Matrix{Any}:\n",
       " :phs           0.0\n",
       " :battery       0.0\n",
       " :methanation  84.1609"
      ]
     },
     "execution_count": 27,
     "metadata": {},
     "output_type": "execute_result"
    }
   ],
   "source": [
    "s_capex = DAArray([0., 0., 84.16086], str)\n",
    "[str s_capex]"
   ]
  },
  {
   "cell_type": "markdown",
   "metadata": {},
   "source": [
    "parameter `s_opex(str)`    'charging related fOM of storage in M€/GW/year'   /PHS 0, battery 0, methanation 59.25/;"
   ]
  },
  {
   "cell_type": "code",
   "execution_count": 28,
   "metadata": {},
   "outputs": [
    {
     "data": {
      "text/plain": [
       "3×2 Matrix{Any}:\n",
       " :phs           0.0\n",
       " :battery       0.0\n",
       " :methanation  59.25"
      ]
     },
     "execution_count": 28,
     "metadata": {},
     "output_type": "execute_result"
    }
   ],
   "source": [
    "s_opex = DAArray([0., 0., 59.25], str)\n",
    "[str s_opex]"
   ]
  },
  {
   "cell_type": "markdown",
   "metadata": {},
   "source": [
    "Charging/discharging efficiency\n",
    "\n",
    "- parameter `eta_in(str)` 'charging efficiency of storage technologies' /PHS 0.95, battery 0.9, methanation 0.59/;\n",
    "- parameter `eta_out(str)` 'discharging efficiency of storage technolgoies' /PHS 0.9, battery 0.95, methanation 0.45/;"
   ]
  },
  {
   "cell_type": "code",
   "execution_count": 29,
   "metadata": {},
   "outputs": [
    {
     "data": {
      "text/plain": [
       "3×3 Matrix{Any}:\n",
       " :phs          0.95  0.9\n",
       " :battery      0.9   0.95\n",
       " :methanation  0.59  0.45"
      ]
     },
     "execution_count": 29,
     "metadata": {},
     "output_type": "execute_result"
    }
   ],
   "source": [
    "eta_in  = DAArray([0.95, 0.90, 0.59], str)\n",
    "eta_out = DAArray([0.90, 0.95, 0.45], str)\n",
    "[str eta_in eta_out]"
   ]
  },
  {
   "cell_type": "markdown",
   "metadata": {},
   "source": [
    "Scalar parameters"
   ]
  },
  {
   "cell_type": "code",
   "execution_count": 30,
   "metadata": {},
   "outputs": [],
   "source": [
    "pump_capa = 9.3 # pumping capacity in GW\n",
    "max_phs = 0.18 # maximum volume of energy can be stored in PHS reservoir in TWh\n",
    "max_biogas = 15 # maxium energy that can be generated by biogas in TWh\n",
    "load_uncertainty = 0.01 # uncertainty coefficient for hourly demand\n",
    "delta = 0.1; # load variation factor"
   ]
  },
  {
   "cell_type": "markdown",
   "metadata": {},
   "source": [
    "## Model variables and equations"
   ]
  },
  {
   "cell_type": "markdown",
   "metadata": {},
   "source": [
    "### LP Solver choice\n",
    "\n",
    "See e.g. for solve options:\n",
    "- [Clp](https://github.com/jump-dev/Clp.jl): `PrimalTolerance`, `DualTolerance` (although I didn't see their effect), `Algorithm` (not tested)\n",
    "- [HiGHS](https://github.com/jump-dev/HiGHS.jl)"
   ]
  },
  {
   "cell_type": "code",
   "execution_count": 32,
   "metadata": {},
   "outputs": [
    {
     "data": {
      "text/plain": [
       "A JuMP Model\n",
       "Feasibility problem with:\n",
       "Variables: 0\n",
       "Model mode: AUTOMATIC\n",
       "CachingOptimizer state: EMPTY_OPTIMIZER\n",
       "Solver name: HiGHS"
      ]
     },
     "execution_count": 32,
     "metadata": {},
     "output_type": "execute_result"
    }
   ],
   "source": [
    "#RES_FR = Model(Clp.Optimizer)\n",
    "RES_FR = Model(HiGHS.Optimizer)"
   ]
  },
  {
   "cell_type": "markdown",
   "metadata": {},
   "source": [
    "### Variables\n",
    "\n",
    "See [§Variable Attributes](https://www.gams.com/latest/docs/UG_Variables.html#UG_Variables_VariableAttributes) for `.up`, `.lo`, `.fx` and `.l`\n",
    "\n",
    "See [§Styles for Variable Declaration](https://www.gams.com/latest/docs/UG_Variables.html#UG_Variables_StylesForVariableDeclaration) for the fact it's possible to redeclare the type of a variable. E.g. here to state it's positive"
   ]
  },
  {
   "cell_type": "markdown",
   "metadata": {},
   "source": [
    "```\n",
    "variables        GENE(tec,h)     'hourly energy generation in TWh' (⚠ in fact GW)\n",
    "                 CAPA(tec)       'overal yearly installed capacity in GW'\n",
    "                 STORAGE(str,h)  'hourly electricity input of battery storage GW'\n",
    "                 S(str)          'charging power capacity of each storage technology'\n",
    "                 STORED(str,h)   'energy stored in each storage technology in GWh'\n",
    "                 CAPACITY(str)   'energy volume of storage technologies in GWh'\n",
    "                 RSV(frr,h)      'required upward frequency restoration reserve in GW'\n",
    "                 COST            'final investment cost in b€'\n",
    "\n",
    "positive variables GENE(tec,h),CAPA(tec),STORAGE(str,h), S(str),STORED(str,h),CAPACITY(str),RSV(frr,h);\n",
    "```"
   ]
  },
  {
   "cell_type": "code",
   "execution_count": 33,
   "metadata": {},
   "outputs": [
    {
     "data": {
      "text/plain": [
       "2-dimensional DenseAxisArray{VariableRef,2,...} with index sets:\n",
       "    Dimension 1, [:lake, :phs, :battery, :gas]\n",
       "    Dimension 2, 0:8759\n",
       "And data, a 4×8760 Matrix{VariableRef}:\n",
       " RSV[lake,0]     RSV[lake,1]     RSV[lake,2]     …  RSV[lake,8759]\n",
       " RSV[phs,0]      RSV[phs,1]      RSV[phs,2]         RSV[phs,8759]\n",
       " RSV[battery,0]  RSV[battery,1]  RSV[battery,2]     RSV[battery,8759]\n",
       " RSV[gas,0]      RSV[gas,1]      RSV[gas,2]         RSV[gas,8759]"
      ]
     },
     "execution_count": 33,
     "metadata": {},
     "output_type": "execute_result"
    }
   ],
   "source": [
    "@variable(RES_FR, GENE[tec,h] >= 0)    # hourly energy generation in GW\n",
    "@variable(RES_FR, CAPA[tec] >= 0)      # overal yearly installed capacity in GW\n",
    "@variable(RES_FR, STORAGE[str,h] >= 0) # hourly electricity input of battery storage GW\n",
    "@variable(RES_FR, S[str] >= 0)         # charging power capacity of each storage technology. Remark S(str) is constrainted <= CAPA(str);\n",
    "@variable(RES_FR, STORED[str,h] >= 0)  # energy stored in each storage technology in GWh\n",
    "@variable(RES_FR, CAPACITY[str] >= 0)  # energy volume of storage technologies in GWh\n",
    "@variable(RES_FR, RSV[frr,h] >= 0)     # required upward frequency restoration reserve in GW"
   ]
  },
  {
   "cell_type": "code",
   "execution_count": 34,
   "metadata": {},
   "outputs": [],
   "source": [
    "@variable(RES_FR, COST);"
   ]
  },
  {
   "cell_type": "markdown",
   "metadata": {},
   "source": [
    "Initial and fixed values\n",
    "\n",
    "```\n",
    "CAPA.up('phs') = pump_capa;\n",
    "CAPA.fx('river')= capa_ex('river');\n",
    "CAPA.up('lake') = 13;\n",
    "CAPA.lo('lake') = capa_ex('lake');\n",
    "GENE.up('river',h) = gene_river(h)*capa_ex('river');\n",
    "S.up('phs') = pump_capa;\n",
    "CAPACITY.up('phs') = max_phs*1000;\n",
    "CAPA.up('offshore') = capa_max('offshore');\n",
    "CAPA.up('onshore') = capa_max('onshore');\n",
    "CAPA.up('pv') = capa_max('pv');\n",
    "```"
   ]
  },
  {
   "cell_type": "code",
   "execution_count": 35,
   "metadata": {},
   "outputs": [
    {
     "data": {
      "text/latex": [
       "$$ CAPA_{lake} \\geq 12.855 $$"
      ],
      "text/plain": [
       "CAPA[lake] ≥ 12.855"
      ]
     },
     "execution_count": 35,
     "metadata": {},
     "output_type": "execute_result"
    }
   ],
   "source": [
    "@constraint(RES_FR, CAPA[:phs] <= pump_capa)\n",
    "@constraint(RES_FR, CAPA[:river] == capa_ex[:river])\n",
    "@constraint(RES_FR, CAPA[:lake] <= 13)\n",
    "@constraint(RES_FR, CAPA[:lake] >= capa_ex[:lake])"
   ]
  },
  {
   "cell_type": "markdown",
   "metadata": {},
   "source": [
    "Warning: setting GENE[:river] *upper bound* means that rivers can be silently curtailed!\n",
    "Perhaps GENE[:river] should be _fixed_ instead (like VREs, see below)."
   ]
  },
  {
   "cell_type": "code",
   "execution_count": 36,
   "metadata": {},
   "outputs": [],
   "source": [
    "@constraint(RES_FR, GENE_river_up[hk = h], \n",
    "            GENE[:river,hk] .<= gene_river[hk]*capa_ex[:river]);"
   ]
  },
  {
   "cell_type": "code",
   "execution_count": 37,
   "metadata": {},
   "outputs": [],
   "source": [
    "@constraint(RES_FR, S[:phs] <= pump_capa)\n",
    "@constraint(RES_FR, CAPACITY[:phs] <= max_phs*1000)\n",
    "@constraint(RES_FR, CAPA[:offshore] <= capa_max[:offshore])\n",
    "@constraint(RES_FR, CAPA[:onshore] <= capa_max[:onshore])\n",
    "@constraint(RES_FR, CAPA[:pv] <= capa_max[:pv]);"
   ]
  },
  {
   "cell_type": "markdown",
   "metadata": {},
   "source": [
    "### Equations (i.e. constraints)"
   ]
  },
  {
   "cell_type": "markdown",
   "metadata": {},
   "source": [
    "`gene_vre(vre,h)` variables renewable profiles generation:"
   ]
  },
  {
   "cell_type": "code",
   "execution_count": 38,
   "metadata": {},
   "outputs": [],
   "source": [
    "@constraint(RES_FR, gene_vre[vrek=vre, hk=h],\n",
    "            GENE[vrek,hk] == CAPA[vrek]*load_factor[vrek,hk]);"
   ]
  },
  {
   "cell_type": "markdown",
   "metadata": {},
   "source": [
    "Equation `gene_capa(tec,h)` capacity and generation relation for technologies:"
   ]
  },
  {
   "cell_type": "code",
   "execution_count": 39,
   "metadata": {},
   "outputs": [],
   "source": [
    "@constraint(RES_FR, gene_capa[teck=tec, hk=h],\n",
    "            CAPA[teck] >= GENE[teck,hk]);"
   ]
  },
  {
   "cell_type": "markdown",
   "metadata": {},
   "source": [
    "`combustion(h)` the relationship of combustible technologies (i.e. 'gas' = 'biogas' + 'methanation'):"
   ]
  },
  {
   "cell_type": "code",
   "execution_count": 40,
   "metadata": {},
   "outputs": [],
   "source": [
    "@constraint(RES_FR, combustion[hk=h],\n",
    "            GENE[:gas,hk] == sum(GENE[combk,hk] for combk in comb));"
   ]
  },
  {
   "cell_type": "markdown",
   "metadata": {},
   "source": [
    "`capa_frr(frr,h)` capacity needed for the secondary reserve requirements:\n",
    "\n",
    "    CAPA(frr)               =g=     GENE(frr,h) + RSV(frr,h);"
   ]
  },
  {
   "cell_type": "code",
   "execution_count": 41,
   "metadata": {},
   "outputs": [],
   "source": [
    "@constraint(RES_FR, capa_frr[frrk=frr, hk=h],\n",
    "            CAPA[frrk] >= GENE[frrk,hk] + RSV[frrk,hk]);"
   ]
  },
  {
   "cell_type": "markdown",
   "metadata": {},
   "source": [
    "`storing(h,h+1,str)` the definition of stored energy in the storage options;\n",
    "\n",
    "    STORED(str,h+1) =e= STORED(str,h) + STORAGE(str,h)*eta_in(str) - GENE(str,h)/eta_out(str);\n",
    "\n",
    "Remark: see GAMS UG [§Lag and Lead Operators](https://www.gams.com/latest/docs/UG_OrderedSets.html#UG_OrderedSets_LagLeadOperators) for the meaning of `h+1`.\n",
    "However, it's not clear to me why the equation is declared on both `h` and `h+1`. "
   ]
  },
  {
   "cell_type": "code",
   "execution_count": 42,
   "metadata": {},
   "outputs": [],
   "source": [
    "@constraint(RES_FR, storing[strk=str, hk=h[1:end-1]],\n",
    "            STORED[strk,hk+1] == STORED[strk,hk] + \n",
    "            STORAGE[strk,hk]*eta_in[strk] - GENE[strk,hk]/eta_out[strk]);"
   ]
  },
  {
   "cell_type": "code",
   "execution_count": 43,
   "metadata": {},
   "outputs": [
    {
     "data": {
      "text/latex": [
       "storing[battery,1] : $ 1.0526315789473684 GENE_{battery,1} - 0.9 STORAGE_{battery,1} - STORED_{battery,1} + STORED_{battery,2} = 0.0 $"
      ],
      "text/plain": [
       "storing[battery,1] : 1.0526315789473684 GENE[battery,1] - 0.9 STORAGE[battery,1] - STORED[battery,1] + STORED[battery,2] = 0.0"
      ]
     },
     "execution_count": 43,
     "metadata": {},
     "output_type": "execute_result"
    }
   ],
   "source": [
    "storing[:battery,1]"
   ]
  },
  {
   "cell_type": "markdown",
   "metadata": {},
   "source": [
    "`storage_const(str,first,last)` storage in the first hour is equal to the storage in the last hour:\n",
    "\n",
    "    STORED(str,first) =e= STORED(str,last)+STORAGE(str,last)*eta_in(str)-GENE(str,last)/eta_out(str);"
   ]
  },
  {
   "cell_type": "code",
   "execution_count": 44,
   "metadata": {},
   "outputs": [],
   "source": [
    "@constraint(RES_FR, storage_const[strk=str],\n",
    "            STORED[strk,h[1]] == STORED[strk,h[end]] + \n",
    "            STORAGE[strk,h[end]]*eta_in[strk] - GENE[strk,h[end]]/eta_out[strk]);"
   ]
  },
  {
   "cell_type": "code",
   "execution_count": 45,
   "metadata": {},
   "outputs": [
    {
     "data": {
      "text/latex": [
       "storage_const[battery] : $ 1.0526315789473684 GENE_{battery,8759} - 0.9 STORAGE_{battery,8759} + STORED_{battery,0} - STORED_{battery,8759} = 0.0 $"
      ],
      "text/plain": [
       "storage_const[battery] : 1.0526315789473684 GENE[battery,8759] - 0.9 STORAGE[battery,8759] + STORED[battery,0] - STORED[battery,8759] = 0.0"
      ]
     },
     "execution_count": 45,
     "metadata": {},
     "output_type": "execute_result"
    }
   ],
   "source": [
    "storage_const[:battery]"
   ]
  },
  {
   "cell_type": "markdown",
   "metadata": {},
   "source": [
    "`lake_res(m)` constraint on water for lake reservoirs:\n",
    "\n",
    "    lake_inflows(m) =g= sum(h$(month(h) = ord(m)),GENE('lake',h))/1000;"
   ]
  },
  {
   "cell_type": "code",
   "execution_count": 46,
   "metadata": {},
   "outputs": [],
   "source": [
    "@constraint(RES_FR, lake_res[mk=m],\n",
    "            lake_inflows[mk] >= sum(GENE[:lake,:].data[month_sym.==mk])/1000);"
   ]
  },
  {
   "cell_type": "markdown",
   "metadata": {},
   "source": [
    "`stored_cap(str,h)` maximum energy that is stored in storage units:"
   ]
  },
  {
   "cell_type": "code",
   "execution_count": 47,
   "metadata": {},
   "outputs": [],
   "source": [
    "@constraint(RES_FR, stored_cap[strk=str, hk=h],\n",
    "            STORED[strk,hk] <= CAPACITY[strk]);"
   ]
  },
  {
   "cell_type": "markdown",
   "metadata": {},
   "source": [
    "`storage_capa1(str,h)` the capacity with hourly charging relationship of storage:"
   ]
  },
  {
   "cell_type": "code",
   "execution_count": 48,
   "metadata": {},
   "outputs": [],
   "source": [
    "@constraint(RES_FR, storage_capa1[strk=str, hk=h],\n",
    "            S[strk] >= STORAGE[strk,hk]);"
   ]
  },
  {
   "cell_type": "markdown",
   "metadata": {},
   "source": [
    "`storage_capa2(str)` storage power limit:"
   ]
  },
  {
   "cell_type": "code",
   "execution_count": 49,
   "metadata": {},
   "outputs": [],
   "source": [
    "@constraint(RES_FR, storage_capa2[strk=str],\n",
    "            S[strk] <= CAPA[strk]);"
   ]
  },
  {
   "cell_type": "markdown",
   "metadata": {},
   "source": [
    "`biogas_const` maximum energy can be produced by biogas:"
   ]
  },
  {
   "cell_type": "code",
   "execution_count": 50,
   "metadata": {},
   "outputs": [],
   "source": [
    "@constraint(RES_FR, biogas_const,\n",
    "            sum(GENE[:biogas,:]) <= max_biogas*1000);"
   ]
  },
  {
   "cell_type": "markdown",
   "metadata": {},
   "source": [
    "`reserves(h)` FRR requirement:"
   ]
  },
  {
   "cell_type": "code",
   "execution_count": 51,
   "metadata": {},
   "outputs": [],
   "source": [
    "@constraint(RES_FR, reserves[hk=h],\n",
    "            sum(RSV[:,hk]) == sum(epsilon[vrek] * CAPA[vrek] for vrek in vre) +\n",
    "            demand[hk]*load_uncertainty*(1+delta));"
   ]
  },
  {
   "cell_type": "markdown",
   "metadata": {},
   "source": [
    "`adequacy(h)` supply/demand relation:"
   ]
  },
  {
   "cell_type": "code",
   "execution_count": 52,
   "metadata": {},
   "outputs": [],
   "source": [
    "@constraint(RES_FR, adequacy[hk=h],\n",
    "            sum(GENE[ncombk,hk] for ncombk in ncomb) + GENE[:gas,hk] >=\n",
    "            demand[hk] + sum(STORAGE[:,hk]));"
   ]
  },
  {
   "cell_type": "code",
   "execution_count": 53,
   "metadata": {},
   "outputs": [
    {
     "data": {
      "text/latex": [
       "adequacy[3] : $ GENE_{offshore,3} + GENE_{onshore,3} + GENE_{pv,3} + GENE_{river,3} + GENE_{lake,3} + GENE_{gas,3} + GENE_{phs,3} + GENE_{battery,3} - STORAGE_{phs,3} - STORAGE_{battery,3} - STORAGE_{methanation,3} \\geq 27.9874884 $"
      ],
      "text/plain": [
       "adequacy[3] : GENE[offshore,3] + GENE[onshore,3] + GENE[pv,3] + GENE[river,3] + GENE[lake,3] + GENE[gas,3] + GENE[phs,3] + GENE[battery,3] - STORAGE[phs,3] - STORAGE[battery,3] - STORAGE[methanation,3] ≥ 27.9874884"
      ]
     },
     "execution_count": 53,
     "metadata": {},
     "output_type": "execute_result"
    }
   ],
   "source": [
    "adequacy[3]"
   ]
  },
  {
   "cell_type": "markdown",
   "metadata": {},
   "source": [
    "`obj` the final objective function which is `COST`\n",
    "\n",
    "    COST                    =e=     (\n",
    "        sum(tec,(CAPA(tec)-capa_ex(tec))*capex(tec))+ \n",
    "        sum(str,CAPACITY(str)*capex_en(str))+\n",
    "        sum(tec,(CAPA(tec)*fOM(tec)))+ \n",
    "        sum(str,S(str)*(s_capex(str)+s_opex(str))) + \n",
    "        sum((tec,h),GENE(tec,h)*vOM(tec))\n",
    "        )/1000;"
   ]
  },
  {
   "cell_type": "code",
   "execution_count": 54,
   "metadata": {},
   "outputs": [],
   "source": [
    "@constraint(RES_FR, cost,\n",
    "            COST == (\n",
    "            sum( (CAPA[teck]-capa_ex[teck])*capex[teck] for teck in tec) +\n",
    "            sum( CAPACITY[strk]*capex_en[strk] for strk in str) +\n",
    "            sum( CAPA[teck]*fOM[teck] for teck in tec) +\n",
    "            sum( S[strk]*(s_capex[strk]+s_opex[strk]) for strk in str) +\n",
    "            sum( GENE[teck,hk]*vOM[teck] for teck in tec for hk in h)\n",
    "            )/1000 );"
   ]
  },
  {
   "cell_type": "code",
   "execution_count": 55,
   "metadata": {},
   "outputs": [],
   "source": [
    "@objective(RES_FR, Min, COST);"
   ]
  },
  {
   "cell_type": "markdown",
   "metadata": {},
   "source": [
    "### Solve\n",
    "\n",
    "- ~10 minutes with Clp\n",
    "- 13 min with HiGHS"
   ]
  },
  {
   "cell_type": "code",
   "execution_count": 56,
   "metadata": {},
   "outputs": [
    {
     "name": "stdout",
     "output_type": "stream",
     "text": [
      "Running HiGHS 1.5.1 [date: 1970-01-01, git hash: 93f1876e4]\n",
      "Copyright (c) 2023 HiGHS under MIT licence terms\n",
      "Presolving model\n",
      "166455 rows, 140172 cols, 556612 nonzeros\n",
      "157694 rows, 131411 cols, 556610 nonzeros\n",
      "Presolve : Reductions: rows 157694(-105132); columns 131411(-43806); elements 556610(-219025)\n",
      "Solving the presolved LP\n",
      "Using EKK dual simplex solver - serial\n",
      "  Iteration        Objective     Infeasibilities num(sum)\n",
      "          0     1.3562021707e-01 Pr: 17520(740.037) 0s\n",
      "       7373     9.1248034804e-01 Pr: 18172(1117.41); Du: 0(1.90138e-07) 5s\n",
      "       9907     9.9346201263e-01 Pr: 18169(8865.4); Du: 0(1.90138e-07) 10s\n",
      "      12103     1.0708573002e+00 Pr: 18132(10365.4); Du: 0(1.90138e-07) 15s\n",
      "      14020     1.1609033476e+00 Pr: 18109(4342.65); Du: 0(2.1073e-07) 21s\n",
      "      15672     1.2336340214e+00 Pr: 18109(4509.03); Du: 0(3.26122e-07) 26s\n",
      "      17590     1.3424197182e+00 Pr: 20170(29459.3); Du: 0(2.0152e-07) 31s\n",
      "      19132     1.4307743530e+00 Pr: 18089(5248.91); Du: 0(3.38891e-07) 37s\n",
      "      20685     1.5215359297e+00 Pr: 18086(1567.01); Du: 0(2.48813e-07) 42s\n",
      "      22089     1.6092222965e+00 Pr: 18093(14456.2); Du: 0(2.48813e-07) 48s\n",
      "      23492     1.6931208541e+00 Pr: 24220(3086.93); Du: 0(2.65326e-07) 53s\n",
      "      24766     1.7644551452e+00 Pr: 24261(5300.66); Du: 0(2.65326e-07) 59s\n",
      "      26122     1.8477273997e+00 Pr: 24280(16130.1); Du: 0(3.21056e-07) 64s\n",
      "      27400     1.9195683220e+00 Pr: 24320(15350.3); Du: 0(2.65326e-07) 69s\n",
      "      28605     1.9815082282e+00 Pr: 24413(23622.9); Du: 0(3.46982e-07) 75s\n",
      "      29829     2.0358546250e+00 Pr: 29340(9363.59); Du: 0(3.96894e-07) 80s\n",
      "      32563     2.0873984368e+00 Pr: 32082(74146.9); Du: 0(5.23467e-07) 86s\n",
      "      33808     2.1148720205e+00 Pr: 29964(10886.9); Du: 0(3.15534e-07) 91s\n",
      "      34948     2.1846733077e+00 Pr: 52832(82370.4); Du: 0(3.15534e-07) 97s\n",
      "      36985     2.3260055482e+00 Pr: 51038(16310.9); Du: 0(3.29807e-07) 102s\n",
      "      41178     5.6029748650e+00 Pr: 49206(10921.6); Du: 0(4.64178e-07) 108s\n",
      "      42682     5.6291032040e+00 Pr: 60513(1.22257e+06); Du: 0(3.61024e-07) 114s\n",
      "      43802     5.6577342962e+00 Pr: 32922(44828.4); Du: 0(3.21136e-07) 123s\n",
      "      44787     5.6670541824e+00 Pr: 65072(1.03859e+06); Du: 0(6.35799e-07) 130s\n",
      "      45414     5.6767506107e+00 Pr: 65361(2.03207e+06); Du: 0(7.02717e-07) 136s\n",
      "      46046     5.7121032686e+00 Pr: 60035(835544); Du: 0(5.59149e-07) 141s\n",
      "      46840     5.7319119762e+00 Pr: 61591(714136); Du: 0(5.70335e-07) 147s\n",
      "      47646     5.9117187734e+00 Pr: 45226(87716.6); Du: 0(9.67008e-07) 153s\n",
      "      48683     6.3670247159e+00 Pr: 37407(30335.6); Du: 0(7.27977e-07) 159s\n",
      "      49828     6.4270009166e+00 Pr: 57961(489328); Du: 0(5.76613e-07) 166s\n",
      "      51235     6.6102931809e+00 Pr: 37255(27069); Du: 0(6.2817e-07) 173s\n",
      "      52133     6.7675216662e+00 Pr: 37292(25258.3); Du: 0(7.06126e-07) 179s\n",
      "      53428     8.4445979968e+00 Pr: 36979(49458.5); Du: 0(8.43396e-07) 187s\n",
      "      54504     8.7298347218e+00 Pr: 55044(80178.4); Du: 0(7.866e-07) 193s\n",
      "      55823     8.8786733250e+00 Pr: 38223(77990.2); Du: 0(8.11696e-07) 202s\n",
      "      57309     9.0134333894e+00 Pr: 36447(81928.5); Du: 0(1.42756e-06) 211s\n",
      "      58335     9.1573917001e+00 Pr: 49101(223429); Du: 0(1.42756e-06) 218s\n",
      "      59768     9.3914892695e+00 Pr: 37939(270762); Du: 0(1.28931e-06) 226s\n",
      "      60520     9.6759864986e+00 Pr: 37723(392282); Du: 0(1.28931e-06) 232s\n",
      "      61251     9.9337999115e+00 Pr: 37640(395063); Du: 0(1.28931e-06) 238s\n",
      "      62485     1.0097895353e+01 Pr: 73556(89424.6); Du: 0(1.76608e-06) 245s\n",
      "      65050     1.0098580653e+01 Pr: 71370(88974.2); Du: 0(6.18247e-06) 256s\n",
      "      67365     1.0098876399e+01 Pr: 69321(88237.8); Du: 0(9.63656e-06) 268s\n",
      "      70269     1.0099435343e+01 Pr: 66790(87248.9); Du: 0(1.62285e-05) 285s\n",
      "      71435     1.0127155302e+01 Pr: 71434(282655); Du: 0(1.79467e-05) 291s\n",
      "      72586     1.0168942921e+01 Pr: 30429(618717); Du: 0(1.98291e-05) 300s\n",
      "      73731     1.0251675889e+01 Pr: 71235(278840); Du: 0(1.83923e-05) 309s\n",
      "      74778     1.0333314215e+01 Pr: 30306(146638); Du: 0(1.72222e-05) 316s\n",
      "      75750     1.0375948815e+01 Pr: 64365(178292); Du: 0(1.69081e-05) 324s\n",
      "      76778     1.0469887869e+01 Pr: 40568(497546); Du: 0(1.66145e-05) 330s\n",
      "      77958     1.0604540256e+01 Pr: 46228(221079); Du: 0(1.65529e-05) 336s\n",
      "      78781     1.0758808652e+01 Pr: 63327(73481.5); Du: 0(1.65651e-05) 343s\n",
      "      79775     1.0796808645e+01 Pr: 57598(115592); Du: 0(1.69926e-05) 349s\n",
      "      80837     1.0913438996e+01 Pr: 63845(6.40161e+06); Du: 0(1.65806e-05) 354s\n",
      "      81863     1.1110943609e+01 Pr: 58777(1.20218e+07); Du: 0(1.68418e-05) 360s\n",
      "      82864     1.1252986842e+01 Pr: 57284(4.02932e+06); Du: 0(1.68595e-05) 365s\n",
      "      84398     1.1454244615e+01 Pr: 36368(4.51568e+06); Du: 0(1.69444e-05) 372s\n",
      "      85830     1.1725084780e+01 Pr: 29255(986707); Du: 0(1.69054e-05) 378s\n",
      "      87171     1.1858020508e+01 Pr: 32446(219222); Du: 0(1.68342e-05) 384s\n",
      "      88603     1.2642082295e+01 Pr: 37187(7.45703e+06); Du: 0(1.72371e-05) 389s\n",
      "      89463     1.2872457601e+01 Pr: 43473(173913); Du: 0(1.70912e-05) 395s\n",
      "      90442     1.3151649604e+01 Pr: 42124(85737.4); Du: 0(1.78994e-05) 402s\n",
      "      91523     1.3210823319e+01 Pr: 37543(198870); Du: 0(1.80299e-05) 410s\n",
      "      93532     1.3823478816e+01 Pr: 39035(177610); Du: 0(1.7543e-05) 419s\n",
      "      94583     1.4731623893e+01 Pr: 67433(5.79069e+06); Du: 0(1.75496e-05) 426s\n",
      "      95270     1.4742084658e+01 Pr: 66777(670641); Du: 0(1.77419e-05) 431s\n",
      "      95805     1.4764656568e+01 Pr: 54407(153694); Du: 0(1.7667e-05) 436s\n",
      "      96667     1.5044964404e+01 Pr: 19638(130561); Du: 0(1.75839e-05) 442s\n",
      "      97593     1.5755426693e+01 Pr: 18200(26701.1); Du: 0(1.74605e-05) 448s\n",
      "      98606     1.5786950672e+01 Pr: 22510(15831.8); Du: 0(1.74042e-05) 455s\n",
      "      99689     1.5835702502e+01 Pr: 19005(18440.6); Du: 0(1.74724e-05) 462s\n",
      "     100455     1.6049175818e+01 Pr: 21634(19732.5); Du: 0(1.77822e-05) 468s\n",
      "     101871     1.6367948845e+01 Pr: 16978(39036.1); Du: 0(1.86943e-05) 475s\n",
      "     102991     1.6535418455e+01 Pr: 44580(42557.9); Du: 0(1.79878e-05) 482s\n",
      "     104135     1.6730134793e+01 Pr: 25121(828026); Du: 0(1.81646e-05) 489s\n",
      "     105828     1.6909455484e+01 Pr: 18798(680672); Du: 0(1.84206e-05) 499s\n",
      "     106500     1.6958848985e+01 Pr: 16828(11351.8); Du: 0(1.85473e-05) 504s\n",
      "     107743     1.7147515372e+01 Pr: 52326(84615.2); Du: 0(1.85597e-05) 513s\n",
      "     109199     1.7448507895e+01 Pr: 39333(30174.3); Du: 0(1.89147e-05) 523s\n",
      "     110004     1.7570141463e+01 Pr: 14818(15604.3); Du: 0(1.89474e-05) 528s\n",
      "     110917     1.7744250967e+01 Pr: 33100(47169); Du: 0(1.95181e-05) 534s\n",
      "     111861     1.8014274022e+01 Pr: 32704(103832); Du: 0(1.96099e-05) 541s\n",
      "     112753     1.8243071031e+01 Pr: 21248(17708); Du: 0(1.99693e-05) 547s\n",
      "     113997     1.8360896431e+01 Pr: 52874(51918.5); Du: 0(2.00825e-05) 555s\n",
      "     115034     1.8602815887e+01 Pr: 30411(73075.9); Du: 0(2.03193e-05) 563s\n",
      "     115844     1.8699897759e+01 Pr: 38411(156662); Du: 0(2.07385e-05) 569s\n",
      "     116692     1.8919310963e+01 Pr: 14434(21301.3); Du: 0(2.06018e-05) 575s\n",
      "     117887     1.9088992111e+01 Pr: 31802(144510); Du: 0(2.05395e-05) 583s\n",
      "     118880     1.9140677107e+01 Pr: 55547(291051); Du: 0(2.04627e-05) 590s\n",
      "     119705     1.9249594138e+01 Pr: 50331(49807.5); Du: 0(2.04353e-05) 597s\n",
      "     120464     1.9538261314e+01 Pr: 29309(108506); Du: 0(2.06099e-05) 602s\n",
      "     121415     1.9809744138e+01 Pr: 33261(29990.4); Du: 0(2.06271e-05) 607s\n",
      "     122371     1.9888948700e+01 Pr: 50701(32148.9); Du: 0(2.04908e-05) 613s\n",
      "     123955     2.0023680042e+01 Pr: 38584(16796.1); Du: 0(2.012e-05) 623s\n",
      "     124897     2.0297341112e+01 Pr: 31828(22418.9); Du: 0(2.01966e-05) 631s\n",
      "     125900     2.0442419448e+01 Pr: 51685(55510.3); Du: 0(2.02979e-05) 638s\n",
      "     126978     2.0508207521e+01 Pr: 51658(31976.9); Du: 0(2.05693e-05) 645s\n",
      "     127944     2.0553504417e+01 Pr: 13761(8230.99); Du: 0(2.04536e-05) 654s\n",
      "     129048     2.0599891437e+01 Pr: 39395(15013.5); Du: 0(2.03511e-05) 661s\n",
      "     130203     2.0745289131e+01 Pr: 50229(609257); Du: 0(2.05627e-05) 666s\n",
      "     131328     2.0820919039e+01 Pr: 20774(10405.7); Du: 0(2.1783e-05) 674s\n",
      "     132319     2.1067605064e+01 Pr: 29648(32945.4); Du: 0(2.26239e-05) 680s\n",
      "     133439     2.1262677880e+01 Pr: 58802(55886.8); Du: 0(2.27467e-05) 687s\n",
      "     134412     2.1344680287e+01 Pr: 59963(64019.4); Du: 0(2.02949e-05) 693s\n",
      "     135520     2.1412443425e+01 Pr: 27066(14551.3); Du: 0(2.06035e-05) 699s\n",
      "     136701     2.1507631393e+01 Pr: 39409(68833.9); Du: 0(2.07641e-05) 706s\n",
      "     137658     2.1558195957e+01 Pr: 14966(6474.86); Du: 0(2.05155e-05) 712s\n",
      "     138690     2.1617109075e+01 Pr: 22659(6520.9); Du: 0(2.14168e-05) 719s\n",
      "     139557     2.1679762788e+01 Pr: 9115(2355.53); Du: 0(2.1506e-05) 724s\n",
      "     140532     2.1753411116e+01 Pr: 7629(1499.77); Du: 0(2.14222e-05) 730s\n",
      "     141477     2.1826607999e+01 Pr: 26561(46431); Du: 0(2.17125e-05) 736s\n",
      "     142346     2.1862152366e+01 Pr: 7117(665.887); Du: 0(2.25854e-05) 741s\n",
      "     143274     2.1881833468e+01 Pr: 11069(3213.33); Du: 0(2.267e-05) 748s\n",
      "     144130     2.1901358782e+01 Pr: 6740(1094.66); Du: 0(2.24017e-05) 753s\n",
      "     145024     2.1918684072e+01 Pr: 20041(7679); Du: 0(2.22021e-05) 759s\n",
      "     146031     2.1939458762e+01 Pr: 4437(309.949); Du: 0(2.22995e-05) 766s\n",
      "     146943     2.1942267517e+01 Pr: 176(0.635933); Du: 0(2.20498e-05) 771s\n",
      "     147820     2.1836019085e+01 Pr: 0(0); Du: 531(132.854) 778s\n",
      "     148820     2.1834582853e+01 Pr: 0(0); Du: 357(21.5749) 786s\n",
      "     149779     2.1833546778e+01 Pr: 0(0); Du: 303(247.713) 792s\n",
      "     150582     2.1832990504e+01 Pr: 0(0); Du: 96(4.42094) 798s\n",
      "     151219     2.1832310296e+01 Pr: 0(0); Du: 24(134.445) 804s\n",
      "     151953     2.1831903268e+01 Pr: 0(0); Du: 205(9.69741) 810s\n",
      "     152201     2.1831847321e+01 Pr: 0(0); Du: 0(1.37866e-11) 812s\n",
      "     152201     2.1831847321e+01 Pr: 0(0); Du: 0(1.37866e-11) 812s\n",
      "     152201     2.1831847321e+01 Pr: 0(0); Du: 0(1.37866e-11) 812s\n",
      "Solving the original LP from the solution after postsolve\n",
      "Model   status      : Optimal\n",
      "Simplex   iterations: 152201\n",
      "Objective value     :  2.1831847321e+01\n",
      "HiGHS run time      :        812.88\n",
      "816.251009 seconds (3.82 M allocations: 304.131 MiB, 0.01% gc time, 0.28% compilation time)\n"
     ]
    }
   ],
   "source": [
    "@time optimize!(RES_FR);"
   ]
  },
  {
   "cell_type": "code",
   "execution_count": 57,
   "metadata": {},
   "outputs": [
    {
     "data": {
      "text/plain": [
       "OPTIMAL::TerminationStatusCode = 1"
      ]
     },
     "execution_count": 57,
     "metadata": {},
     "output_type": "execute_result"
    }
   ],
   "source": [
    "termination_status(RES_FR)"
   ]
  },
  {
   "cell_type": "markdown",
   "metadata": {},
   "source": [
    "Increase solver precision (quite fast: there is probably a warm start)"
   ]
  },
  {
   "cell_type": "code",
   "execution_count": 58,
   "metadata": {},
   "outputs": [],
   "source": [
    "#set_optimizer_attribute(RES_FR, \"PrimalTolerance\", 1e-10)\n",
    "#set_optimizer_attribute(RES_FR, \"DualTolerance\", 1e-10)\n",
    "#optimize!(RES_FR);"
   ]
  },
  {
   "cell_type": "markdown",
   "metadata": {},
   "source": [
    "## Results\n",
    "\n",
    "For comparison, we show (with cosmetic edits) the content of `2006.txt`, the file output from the GAMS model run"
   ]
  },
  {
   "cell_type": "markdown",
   "metadata": {},
   "source": [
    "Cost\n",
    "\n",
    "```\n",
    "I)Overall investment cost is       21.83b€\n",
    "```"
   ]
  },
  {
   "cell_type": "code",
   "execution_count": 64,
   "metadata": {},
   "outputs": [
    {
     "data": {
      "text/plain": [
       "21.83184732093488"
      ]
     },
     "execution_count": 64,
     "metadata": {},
     "output_type": "execute_result"
    }
   ],
   "source": [
    "value(COST) # Clp"
   ]
  },
  {
   "cell_type": "code",
   "execution_count": 59,
   "metadata": {},
   "outputs": [
    {
     "data": {
      "text/plain": [
       "21.831847320935143"
      ]
     },
     "execution_count": 59,
     "metadata": {},
     "output_type": "execute_result"
    }
   ],
   "source": [
    "value(COST) # HiGHS"
   ]
  },
  {
   "cell_type": "markdown",
   "metadata": {},
   "source": [
    "Installed capacities:\n",
    "\n",
    "```\n",
    "II)the Renewable capacity\n",
    "\n",
    "Offshore                       12.90 GW\n",
    "onsore                         79.39 GW\n",
    "PV                            121.77 GW\n",
    "run of river                    7.50 GW\n",
    "lake                           12.86 GW\n",
    "biogas                         33.11 GW\n",
    "gas                            33.11 GW\n",
    "PHS                             9.30 GW\n",
    "Battery                        20.06 GW\n",
    "methanation                    33.11 GW\n",
    "```"
   ]
  },
  {
   "cell_type": "code",
   "execution_count": 60,
   "metadata": {},
   "outputs": [
    {
     "data": {
      "text/plain": [
       "10×2 Matrix{Any}:\n",
       " :offshore      12.8981\n",
       " :onshore       79.3939\n",
       " :pv           121.774\n",
       " :river          7.5\n",
       " :lake          12.855\n",
       " :biogas        33.1064\n",
       " :gas           33.1064\n",
       " :phs            9.3\n",
       " :battery       20.0551\n",
       " :methanation   33.1064"
      ]
     },
     "execution_count": 60,
     "metadata": {},
     "output_type": "execute_result"
    }
   ],
   "source": [
    "CAPA_res = value.(CAPA)\n",
    "[tec CAPA_res] # GW"
   ]
  },
  {
   "cell_type": "markdown",
   "metadata": {},
   "source": [
    "Storage\n",
    "\n",
    "```\n",
    "III)Needed storage volume and storage charging power\n",
    "\n",
    "PHS Storage                   180.00 GWh\n",
    "Battery Storage                73.73 GWh\n",
    "methane storage             12576.24 GWh\n",
    "PHS Storage                     9.30 GW\n",
    "Battery Storage                20.06 GW\n",
    "methane storage                 7.66 GW\n",
    "```"
   ]
  },
  {
   "cell_type": "markdown",
   "metadata": {},
   "source": [
    "Energy capacity along max charging power and discharging (Generation) power:"
   ]
  },
  {
   "cell_type": "code",
   "execution_count": 61,
   "metadata": {},
   "outputs": [
    {
     "data": {
      "text/plain": [
       "3×4 Matrix{Any}:\n",
       " :phs            180.0      9.3       9.3\n",
       " :battery         73.7261  20.0551   20.0551\n",
       " :methanation  12465.5      7.66231  33.1064"
      ]
     },
     "execution_count": 61,
     "metadata": {},
     "output_type": "execute_result"
    }
   ],
   "source": [
    "CAPACITY_res = value.(CAPACITY) # GWh\n",
    "S_res = value.(S) # GW\n",
    "[str CAPACITY_res S_res CAPA_res[str]]"
   ]
  },
  {
   "cell_type": "markdown",
   "metadata": {},
   "source": [
    "<span style='background-color:#FFBBAA;'>**Warning**</span>: there is a 111 GWh difference on the  methanation storage capacity"
   ]
  },
  {
   "cell_type": "markdown",
   "metadata": {},
   "source": [
    "Reserves:\n",
    "```\n",
    "IV)Secondary reserve requirements\n",
    "\n",
    "lake                            8.09GW\n",
    "gas                             8.18GW\n",
    "Pumped Storage                  8.15GW\n",
    "Battery                         8.16GW\n",
    "```\n"
   ]
  },
  {
   "cell_type": "code",
   "execution_count": 63,
   "metadata": {},
   "outputs": [
    {
     "data": {
      "text/plain": [
       "4×2 Matrix{Any}:\n",
       " :lake     0.0\n",
       " :phs      1.0236\n",
       " :battery  8.17573\n",
       " :gas      8.16644"
      ]
     },
     "execution_count": 63,
     "metadata": {},
     "output_type": "execute_result"
    }
   ],
   "source": [
    "RSV_res = value.(RSV)\n",
    "# 'capacity allocated for reserve from each FRR tech in GW';\n",
    "reserve = [maximum(RSV_res[frrk, :]) for frrk in frr]\n",
    "[frr reserve]"
   ]
  },
  {
   "cell_type": "markdown",
   "metadata": {},
   "source": [
    "<span style='background-color:#FFBBAA;'>**Warning**</span>: huge difference in reserve usage from lake and phs with HiGHS. **TODO** check that reserve requirements are respected"
   ]
  },
  {
   "cell_type": "markdown",
   "metadata": {},
   "source": [
    "Total generation by tec:\n",
    "\n",
    "```\n",
    "V)Overall yearly energy generation of each technology\n",
    "\n",
    "Offshore                       59.37 TWh\n",
    "onsore                        225.83 TWh\n",
    "PV                            173.16 TWh\n",
    "run of river                   29.19 TWh\n",
    "lake                           15.82 TWh\n",
    "biogas                         15.00 TWh\n",
    "gas                            25.05 TWh\n",
    "phs                            20.93 TWh\n",
    "battery                        13.34 TWh\n",
    "Methanation                    10.05 TWh\n",
    "```"
   ]
  },
  {
   "cell_type": "code",
   "execution_count": 70,
   "metadata": {},
   "outputs": [
    {
     "data": {
      "text/plain": [
       "10×2 Matrix{Any}:\n",
       " :offshore      59.3653\n",
       " :onshore      225.832\n",
       " :pv           173.162\n",
       " :river         29.1868\n",
       " :lake          15.8155\n",
       " :biogas        15.0\n",
       " :gas           25.0505\n",
       " :phs           19.7063\n",
       " :battery       13.3403\n",
       " :methanation   10.0505"
      ]
     },
     "execution_count": 70,
     "metadata": {},
     "output_type": "execute_result"
    }
   ],
   "source": [
    "GENE_res = value.(GENE) # --- Clp --- \n",
    "# 'Overall yearly energy generated by the technology in TWh';\n",
    "gene_tec = DAArray(dropdims(sum(GENE_res.data,dims=2),dims=2)/1000, tec);\n",
    "[tec gene_tec]"
   ]
  },
  {
   "cell_type": "code",
   "execution_count": 64,
   "metadata": {},
   "outputs": [
    {
     "data": {
      "text/plain": [
       "10×2 Matrix{Any}:\n",
       " :offshore      59.3653\n",
       " :onshore      225.832\n",
       " :pv           173.162\n",
       " :river         29.1868\n",
       " :lake          15.8155\n",
       " :biogas        15.0\n",
       " :gas           25.0505\n",
       " :phs           19.7703\n",
       " :battery       13.3403\n",
       " :methanation   10.0505"
      ]
     },
     "execution_count": 64,
     "metadata": {},
     "output_type": "execute_result"
    }
   ],
   "source": [
    "GENE_res = value.(GENE)\n",
    "# 'Overall yearly energy generated by the technology in TWh';\n",
    "gene_tec = DAArray(dropdims(sum(GENE_res.data,dims=2),dims=2)/1000, tec);\n",
    "[tec gene_tec]"
   ]
  },
  {
   "cell_type": "markdown",
   "metadata": {},
   "source": [
    "<span style='background-color:#FFBBAA;'>**Warning**</span>: there is a 1.2 GWh difference on the yearly generaltion of PHS"
   ]
  },
  {
   "cell_type": "markdown",
   "metadata": {},
   "source": [
    "capacity factors:\n",
    "```\n",
    "Offshore                         0.53\n",
    "onsore                           0.32\n",
    "PV                               0.16\n",
    "run of river                     0.44\n",
    "lake                             0.14\n",
    "biogas                           0.05\n",
    "gas                              0.09\n",
    "```"
   ]
  },
  {
   "cell_type": "code",
   "execution_count": 65,
   "metadata": {},
   "outputs": [
    {
     "data": {
      "text/plain": [
       "7×2 Matrix{Any}:\n",
       " :offshore  0.525416\n",
       " :onshore   0.324709\n",
       " :pv        0.162328\n",
       " :river     0.444244\n",
       " :lake      0.140445\n",
       " :biogas    0.051722\n",
       " :gas       0.0863774"
      ]
     },
     "execution_count": 65,
     "metadata": {},
     "output_type": "execute_result"
    }
   ],
   "source": [
    "# load factor of generation technologies\n",
    "cf = DAArray([gene_tec[genk]*1000/(8760*CAPA_res[genk]) for genk in gen], gen)\n",
    "[gen cf]"
   ]
  },
  {
   "cell_type": "code",
   "execution_count": 66,
   "metadata": {},
   "outputs": [
    {
     "data": {
      "text/plain": [
       "2-dimensional DenseAxisArray{Float64,2,...} with index sets:\n",
       "    Dimension 1, [:phs, :battery, :methanation]\n",
       "    Dimension 2, 0:8759\n",
       "And data, a 3×8760 Matrix{Float64}:\n",
       "  0.0      0.0      0.0      6.66021  …  -0.0      -0.0      -0.0\n",
       " -0.0      0.0      0.0      0.0         -0.0      -0.0      -0.0\n",
       "  7.66231  7.66231  7.66231  7.66231      7.66231   7.66231   7.66231"
      ]
     },
     "execution_count": 66,
     "metadata": {},
     "output_type": "execute_result"
    }
   ],
   "source": [
    "STORED_res = value.(STORED)\n",
    "STORAGE_res = value.(STORAGE)"
   ]
  },
  {
   "cell_type": "markdown",
   "metadata": {},
   "source": [
    "```\n",
    "VI)more details\n",
    "\n",
    "LCOE for Offshore                      41.58 €/MWh\n",
    "LCOE for Onshore                       39.45 €/MWh\n",
    "LCOE for PV                            27.59 €/MWh\n",
    "LCOE for Run-of-river                  40.80 €/MWh\n",
    "LCOE for Lake                          98.84 €/MWh\n",
    "LCOE for Biogas                        82.00 €/MWh\n",
    "LCOE for Gas                           66.43 €/MWh\n",
    "LCOS for battery                       84.10 €/MWh\n",
    "LCOS for pumped storage                16.43 €/MWh\n",
    "LCOS for methanation                  109.34 €/MWh\n",
    "\n",
    "Load Curtailment       12.03% and the storage loss         6.49%\n",
    "LCOE of the system is        42.12 €/MWh or        51.69 €/MWh\n",
    "Average spot price of the system is        56.48 €/MWh\n",
    "```"
   ]
  },
  {
   "cell_type": "code",
   "execution_count": 67,
   "metadata": {},
   "outputs": [],
   "source": [
    "spot_price = 1000000*dual.(adequacy);"
   ]
  },
  {
   "cell_type": "code",
   "execution_count": 68,
   "metadata": {},
   "outputs": [
    {
     "data": {
      "text/plain": [
       "56.47651701517295"
      ]
     },
     "execution_count": 68,
     "metadata": {},
     "output_type": "execute_result"
    }
   ],
   "source": [
    "marginal_cost = sum(spot_price)/8760;\n",
    "marginal_cost # €/MWh"
   ]
  },
  {
   "cell_type": "markdown",
   "metadata": {},
   "source": [
    "Check adequacy constraint:"
   ]
  },
  {
   "cell_type": "code",
   "execution_count": 69,
   "metadata": {},
   "outputs": [
    {
     "data": {
      "text/plain": [
       "(-1.6653345369377348e-16, 0.0)"
      ]
     },
     "execution_count": 69,
     "metadata": {},
     "output_type": "execute_result"
    }
   ],
   "source": [
    "ΔGENE_gas = GENE_res[:gas,:] - GENE_res[:methanation,:] - GENE_res[:biogas,:]\n",
    "minimum(ΔGENE_gas), maximum(ΔGENE_gas)"
   ]
  },
  {
   "cell_type": "code",
   "execution_count": 70,
   "metadata": {},
   "outputs": [
    {
     "data": {
      "text/plain": [
       "(-6.252776074688882e-13, 103.6762381970639)"
      ]
     },
     "execution_count": 70,
     "metadata": {},
     "output_type": "execute_result"
    }
   ],
   "source": [
    "ΣGENE = sum(GENE_res[ncombk,:] for ncombk in ncomb) + GENE_res[:gas,:]\n",
    "ΣSTORAGE = sum(STORAGE_res[strk,:] for strk in str)\n",
    "ΔADEQ = ΣGENE - demand - ΣSTORAGE\n",
    "minimum(ΔADEQ), maximum(ΔADEQ) # 103 GW maximum power spillage/curtailment"
   ]
  },
  {
   "cell_type": "code",
   "execution_count": 71,
   "metadata": {},
   "outputs": [
    {
     "data": {
      "text/plain": [
       "62564.26399184008"
      ]
     },
     "execution_count": 71,
     "metadata": {},
     "output_type": "execute_result"
    }
   ],
   "source": [
    "sum(ΔADEQ) # GWh of spillage/curtailment"
   ]
  },
  {
   "cell_type": "markdown",
   "metadata": {},
   "source": [
    "### Plots"
   ]
  },
  {
   "cell_type": "code",
   "execution_count": 72,
   "metadata": {},
   "outputs": [
    {
     "data": {
      "image/png": "[encoded data removed]",
      "text/plain": [
       "Figure(PyObject <Figure size 640x480 with 2 Axes>)"
      ]
     },
     "metadata": {},
     "output_type": "display_data"
    }
   ],
   "source": [
    "fig, ax = plt.subplots(2,1, sharex=true)\n",
    "ax[1].set_title(\"Energy stored in each storage technology (GWh)\")\n",
    "ax[1].plot(h, STORED_res[:methanation,:].data', label=\"methanation\")\n",
    "ax[1].legend()\n",
    "\n",
    "ax[2].plot(h, STORED_res[:battery,:].data', label=\"batt\")\n",
    "ax[2].plot(h, STORED_res[:phs,:].data', label=\"phs\")\n",
    "ax[2].legend();"
   ]
  },
  {
   "cell_type": "markdown",
   "metadata": {},
   "source": [
    "Spot price: \n",
    "there is a huge peak in February"
   ]
  },
  {
   "cell_type": "code",
   "execution_count": 73,
   "metadata": {},
   "outputs": [
    {
     "data": {
      "image/png": "[encoded data removed]",
      "text/plain": [
       "Figure(PyObject <Figure size 640x480 with 1 Axes>)"
      ]
     },
     "metadata": {},
     "output_type": "display_data"
    },
    {
     "data": {
      "text/plain": [
       "(500.0, 1000.0)"
      ]
     },
     "execution_count": 73,
     "metadata": {},
     "output_type": "execute_result"
    }
   ],
   "source": [
    "plot(h,spot_price.data)\n",
    "xlim(500, 1000)"
   ]
  },
  {
   "cell_type": "code",
   "execution_count": 74,
   "metadata": {},
   "outputs": [
    {
     "data": {
      "image/png": "[encoded data removed]",
      "text/plain": [
       "Figure(PyObject <Figure size 640x480 with 1 Axes>)"
      ]
     },
     "metadata": {},
     "output_type": "display_data"
    }
   ],
   "source": [
    "plot(h,spot_price.data)\n",
    "ylim(-10, 200)\n",
    "title(\"Marginal electricity price (€/MWh)\");"
   ]
  }
 ],
 "metadata": {
  "@webio": {
   "lastCommId": null,
   "lastKernelId": null
  },
  "kernelspec": {
   "display_name": "Julia 1.8.5",
   "language": "julia",
   "name": "julia-1.8"
  },
  "language_info": {
   "file_extension": ".jl",
   "mimetype": "application/julia",
   "name": "julia",
   "version": "1.8.5"
  },
  "toc": {
   "base_numbering": 1,
   "nav_menu": {},
   "number_sections": true,
   "sideBar": true,
   "skip_h1_title": true,
   "title_cell": "Table of Contents",
   "title_sidebar": "Contents",
   "toc_cell": false,
   "toc_position": {
    "height": "calc(100% - 180px)",
    "left": "10px",
    "top": "150px",
    "width": "178.8px"
   },
   "toc_section_display": true,
   "toc_window_display": true
  }
 },
 "nbformat": 4,
 "nbformat_minor": 4
}
