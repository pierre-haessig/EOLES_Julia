{
 "cells": [
  {
   "cell_type": "markdown",
   "metadata": {},
   "source": [
    "# EOLES_elecRES in Julia\n",
    "\n",
    "[EOLES_elecRES](https://github.com/BehrangShirizadeh/EOLES_elecRES) ported to Julia, with the [JuMP]() package.\n",
    "\n",
    "Precisely: EOLES_elecRES.gms\n",
    "\n",
    "PH, Feb 2021"
   ]
  },
  {
   "cell_type": "code",
   "execution_count": 39,
   "metadata": {},
   "outputs": [
    {
     "name": "stderr",
     "output_type": "stream",
     "text": [
      "┌ Info: Precompiling PyPlot [d330b81b-6aea-500a-939a-2ce795aea3ee]\n",
      "└ @ Base loading.jl:1260\n"
     ]
    }
   ],
   "source": [
    "using CSV, DataFrames, PyPlot"
   ]
  },
  {
   "cell_type": "markdown",
   "metadata": {},
   "source": [
    "## Model data"
   ]
  },
  {
   "cell_type": "markdown",
   "metadata": {},
   "source": [
    "### Sets"
   ]
  },
  {
   "cell_type": "markdown",
   "metadata": {},
   "source": [
    "#### hours and months"
   ]
  },
  {
   "cell_type": "markdown",
   "metadata": {},
   "source": [
    "sets `h /0*8759/`\n",
    "\n",
    "         first(h)        'first hour'\n",
    "         last(h)         'last hour'\n",
    "         \n",
    "         first(h) = ord(h)=1;\n",
    "last(h) = ord(h)=card(h);\n",
    "\n",
    "alias(h,hh);"
   ]
  },
  {
   "cell_type": "code",
   "execution_count": 2,
   "metadata": {},
   "outputs": [
    {
     "data": {
      "text/plain": [
       "0:8759"
      ]
     },
     "execution_count": 2,
     "metadata": {},
     "output_type": "execute_result"
    }
   ],
   "source": [
    "h = 0:8759"
   ]
  },
  {
   "cell_type": "code",
   "execution_count": 3,
   "metadata": {},
   "outputs": [
    {
     "data": {
      "text/plain": [
       "12-element Array{Symbol,1}:\n",
       " :jan\n",
       " :feb\n",
       " :mar\n",
       " :apr\n",
       " :may\n",
       " :jun\n",
       " :jul\n",
       " :aug\n",
       " :sep\n",
       " :oct\n",
       " :nov\n",
       " :dec"
      ]
     },
     "execution_count": 3,
     "metadata": {},
     "output_type": "execute_result"
    }
   ],
   "source": [
    "m = [:jan, :feb, :mar, :apr, :may, :jun, :jul, :aug, :sep, :oct, :nov, :dec]"
   ]
  },
  {
   "cell_type": "markdown",
   "metadata": {},
   "source": [
    "#### technology sets"
   ]
  },
  {
   "cell_type": "markdown",
   "metadata": {},
   "source": [
    "All technologies"
   ]
  },
  {
   "cell_type": "code",
   "execution_count": 4,
   "metadata": {},
   "outputs": [
    {
     "data": {
      "text/plain": [
       "10-element Array{Symbol,1}:\n",
       " :offshore\n",
       " :onshore\n",
       " :pv\n",
       " :river\n",
       " :lake\n",
       " :biogas\n",
       " :gas\n",
       " :phs\n",
       " :battery\n",
       " :methanation"
      ]
     },
     "execution_count": 4,
     "metadata": {},
     "output_type": "execute_result"
    }
   ],
   "source": [
    "tec = [:offshore, :onshore, :pv, :river, :lake, :biogas, :gas, :phs, :battery, :methanation] "
   ]
  },
  {
   "cell_type": "markdown",
   "metadata": {},
   "source": [
    "Subsets of `tec`"
   ]
  },
  {
   "cell_type": "code",
   "execution_count": 8,
   "metadata": {},
   "outputs": [
    {
     "ename": "UndefVarError",
     "evalue": "UndefVarError: str not defined",
     "output_type": "error",
     "traceback": [
      "UndefVarError: str not defined",
      "",
      "Stacktrace:",
      " [1] top-level scope at In[8]:1"
     ]
    }
   ],
   "source": [
    "str"
   ]
  },
  {
   "cell_type": "code",
   "execution_count": 10,
   "metadata": {},
   "outputs": [],
   "source": [
    "# power plants\n",
    "gen = [:offshore, :onshore, :pv, :river, :lake, :biogas, :gas]\n",
    "# variable tecs\n",
    "vre = [:offshore, :onshore, :pv]\n",
    "# non-combustible generation\n",
    "ncomb = [:offshore, :onshore, :pv, :river, :lake, :phs, :battery]\n",
    "# combustible generation techs\n",
    "comb = [:biogas, :methanation] # Q: is it a bug. Should it be biogas and gas?\n",
    "# storage technologies\n",
    "str = [:phs, :battery, :methanation]\n",
    "# technologies for upward FRR\n",
    "frr = [:lake, :phs, :battery, :gas];"
   ]
  },
  {
   "cell_type": "markdown",
   "metadata": {},
   "source": [
    "### Parameters"
   ]
  },
  {
   "cell_type": "markdown",
   "metadata": {},
   "source": [
    "Original GAMS definition for months:\n",
    "```\n",
    "parameter month(h)  /0*743 1, 744*1439 2, 1440*2183 3, 2184*2903 4\n",
    "                    2904*3647 5, 3648*4367 6, 4368*5111 7, 5112*5855 8\n",
    "                    5856*6575 9, 6576*7319 10, 7320*8039 11, 8040*8759 12/\n",
    "```"
   ]
  },
  {
   "cell_type": "markdown",
   "metadata": {},
   "source": [
    "observe that February has 29 days, which is compensated by December having only 30:"
   ]
  },
  {
   "cell_type": "code",
   "execution_count": 35,
   "metadata": {},
   "outputs": [
    {
     "data": {
      "text/plain": [
       "(29.0, 30.0)"
      ]
     },
     "execution_count": 35,
     "metadata": {},
     "output_type": "execute_result"
    }
   ],
   "source": [
    "(1439 - 744 +1)/24, (8759 - 8040 +1)/24"
   ]
  },
  {
   "cell_type": "code",
   "execution_count": 42,
   "metadata": {},
   "outputs": [
    {
     "data": {
      "image/png": "[encoded data removed]",
      "text/plain": [
       "Figure(PyObject <Figure size 600x250 with 1 Axes>)"
      ]
     },
     "metadata": {},
     "output_type": "display_data"
    }
   ],
   "source": [
    "month = [\n",
    "     repeat([1], 31*24);  repeat([2], 29*24);  repeat([3], 31*24);  repeat([4], 30*24);\n",
    "     repeat([5], 31*24);  repeat([6], 30*24);  repeat([7], 31*24);  repeat([8], 31*24);\n",
    "     repeat([9], 30*24); repeat([10], 31*24); repeat([11], 30*24); repeat([12], 30*24)\n",
    "]\n",
    "\n",
    "figure(figsize=(6,2.5))\n",
    "plot(h, month);"
   ]
  },
  {
   "cell_type": "markdown",
   "metadata": {},
   "source": [
    "parameter `load_factor(vre,h)` 'Production profiles of VRE'\n",
    "\n",
    "from file `inputs/vre_profiles2006.csv`"
   ]
  },
  {
   "cell_type": "code",
   "execution_count": 55,
   "metadata": {},
   "outputs": [
    {
     "data": {
      "text/html": [
       "<table class=\"data-frame\"><thead><tr><th></th><th>vre</th><th>hour</th><th>cf</th></tr><tr><th></th><th>String</th><th>Int64</th><th>Float64</th></tr></thead><tbody><p>5 rows × 3 columns</p><tr><th>1</th><td>offshore</td><td>0</td><td>0.865143</td></tr><tr><th>2</th><td>offshore</td><td>1</td><td>0.88</td></tr><tr><th>3</th><td>offshore</td><td>2</td><td>0.88</td></tr><tr><th>4</th><td>offshore</td><td>3</td><td>0.873429</td></tr><tr><th>5</th><td>offshore</td><td>4</td><td>0.852</td></tr></tbody></table>"
      ],
      "text/latex": [
       "\\begin{tabular}{r|ccc}\n",
       "\t& vre & hour & cf\\\\\n",
       "\t\\hline\n",
       "\t& String & Int64 & Float64\\\\\n",
       "\t\\hline\n",
       "\t1 & offshore & 0 & 0.865143 \\\\\n",
       "\t2 & offshore & 1 & 0.88 \\\\\n",
       "\t3 & offshore & 2 & 0.88 \\\\\n",
       "\t4 & offshore & 3 & 0.873429 \\\\\n",
       "\t5 & offshore & 4 & 0.852 \\\\\n",
       "\\end{tabular}\n"
      ],
      "text/plain": [
       "\u001b[1m5×3 DataFrame\u001b[0m\n",
       "\u001b[1m Row \u001b[0m│\u001b[1m vre      \u001b[0m\u001b[1m hour  \u001b[0m\u001b[1m cf       \u001b[0m\n",
       "\u001b[1m     \u001b[0m│\u001b[90m String   \u001b[0m\u001b[90m Int64 \u001b[0m\u001b[90m Float64  \u001b[0m\n",
       "─────┼───────────────────────────\n",
       "   1 │ offshore      0  0.865143\n",
       "   2 │ offshore      1  0.88\n",
       "   3 │ offshore      2  0.88\n",
       "   4 │ offshore      3  0.873429\n",
       "   5 │ offshore      4  0.852"
      ]
     },
     "execution_count": 55,
     "metadata": {},
     "output_type": "execute_result"
    }
   ],
   "source": [
    "load_factor = DataFrame(CSV.File(\"inputs/vre_profiles2006.csv\", header=[\"vre\", \"hour\", \"cf\"]))\n",
    "load_factor[1:5,:]"
   ]
  },
  {
   "cell_type": "code",
   "execution_count": 56,
   "metadata": {},
   "outputs": [
    {
     "data": {
      "text/html": [
       "<table class=\"data-frame\"><thead><tr><th></th><th>hour</th><th>offshore</th><th>onshore</th><th>pv</th></tr><tr><th></th><th>Int64</th><th>Float64?</th><th>Float64?</th><th>Float64?</th></tr></thead><tbody><p>5 rows × 4 columns</p><tr><th>1</th><td>0</td><td>0.865143</td><td>0.511702</td><td>0.0</td></tr><tr><th>2</th><td>1</td><td>0.88</td><td>0.52791</td><td>0.0</td></tr><tr><th>3</th><td>2</td><td>0.88</td><td>0.537973</td><td>0.0</td></tr><tr><th>4</th><td>3</td><td>0.873429</td><td>0.541571</td><td>0.0</td></tr><tr><th>5</th><td>4</td><td>0.852</td><td>0.538737</td><td>0.0</td></tr></tbody></table>"
      ],
      "text/latex": [
       "\\begin{tabular}{r|cccc}\n",
       "\t& hour & offshore & onshore & pv\\\\\n",
       "\t\\hline\n",
       "\t& Int64 & Float64? & Float64? & Float64?\\\\\n",
       "\t\\hline\n",
       "\t1 & 0 & 0.865143 & 0.511702 & 0.0 \\\\\n",
       "\t2 & 1 & 0.88 & 0.52791 & 0.0 \\\\\n",
       "\t3 & 2 & 0.88 & 0.537973 & 0.0 \\\\\n",
       "\t4 & 3 & 0.873429 & 0.541571 & 0.0 \\\\\n",
       "\t5 & 4 & 0.852 & 0.538737 & 0.0 \\\\\n",
       "\\end{tabular}\n"
      ],
      "text/plain": [
       "\u001b[1m5×4 DataFrame\u001b[0m\n",
       "\u001b[1m Row \u001b[0m│\u001b[1m hour  \u001b[0m\u001b[1m offshore \u001b[0m\u001b[1m onshore  \u001b[0m\u001b[1m pv       \u001b[0m\n",
       "\u001b[1m     \u001b[0m│\u001b[90m Int64 \u001b[0m\u001b[90m Float64? \u001b[0m\u001b[90m Float64? \u001b[0m\u001b[90m Float64? \u001b[0m\n",
       "─────┼─────────────────────────────────────\n",
       "   1 │     0  0.865143  0.511702       0.0\n",
       "   2 │     1  0.88      0.52791        0.0\n",
       "   3 │     2  0.88      0.537973       0.0\n",
       "   4 │     3  0.873429  0.541571       0.0\n",
       "   5 │     4  0.852     0.538737       0.0"
      ]
     },
     "execution_count": 56,
     "metadata": {},
     "output_type": "execute_result"
    }
   ],
   "source": [
    "load_factor_wide = unstack(load_factor, :hour, :vre, :cf)\n",
    "load_factor_wide[1:5,:]"
   ]
  },
  {
   "cell_type": "code",
   "execution_count": 57,
   "metadata": {},
   "outputs": [
    {
     "data": {
      "text/plain": [
       "((26280, 3), (8760, 4))"
      ]
     },
     "execution_count": 57,
     "metadata": {},
     "output_type": "execute_result"
    }
   ],
   "source": [
    "size(load_factor), size(load_factor_wide)"
   ]
  },
  {
   "cell_type": "markdown",
   "metadata": {},
   "source": [
    "Notice that the data type is `Union{Missing, Float64}` rather than `Float64`. Are there missing bits? Answer: no. Counting gives 0, and conversion to Float64 does not fail."
   ]
  },
  {
   "cell_type": "code",
   "execution_count": 58,
   "metadata": {},
   "outputs": [
    {
     "data": {
      "text/plain": [
       "5-element Array{Union{Missing, Float64},1}:\n",
       " 0.865142857\n",
       " 0.88\n",
       " 0.88\n",
       " 0.873428571\n",
       " 0.852"
      ]
     },
     "execution_count": 58,
     "metadata": {},
     "output_type": "execute_result"
    }
   ],
   "source": [
    "load_factor_wide.offshore[1:5]"
   ]
  },
  {
   "cell_type": "code",
   "execution_count": 59,
   "metadata": {},
   "outputs": [
    {
     "data": {
      "text/plain": [
       "0"
      ]
     },
     "execution_count": 59,
     "metadata": {},
     "output_type": "execute_result"
    }
   ],
   "source": [
    "length(findall(x -> ismissing(x), load_factor_wide.pv))"
   ]
  },
  {
   "cell_type": "code",
   "execution_count": 60,
   "metadata": {},
   "outputs": [
    {
     "data": {
      "text/plain": [
       "3×8760 LinearAlgebra.Adjoint{Float64,Array{Float64,2}}:\n",
       " 0.865143  0.88     0.88      0.873429  …  0.990286  0.991     0.988143\n",
       " 0.511702  0.52791  0.537973  0.541571     0.826158  0.825222  0.818481\n",
       " 0.0       0.0      0.0       0.0          0.0       0.0       0.0"
      ]
     },
     "execution_count": 60,
     "metadata": {},
     "output_type": "execute_result"
    }
   ],
   "source": [
    "load_factor = convert(Matrix{Float64}, load_factor_wide[:,2:end])'\n",
    "load_factor"
   ]
  },
  {
   "cell_type": "code",
   "execution_count": 64,
   "metadata": {},
   "outputs": [
    {
     "data": {
      "image/png": "[encoded data removed]",
      "text/plain": [
       "Figure(PyObject <Figure size 1000x300 with 1 Axes>)"
      ]
     },
     "metadata": {},
     "output_type": "display_data"
    }
   ],
   "source": [
    "figure(figsize=(10, 3))\n",
    "plot(h, load_factor')\n",
    "tight_layout;"
   ]
  },
  {
   "cell_type": "markdown",
   "metadata": {},
   "source": [
    "Parameter `demand(h)` 'demand profile in each hour in GW'\n",
    "\n",
    "from file `inputs/demand2050_ademe.csv`"
   ]
  },
  {
   "cell_type": "code",
   "execution_count": 49,
   "metadata": {},
   "outputs": [
    {
     "data": {
      "text/plain": [
       "8760-element Array{Float64,1}:\n",
       " 28.6900142\n",
       " 31.2084578\n",
       " 27.6996061\n",
       " 27.9874884\n",
       " 28.1626729\n",
       " 28.0213627\n",
       " 29.0016469\n",
       " 27.7816746\n",
       " 31.1353806\n",
       " 37.2348662\n",
       " 40.0628793\n",
       " 43.6825651\n",
       " 46.7337019\n",
       "  ⋮\n",
       " 46.2840474\n",
       " 45.3514373\n",
       " 39.8355295\n",
       " 35.6773985\n",
       " 32.6176733\n",
       " 33.4135223\n",
       " 35.53334\n",
       " 38.6087921\n",
       " 39.3380623\n",
       " 36.7066712\n",
       " 33.2898536\n",
       " 28.6056381"
      ]
     },
     "execution_count": 49,
     "metadata": {},
     "output_type": "execute_result"
    }
   ],
   "source": [
    "df = DataFrame(CSV.File(\"inputs/demand2050_ademe.csv\", header=[\"hour\", \"demand\"]))\n",
    "demand = convert(Vector, df[:,2]);"
   ]
  },
  {
   "cell_type": "code",
   "execution_count": 54,
   "metadata": {},
   "outputs": [
    {
     "data": {
      "image/png": "[encoded data removed]",
      "text/plain": [
       "Figure(PyObject <Figure size 1000x300 with 1 Axes>)"
      ]
     },
     "metadata": {},
     "output_type": "display_data"
    }
   ],
   "source": [
    "figure(figsize=(10, 3))\n",
    "plot(h, demand)\n",
    "tight_layout()"
   ]
  },
  {
   "cell_type": "code",
   "execution_count": null,
   "metadata": {},
   "outputs": [],
   "source": [
    "Parameter lake_inflows(m) 'monthly lake inflows in GWh'\n",
    "\n",
    "$ondelim\n",
    "$include  inputs/lake_inflows.csv\n",
    "$offdelim\n",
    "/ ;"
   ]
  },
  {
   "cell_type": "code",
   "execution_count": null,
   "metadata": {},
   "outputs": [],
   "source": [
    "parameter gene_river(h) 'hourly run of river power generation in GWh'\n",
    "/\n",
    "$ondelim\n",
    "$include  inputs/run_of_river.csv\n",
    "$offdelim\n",
    "/ ;"
   ]
  },
  {
   "cell_type": "code",
   "execution_count": null,
   "metadata": {},
   "outputs": [],
   "source": [
    "parameter epsilon(vre) 'additional FRR requirement for variable renewable energies because of forecast errors'\n",
    "/\n",
    "$ondelim\n",
    "$include  inputs/reserve_requirements.csv\n",
    "$offdelim\n",
    "/ ;"
   ]
  },
  {
   "cell_type": "code",
   "execution_count": null,
   "metadata": {},
   "outputs": [],
   "source": [
    "parameter capa_ex(tec) 'existing capacities of the technologies by December 2017 in GW'\n",
    "/\n",
    "$ondelim\n",
    "$include  inputs/existing_capas.csv\n",
    "$offdelim\n",
    "/ ;"
   ]
  },
  {
   "cell_type": "code",
   "execution_count": null,
   "metadata": {},
   "outputs": [],
   "source": [
    "parameter capa_max(tec) 'maximum capacities of the technologies in GW'\n",
    "/\n",
    "$ondelim\n",
    "$include  inputs/max_capas.csv\n",
    "$offdelim\n",
    "/ ;"
   ]
  },
  {
   "cell_type": "code",
   "execution_count": null,
   "metadata": {},
   "outputs": [],
   "source": [
    "parameter capex(tec) 'annualized power capex cost in M€/GW/year'\n",
    "/\n",
    "$ondelim\n",
    "$include  inputs/annuities.csv\n",
    "$offdelim\n",
    "/ ;"
   ]
  },
  {
   "cell_type": "code",
   "execution_count": null,
   "metadata": {},
   "outputs": [],
   "source": [
    "parameter capex_en(str) 'annualized energy capex cost of storage technologies in M€/GWh/year'\n",
    "/\n",
    "$ondelim\n",
    "$include  inputs/str_annuities.csv\n",
    "$offdelim\n",
    "/ ;"
   ]
  },
  {
   "cell_type": "code",
   "execution_count": null,
   "metadata": {},
   "outputs": [],
   "source": [
    "parameter fOM(tec) 'annualized fixed operation and maintenance costs M€/GW/year'\n",
    "/\n",
    "$ondelim\n",
    "$include  inputs/fO&M.csv\n",
    "$offdelim\n",
    "/ ;"
   ]
  },
  {
   "cell_type": "code",
   "execution_count": null,
   "metadata": {},
   "outputs": [],
   "source": [
    "Parameter vOM(tec) 'Variable operation and maintenance costs in M€/GWh'\n",
    "/\n",
    "$ondelim\n",
    "$include  inputs/vO&M.csv\n",
    "$offdelim\n",
    "/ ;"
   ]
  },
  {
   "cell_type": "markdown",
   "metadata": {},
   "source": [
    "```gams\n",
    "parameter s_capex(str) 'charging related annuity of storage in M€/GW/year' /PHS 0, battery 0, methanation 84.16086/;\n",
    "parameter s_opex(str)    'charging related fOM of storage in M€/GW/year'   /PHS 0, battery 0, methanation 59.25/;\n",
    "parameter eta_in(str) 'charging efifciency of storage technologies' /PHS 0.95, battery 0.9, methanation 0.59/;\n",
    "parameter eta_out(str) 'discharging efficiency of storage technolgoies' /PHS 0.9, battery 0.95, methanation 0.45/;\n",
    "scalar pump_capa 'pumping capacity in GW' /9.3/;\n",
    "scalar max_phs 'maximum volume of energy can be stored in PHS reservoir in TWh' /0.18/;\n",
    "scalar max_biogas 'maxium energy can be generated by biogas in TWh' /15/;\n",
    "scalar load_uncertainty 'uncertainty coefficient for hourly demand' /0.01/;\n",
    "scalar delta 'load variation factor'     /0.1/;\n",
    "parameter fixed_costs(tec) 'yearly fixed cost of each tec in M€/GW/year' ;\n",
    "fixed_costs(tec) = capex(tec) + fOM(tec);\n",
    "```"
   ]
  },
  {
   "cell_type": "markdown",
   "metadata": {},
   "source": [
    "## Model"
   ]
  },
  {
   "cell_type": "markdown",
   "metadata": {},
   "source": [
    "### Variables"
   ]
  },
  {
   "cell_type": "markdown",
   "metadata": {},
   "source": [
    "```\n",
    "variables        GENE(tec,h)     'hourly energy generation in TWh'\n",
    "                 CAPA(tec)       'overal yearly installed capacity in GW'\n",
    "                 STORAGE(str,h)  'hourly electricity input of battery storage GW'\n",
    "                 S(str)          'charging power capacity of each storage technology'\n",
    "                 STORED(str,h)   'energy stored in each storage technology in GWh'\n",
    "                 CAPACITY(str)   'energy volume of storage technologies in GWh'\n",
    "                 RSV(frr,h)      'required upward frequency restoration reserve in GW'\n",
    "                 COST            'final investment cost in b€'\n",
    "\n",
    "positive variables GENE(tec,h),CAPA(tec),STORAGE(str,h), S(str),STORED(str,h),CAPACITY(str),RSV(frr,h);\n",
    "```"
   ]
  },
  {
   "cell_type": "markdown",
   "metadata": {},
   "source": [
    "### Equations"
   ]
  },
  {
   "cell_type": "markdown",
   "metadata": {},
   "source": [
    "```\n",
    "equations        gene_vre        'variables renewable profiles generation'\n",
    "                 gene_capa       'capacity and genration relation for technologies'\n",
    "                 combustion      'the relationship of combustible technologies'\n",
    "                 capa_frr        'capacity needed for the secondary reserve requirements'\n",
    "                 storing         'the definition of stored energy in the storage options'\n",
    "                 storage_const   'storage in the first hour is equal to the storage in the last hour'\n",
    "                 lake_res        'constraint on water for lake reservoirs'\n",
    "                 stored_cap      'maximum energy that is stored in storage units'\n",
    "                 storage_capa1   'the capacity with hourly charging relationship of storage'\n",
    "                 storage_capa2   'storage power limit'\n",
    "                 biogas_const    'maximum energy can be produced by biogas'\n",
    "                 reserves        'FRR requirement'\n",
    "                 adequacy        'supply/demand relation'\n",
    "                 obj             'the final objective function which is COST';\n",
    "\n",
    "gene_vre(vre,h)..                GENE(vre,h)             =e=     CAPA(vre)*load_factor(vre,h);\n",
    "gene_capa(tec,h)..               CAPA(tec)               =g=     GENE(tec,h);\n",
    "combustion(h)..                  GENE('gas',h)           =e=     sum(comb,GENE(comb,h));\n",
    "capa_frr(frr,h)..                CAPA(frr)               =g=     GENE(frr,h) + RSV(frr,h);\n",
    "storing(h,h+1,str)..             STORED(str,h+1)         =e=     STORED(str,h) + STORAGE(str,h)*eta_in(str) - GENE(str,h)/eta_out(str);\n",
    "storage_const(str,first,last)..  STORED(str,first)       =e=     STORED(str,last)+STORAGE(str,last)*eta_in(str)-GENE(str,last)/eta_out(str);\n",
    "lake_res(m)..                    lake_inflows(m)         =g=     sum(h$(month(h) = ord(m)),GENE('lake',h))/1000;\n",
    "stored_cap(str,h)..              STORED(str,h)           =l=     CAPACITY(str);\n",
    "storage_capa1(str,h)..           S(str)                  =g=     STORAGE(str,h);\n",
    "storage_capa2(str)..             S(str)                  =l=     CAPA(str);\n",
    "biogas_const..                   sum(h,GENE('biogas',h)) =l=     max_biogas*1000;\n",
    "reserves(h)..                    sum(frr, RSV(frr,h))    =e=     sum(vre,epsilon(vre)*CAPA(vre))+ demand(h)*load_uncertainty*(1+delta);\n",
    "adequacy(h)..                    sum(ncomb,GENE(ncomb,h))+GENE('gas',h)    =g=     demand(h)+sum(str,STORAGE(str,h)) ;\n",
    "obj..                            COST                    =e=     (sum(tec,(CAPA(tec)-capa_ex(tec))*capex(tec))+ sum(str,CAPACITY(str)*capex_en(str))+sum(tec,(CAPA(tec)*fOM(tec)))+ sum(str,S(str)*(s_capex(str)+s_opex(str))) + sum((tec,h),GENE(tec,h)*vOM(tec)))/1000;\n",
    "```"
   ]
  }
 ],
 "metadata": {
  "@webio": {
   "lastCommId": null,
   "lastKernelId": null
  },
  "kernelspec": {
   "display_name": "Julia 1.4.2",
   "language": "julia",
   "name": "julia-1.4"
  },
  "language_info": {
   "file_extension": ".jl",
   "mimetype": "application/julia",
   "name": "julia",
   "version": "1.4.2"
  },
  "toc": {
   "base_numbering": 1,
   "nav_menu": {},
   "number_sections": true,
   "sideBar": true,
   "skip_h1_title": true,
   "title_cell": "Table of Contents",
   "title_sidebar": "Contents",
   "toc_cell": false,
   "toc_position": {},
   "toc_section_display": true,
   "toc_window_display": true
  }
 },
 "nbformat": 4,
 "nbformat_minor": 4
}
